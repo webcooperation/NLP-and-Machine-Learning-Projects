{
 "cells": [
  {
   "attachments": {
    "careerera_logo.png": {
     "image/png": "[encoded data removed]"
    }
   },
   "cell_type": "markdown",
   "id": "5fff909a",
   "metadata": {},
   "source": [
    "![careerera_logo.png](attachment:careerera_logo.png)"
   ]
  },
  {
   "cell_type": "markdown",
   "id": "51f1c748",
   "metadata": {},
   "source": [
    "# <span style=\"color:blue\"> ASSIGNMENT QUESTIONS (Ensemble Learning)</span>"
   ]
  },
  {
   "cell_type": "markdown",
   "id": "e4e6c7b4",
   "metadata": {},
   "source": [
    "#### Question 1: predict turbine energy yield (TEY) with ambient variables as features using Random Forest Regressor.\n",
    "Link to download data: https://drive.google.com/file/d/1dbzv01StVVk0g1HLIHsmJ0IEBVChdKoy/view?usp=sharing\n",
    "\n",
    "The dataset contains 36733 instances of 11 sensor measures aggregated over one hour (by means of average or sum) from a gas turbine. \n",
    "\n",
    "The Dataset includes gas turbine parameters (such as Turbine Inlet Temperature and Compressor Discharge pressure) in addition to the ambient variables.\n",
    "\n",
    "Attribute Information:\n",
    "\n",
    "The explanations of sensor measurements and their brief statistics are given below.\n",
    "\n",
    "- Variable (Abbr.) Unit Min Max Mean\n",
    "- Ambient temperature (AT) C â€“6.23 37.10 17.71\n",
    "- Ambient pressure (AP) mbar 985.85 1036.56 1013.07\n",
    "- Ambient humidity (AH) (%) 24.08 100.20 77.87\n",
    "- Air filter difference pressure (AFDP) mbar 2.09 7.61 3.93\n",
    "- Gas turbine exhaust pressure (GTEP) mbar 17.70 40.72 25.56\n",
    "- Turbine inlet temperature (TIT) C 1000.85 1100.89 1081.43\n",
    "- Turbine after temperature (TAT) C 511.04 550.61 546.16\n",
    "- Compressor discharge pressure (CDP) mbar 9.85 15.16 12.06\n",
    "- Turbine energy yield (TEY) MWH 100.02 179.50 133.51\n",
    "- Carbon monoxide (CO) mg/m3 0.00 44.10 2.37\n",
    "- Nitrogen oxides (NOx) mg/m3 25.90 119.91 65.29"
   ]
  },
  {
   "cell_type": "code",
   "execution_count": 3,
   "id": "64142e03",
   "metadata": {},
   "outputs": [],
   "source": [
    "#write your code here............\n",
    "import pandas as pd\n",
    "from sklearn import tree\n",
    "from sklearn.linear_model import LogisticRegression\n",
    "from sklearn.naive_bayes import GaussianNB\n",
    "from sklearn.svm import SVC\n",
    "from sklearn.ensemble import StackingClassifier\n",
    "from sklearn.metrics import accuracy_score\n",
    "from sklearn.model_selection import train_test_split\n",
    "from sklearn.ensemble import (RandomForestClassifier, ExtraTreesClassifier, BaggingClassifier)\n",
    "import matplotlib.pyplot as plt\n",
    "import numpy as np\n",
    "import seaborn as sns"
   ]
  },
  {
   "cell_type": "code",
   "execution_count": 4,
   "id": "d016cd4c",
   "metadata": {},
   "outputs": [
    {
     "data": {
      "text/html": [
       "<div>\n",
       "<style scoped>\n",
       "    .dataframe tbody tr th:only-of-type {\n",
       "        vertical-align: middle;\n",
       "    }\n",
       "\n",
       "    .dataframe tbody tr th {\n",
       "        vertical-align: top;\n",
       "    }\n",
       "\n",
       "    .dataframe thead th {\n",
       "        text-align: right;\n",
       "    }\n",
       "</style>\n",
       "<table border=\"1\" class=\"dataframe\">\n",
       "  <thead>\n",
       "    <tr style=\"text-align: right;\">\n",
       "      <th></th>\n",
       "      <th>AT</th>\n",
       "      <th>AP</th>\n",
       "      <th>AH</th>\n",
       "      <th>AFDP</th>\n",
       "      <th>GTEP</th>\n",
       "      <th>TIT</th>\n",
       "      <th>TAT</th>\n",
       "      <th>TEY</th>\n",
       "      <th>CDP</th>\n",
       "      <th>CO</th>\n",
       "      <th>NOX</th>\n",
       "    </tr>\n",
       "  </thead>\n",
       "  <tbody>\n",
       "    <tr>\n",
       "      <th>12794</th>\n",
       "      <td>28.1760</td>\n",
       "      <td>1013.5</td>\n",
       "      <td>59.647</td>\n",
       "      <td>4.0944</td>\n",
       "      <td>25.924</td>\n",
       "      <td>1093.5</td>\n",
       "      <td>549.67</td>\n",
       "      <td>133.79</td>\n",
       "      <td>12.234</td>\n",
       "      <td>0.18162</td>\n",
       "      <td>61.185</td>\n",
       "    </tr>\n",
       "    <tr>\n",
       "      <th>490</th>\n",
       "      <td>7.1127</td>\n",
       "      <td>1002.7</td>\n",
       "      <td>86.013</td>\n",
       "      <td>5.8328</td>\n",
       "      <td>34.339</td>\n",
       "      <td>1099.8</td>\n",
       "      <td>526.46</td>\n",
       "      <td>165.26</td>\n",
       "      <td>14.140</td>\n",
       "      <td>0.54695</td>\n",
       "      <td>70.941</td>\n",
       "    </tr>\n",
       "    <tr>\n",
       "      <th>10556</th>\n",
       "      <td>24.4780</td>\n",
       "      <td>1017.0</td>\n",
       "      <td>66.887</td>\n",
       "      <td>4.4326</td>\n",
       "      <td>30.912</td>\n",
       "      <td>1099.9</td>\n",
       "      <td>535.78</td>\n",
       "      <td>152.33</td>\n",
       "      <td>13.637</td>\n",
       "      <td>1.03020</td>\n",
       "      <td>53.628</td>\n",
       "    </tr>\n",
       "    <tr>\n",
       "      <th>9033</th>\n",
       "      <td>5.3341</td>\n",
       "      <td>1024.0</td>\n",
       "      <td>88.143</td>\n",
       "      <td>4.1669</td>\n",
       "      <td>23.791</td>\n",
       "      <td>1085.6</td>\n",
       "      <td>550.08</td>\n",
       "      <td>134.66</td>\n",
       "      <td>11.896</td>\n",
       "      <td>0.72808</td>\n",
       "      <td>60.380</td>\n",
       "    </tr>\n",
       "    <tr>\n",
       "      <th>6708</th>\n",
       "      <td>16.3570</td>\n",
       "      <td>1017.7</td>\n",
       "      <td>93.184</td>\n",
       "      <td>2.2379</td>\n",
       "      <td>19.074</td>\n",
       "      <td>1053.2</td>\n",
       "      <td>548.94</td>\n",
       "      <td>109.32</td>\n",
       "      <td>10.445</td>\n",
       "      <td>4.43180</td>\n",
       "      <td>62.756</td>\n",
       "    </tr>\n",
       "    <tr>\n",
       "      <th>9804</th>\n",
       "      <td>10.6270</td>\n",
       "      <td>1008.9</td>\n",
       "      <td>97.408</td>\n",
       "      <td>4.4823</td>\n",
       "      <td>31.198</td>\n",
       "      <td>1100.2</td>\n",
       "      <td>531.86</td>\n",
       "      <td>160.17</td>\n",
       "      <td>13.800</td>\n",
       "      <td>0.88581</td>\n",
       "      <td>65.260</td>\n",
       "    </tr>\n",
       "    <tr>\n",
       "      <th>12739</th>\n",
       "      <td>23.9650</td>\n",
       "      <td>1014.0</td>\n",
       "      <td>84.465</td>\n",
       "      <td>3.1930</td>\n",
       "      <td>20.158</td>\n",
       "      <td>1059.7</td>\n",
       "      <td>549.70</td>\n",
       "      <td>111.04</td>\n",
       "      <td>10.657</td>\n",
       "      <td>2.14900</td>\n",
       "      <td>49.614</td>\n",
       "    </tr>\n",
       "    <tr>\n",
       "      <th>11122</th>\n",
       "      <td>19.9400</td>\n",
       "      <td>1012.6</td>\n",
       "      <td>96.062</td>\n",
       "      <td>3.1552</td>\n",
       "      <td>19.682</td>\n",
       "      <td>1058.3</td>\n",
       "      <td>550.03</td>\n",
       "      <td>111.78</td>\n",
       "      <td>10.471</td>\n",
       "      <td>2.11150</td>\n",
       "      <td>56.649</td>\n",
       "    </tr>\n",
       "    <tr>\n",
       "      <th>13210</th>\n",
       "      <td>29.9400</td>\n",
       "      <td>1011.8</td>\n",
       "      <td>55.764</td>\n",
       "      <td>4.3425</td>\n",
       "      <td>27.357</td>\n",
       "      <td>1099.9</td>\n",
       "      <td>549.34</td>\n",
       "      <td>137.81</td>\n",
       "      <td>12.648</td>\n",
       "      <td>0.81925</td>\n",
       "      <td>65.081</td>\n",
       "    </tr>\n",
       "    <tr>\n",
       "      <th>12468</th>\n",
       "      <td>29.1630</td>\n",
       "      <td>1006.6</td>\n",
       "      <td>47.070</td>\n",
       "      <td>4.0714</td>\n",
       "      <td>25.819</td>\n",
       "      <td>1091.7</td>\n",
       "      <td>550.20</td>\n",
       "      <td>132.75</td>\n",
       "      <td>12.311</td>\n",
       "      <td>3.33300</td>\n",
       "      <td>76.131</td>\n",
       "    </tr>\n",
       "  </tbody>\n",
       "</table>\n",
       "</div>"
      ],
      "text/plain": [
       "            AT      AP      AH    AFDP    GTEP     TIT     TAT     TEY  \\\n",
       "12794  28.1760  1013.5  59.647  4.0944  25.924  1093.5  549.67  133.79   \n",
       "490     7.1127  1002.7  86.013  5.8328  34.339  1099.8  526.46  165.26   \n",
       "10556  24.4780  1017.0  66.887  4.4326  30.912  1099.9  535.78  152.33   \n",
       "9033    5.3341  1024.0  88.143  4.1669  23.791  1085.6  550.08  134.66   \n",
       "6708   16.3570  1017.7  93.184  2.2379  19.074  1053.2  548.94  109.32   \n",
       "9804   10.6270  1008.9  97.408  4.4823  31.198  1100.2  531.86  160.17   \n",
       "12739  23.9650  1014.0  84.465  3.1930  20.158  1059.7  549.70  111.04   \n",
       "11122  19.9400  1012.6  96.062  3.1552  19.682  1058.3  550.03  111.78   \n",
       "13210  29.9400  1011.8  55.764  4.3425  27.357  1099.9  549.34  137.81   \n",
       "12468  29.1630  1006.6  47.070  4.0714  25.819  1091.7  550.20  132.75   \n",
       "\n",
       "          CDP       CO     NOX  \n",
       "12794  12.234  0.18162  61.185  \n",
       "490    14.140  0.54695  70.941  \n",
       "10556  13.637  1.03020  53.628  \n",
       "9033   11.896  0.72808  60.380  \n",
       "6708   10.445  4.43180  62.756  \n",
       "9804   13.800  0.88581  65.260  \n",
       "12739  10.657  2.14900  49.614  \n",
       "11122  10.471  2.11150  56.649  \n",
       "13210  12.648  0.81925  65.081  \n",
       "12468  12.311  3.33300  76.131  "
      ]
     },
     "execution_count": 4,
     "metadata": {},
     "output_type": "execute_result"
    }
   ],
   "source": [
    "# Loading some example data\n",
    "df=pd.read_csv('gas_turbines.csv')\n",
    "df.sample(10)"
   ]
  },
  {
   "cell_type": "code",
   "execution_count": 5,
   "id": "8b438fc2",
   "metadata": {},
   "outputs": [
    {
     "data": {
      "text/plain": [
       "AT      False\n",
       "AP      False\n",
       "AH      False\n",
       "AFDP    False\n",
       "GTEP    False\n",
       "TIT     False\n",
       "TAT     False\n",
       "TEY     False\n",
       "CDP     False\n",
       "CO      False\n",
       "NOX     False\n",
       "dtype: bool"
      ]
     },
     "execution_count": 5,
     "metadata": {},
     "output_type": "execute_result"
    }
   ],
   "source": [
    "# Exploration Data Analysis\n",
    "df.isnull().any()"
   ]
  },
  {
   "cell_type": "code",
   "execution_count": 6,
   "id": "503de601",
   "metadata": {},
   "outputs": [
    {
     "data": {
      "text/plain": [
       "Index(['AT', 'AP', 'AH', 'AFDP', 'GTEP', 'TIT', 'TAT', 'TEY', 'CDP', 'CO',\n",
       "       'NOX'],\n",
       "      dtype='object')"
      ]
     },
     "execution_count": 6,
     "metadata": {},
     "output_type": "execute_result"
    }
   ],
   "source": [
    "df.shape\n",
    "\n",
    "numerical_features = df.describe(include=[\"int64\",\"float64\"]).columns\n",
    "numerical_features"
   ]
  },
  {
   "cell_type": "code",
   "execution_count": 7,
   "id": "b8ea4d36",
   "metadata": {},
   "outputs": [
    {
     "name": "stderr",
     "output_type": "stream",
     "text": [
      "C:\\Users\\ayoba\\AppData\\Local\\Temp\\ipykernel_22028\\1504653100.py:3: DeprecationWarning: `np.bool` is a deprecated alias for the builtin `bool`. To silence this warning, use `bool` by itself. Doing this will not modify any behavior and is safe. If you specifically wanted the numpy scalar type, use `np.bool_` here.\n",
      "Deprecated in NumPy 1.20; for more details and guidance: https://numpy.org/devdocs/release/1.20.0-notes.html#deprecations\n",
      "  mask = np.zeros_like(df.corr(), dtype=np.bool)\n"
     ]
    },
    {
     "data": {
      "text/plain": [
       "<AxesSubplot:>"
      ]
     },
     "execution_count": 7,
     "metadata": {},
     "output_type": "execute_result"
    },
    {
     "data": {
      "image/png": "[encoded data removed]",
      "text/plain": [
       "<Figure size 1152x864 with 2 Axes>"
      ]
     },
     "metadata": {
      "needs_background": "light"
     },
     "output_type": "display_data"
    }
   ],
   "source": [
    "# Having a look at the correlation matrix\n",
    "plt.figure(figsize=(16,12))\n",
    "mask = np.zeros_like(df.corr(), dtype=np.bool)\n",
    "mask[np.triu_indices_from(mask)] = True\n",
    "sns.heatmap(data=df.corr(), cmap=\"jet\", annot=True,linewidths=1, linecolor='white',mask=mask)"
   ]
  },
  {
   "cell_type": "code",
   "execution_count": 8,
   "id": "138d2609",
   "metadata": {},
   "outputs": [],
   "source": [
    "#from sklearn.preprocessing import StandardScaler\n",
    "#stdscalar= StandardScaler()\n",
    "#scale_columns = ['age','trestbps', 'chol', 'thalach', 'oldpeak']\n",
    "#df[numerical_features]= stdscalar.fit_transform(df[numerical_features])"
   ]
  },
  {
   "cell_type": "code",
   "execution_count": 20,
   "id": "31326004",
   "metadata": {},
   "outputs": [
    {
     "data": {
      "text/plain": [
       "Index(['AT', 'AP', 'AH', 'AFDP', 'GTEP', 'TIT', 'TAT', 'CDP', 'CO', 'NOX'], dtype='object')"
      ]
     },
     "execution_count": 20,
     "metadata": {},
     "output_type": "execute_result"
    }
   ],
   "source": [
    "X=df.drop('TEY',axis=1)\n",
    "Y=df[df.columns[7:8]]\n",
    "numerical_features_X = X.describe(include=[\"int64\",\"float64\"]).columns\n",
    "numerical_features_X"
   ]
  },
  {
   "cell_type": "code",
   "execution_count": 26,
   "id": "eb897ce0",
   "metadata": {},
   "outputs": [
    {
     "data": {
      "text/plain": [
       "array([[-1.35733078,  0.58524028],\n",
       "       [-1.36367619,  0.58524028],\n",
       "       [-1.36095673,  0.56871459],\n",
       "       ...,\n",
       "       [-1.46792219, -1.02664984],\n",
       "       [-1.42259784, -0.52833681],\n",
       "       [-1.37727349,  0.05768949]])"
      ]
     },
     "execution_count": 26,
     "metadata": {},
     "output_type": "execute_result"
    }
   ],
   "source": [
    "from sklearn.preprocessing import StandardScaler\n",
    "stdscalar= StandardScaler()\n",
    "#scale_columns = ['age','trestbps', 'chol', 'thalach', 'oldpeak']\n",
    "X_Scalar= stdscalar.fit_transform(X)\n",
    "X_Scalar"
   ]
  },
  {
   "cell_type": "code",
   "execution_count": null,
   "id": "9a7786e3",
   "metadata": {},
   "outputs": [],
   "source": []
  },
  {
   "cell_type": "code",
   "execution_count": 12,
   "id": "e84365af",
   "metadata": {},
   "outputs": [
    {
     "data": {
      "text/plain": [
       "((10527, 10), (4512, 10), (10527, 1), (4512, 1))"
      ]
     },
     "execution_count": 12,
     "metadata": {},
     "output_type": "execute_result"
    }
   ],
   "source": [
    "# Split dataset into training set and test set\n",
    "X_train, X_test, y_train, y_test = train_test_split(X_Scalar, Y, test_size=0.3, random_state=0) # 70% training and 30% test\n",
    "X_train.shape,X_test.shape,y_train.shape,y_test.shape"
   ]
  },
  {
   "cell_type": "code",
   "execution_count": 13,
   "id": "292ff944",
   "metadata": {},
   "outputs": [
    {
     "name": "stderr",
     "output_type": "stream",
     "text": [
      "C:\\Users\\ayoba\\AppData\\Local\\Temp\\ipykernel_22028\\3376389169.py:8: DataConversionWarning: A column-vector y was passed when a 1d array was expected. Please change the shape of y to (n_samples,), for example using ravel().\n",
      "  regressor.fit(X_train, y_train)\n"
     ]
    },
    {
     "data": {
      "text/plain": [
       "array([133.8811, 156.4188, 133.9043, ..., 133.7928, 153.9534, 133.734 ])"
      ]
     },
     "execution_count": 13,
     "metadata": {},
     "output_type": "execute_result"
    }
   ],
   "source": [
    "# Fitting Random Forest Regression to the dataset\n",
    "# import the regressor\n",
    "from sklearn.ensemble import RandomForestRegressor\n",
    " # create regressor object\n",
    "regressor = RandomForestRegressor(n_estimators = 100, random_state = 0)\n",
    "  \n",
    "# fit the regressor with x and y data\n",
    "regressor.fit(X_train, y_train)\n",
    "y_pred=regressor.predict(X_test)\n",
    "y_pred"
   ]
  },
  {
   "cell_type": "code",
   "execution_count": 18,
   "id": "b6397530",
   "metadata": {},
   "outputs": [
    {
     "name": "stdout",
     "output_type": "stream",
     "text": [
      "=== R2_Score ===\n",
      "R2 Score: 1.00\n",
      "\n",
      "\n",
      "=== Mean Absolute Error ===\n",
      "Mean absolute error: 0.42\n",
      "\n",
      "\n"
     ]
    }
   ],
   "source": [
    "from sklearn.metrics import mean_squared_error, r2_score, mean_absolute_error\n",
    "print(\"=== R2_Score ===\")\n",
    "print('R2 Score: %.2f' % r2_score(y_test,y_pred))\n",
    "print('\\n')\n",
    "print(\"=== Mean Absolute Error ===\")\n",
    "print(\"Mean absolute error: %.2f\" % mean_absolute_error(y_test,y_pred))\n",
    "print('\\n')"
   ]
  },
  {
   "cell_type": "markdown",
   "id": "0d82a6bf",
   "metadata": {},
   "source": [
    "Generating the Model on Selected Features"
   ]
  },
  {
   "cell_type": "code",
   "execution_count": 21,
   "id": "846d7c37",
   "metadata": {},
   "outputs": [
    {
     "data": {
      "text/plain": [
       "CDP     0.962098\n",
       "TAT     0.023209\n",
       "AT      0.006327\n",
       "TIT     0.004112\n",
       "GTEP    0.002612\n",
       "NOX     0.000432\n",
       "CO      0.000345\n",
       "AFDP    0.000302\n",
       "AP      0.000293\n",
       "AH      0.000272\n",
       "dtype: float64"
      ]
     },
     "execution_count": 21,
     "metadata": {},
     "output_type": "execute_result"
    }
   ],
   "source": [
    "feature_imp = pd.Series(regressor.feature_importances_,index=numerical_features_X).sort_values(ascending=False)\n",
    "feature_imp"
   ]
  },
  {
   "cell_type": "code",
   "execution_count": 22,
   "id": "7d8652f0",
   "metadata": {},
   "outputs": [
    {
     "name": "stderr",
     "output_type": "stream",
     "text": [
      "No artists with labels found to put in legend.  Note that artists whose label start with an underscore are ignored when legend() is called with no argument.\n"
     ]
    },
    {
     "data": {
      "image/png": "[encoded data removed]",
      "text/plain": [
       "<Figure size 432x288 with 1 Axes>"
      ]
     },
     "metadata": {
      "needs_background": "light"
     },
     "output_type": "display_data"
    }
   ],
   "source": [
    "import matplotlib.pyplot as plt\n",
    "import seaborn as sns\n",
    "#%matplotlib inline\n",
    "# Creating a bar plot\n",
    "sns.barplot(x=feature_imp, y=feature_imp.index)\n",
    "# Add labels to your graph\n",
    "plt.xlabel('Feature Importance Score')\n",
    "plt.ylabel('Features')\n",
    "plt.title(\"Visualizing Important Features\")\n",
    "plt.legend()\n",
    "plt.show()"
   ]
  },
  {
   "cell_type": "code",
   "execution_count": 23,
   "id": "1a312c28",
   "metadata": {},
   "outputs": [
    {
     "data": {
      "text/plain": [
       "((10527, 2), (4512, 2), (10527,), (4512,))"
      ]
     },
     "execution_count": 23,
     "metadata": {},
     "output_type": "execute_result"
    }
   ],
   "source": [
    "# Split dataset into features and labels\n",
    "X=df[['CDP', 'TAT']]  # Removed feature \"sepal width\"\n",
    "y=df['TEY']                                       \n",
    "# Split dataset into training set and test set\n",
    "X_train, X_test, y_train, y_test = train_test_split(X, y, test_size=0.30,random_state=0) # 70% training and 30% test\n",
    "X_train.shape,X_test.shape,y_train.shape,y_test.shape"
   ]
  },
  {
   "cell_type": "code",
   "execution_count": null,
   "id": "75d9e31b",
   "metadata": {},
   "outputs": [],
   "source": []
  },
  {
   "cell_type": "code",
   "execution_count": 27,
   "id": "ce260be8",
   "metadata": {},
   "outputs": [
    {
     "data": {
      "text/plain": [
       "array([133.266  , 157.7439 , 134.33555, ..., 133.4264 , 150.5728 ,\n",
       "       134.2786 ])"
      ]
     },
     "execution_count": 27,
     "metadata": {},
     "output_type": "execute_result"
    }
   ],
   "source": [
    "clf = RandomForestRegressor(n_estimators = 100, random_state = 0)\n",
    "#Train the model using the training sets y_pred=clf.predict(X_test)\n",
    "clf.fit(X_train,y_train)\n",
    "\n",
    "# prediction on test set\n",
    "y_pred1=clf.predict(X_test)\n",
    "y_pred1\n"
   ]
  },
  {
   "cell_type": "code",
   "execution_count": 28,
   "id": "6b8dfbd4",
   "metadata": {},
   "outputs": [
    {
     "name": "stdout",
     "output_type": "stream",
     "text": [
      "=== R2_Score ===\n",
      "R2 Score: 0.99\n",
      "\n",
      "\n",
      "=== Mean Absolute Error ===\n",
      "Mean absolute error: 1.16\n"
     ]
    }
   ],
   "source": [
    "print(\"=== R2_Score ===\")\n",
    "print('R2 Score: %.2f' % r2_score(y_test,y_pred1))\n",
    "print('\\n')\n",
    "print(\"=== Mean Absolute Error ===\")\n",
    "print(\"Mean absolute error: %.2f\" % mean_absolute_error(y_test,y_pred1))\n"
   ]
  },
  {
   "cell_type": "markdown",
   "id": "a045c06a",
   "metadata": {},
   "source": [
    "#### Question 2: Predict whether the client has subscribed a term deposit or not\n",
    "\n",
    "Link to download data:https://drive.google.com/file/d/1d_-aOSnkw7feb9FN6SiPbbpq__5Q58UR/view?usp=sharing"
   ]
  },
  {
   "cell_type": "code",
   "execution_count": null,
   "id": "19bdaf14",
   "metadata": {},
   "outputs": [],
   "source": [
    "#write your code here............"
   ]
  },
  {
   "cell_type": "code",
   "execution_count": 30,
   "id": "c351410e",
   "metadata": {},
   "outputs": [
    {
     "data": {
      "text/html": [
       "<div>\n",
       "<style scoped>\n",
       "    .dataframe tbody tr th:only-of-type {\n",
       "        vertical-align: middle;\n",
       "    }\n",
       "\n",
       "    .dataframe tbody tr th {\n",
       "        vertical-align: top;\n",
       "    }\n",
       "\n",
       "    .dataframe thead th {\n",
       "        text-align: right;\n",
       "    }\n",
       "</style>\n",
       "<table border=\"1\" class=\"dataframe\">\n",
       "  <thead>\n",
       "    <tr style=\"text-align: right;\">\n",
       "      <th></th>\n",
       "      <th>age</th>\n",
       "      <th>job</th>\n",
       "      <th>marital</th>\n",
       "      <th>education</th>\n",
       "      <th>default</th>\n",
       "      <th>balance</th>\n",
       "      <th>housing</th>\n",
       "      <th>loan</th>\n",
       "      <th>contact</th>\n",
       "      <th>day</th>\n",
       "      <th>month</th>\n",
       "      <th>duration</th>\n",
       "      <th>campaign</th>\n",
       "      <th>pdays</th>\n",
       "      <th>previous</th>\n",
       "      <th>poutcome</th>\n",
       "      <th>y</th>\n",
       "    </tr>\n",
       "  </thead>\n",
       "  <tbody>\n",
       "    <tr>\n",
       "      <th>29003</th>\n",
       "      <td>50</td>\n",
       "      <td>services</td>\n",
       "      <td>married</td>\n",
       "      <td>secondary</td>\n",
       "      <td>no</td>\n",
       "      <td>545</td>\n",
       "      <td>no</td>\n",
       "      <td>no</td>\n",
       "      <td>cellular</td>\n",
       "      <td>2</td>\n",
       "      <td>feb</td>\n",
       "      <td>72</td>\n",
       "      <td>1</td>\n",
       "      <td>-1</td>\n",
       "      <td>0</td>\n",
       "      <td>unknown</td>\n",
       "      <td>no</td>\n",
       "    </tr>\n",
       "    <tr>\n",
       "      <th>21534</th>\n",
       "      <td>59</td>\n",
       "      <td>retired</td>\n",
       "      <td>married</td>\n",
       "      <td>unknown</td>\n",
       "      <td>no</td>\n",
       "      <td>613</td>\n",
       "      <td>no</td>\n",
       "      <td>no</td>\n",
       "      <td>cellular</td>\n",
       "      <td>19</td>\n",
       "      <td>aug</td>\n",
       "      <td>75</td>\n",
       "      <td>2</td>\n",
       "      <td>-1</td>\n",
       "      <td>0</td>\n",
       "      <td>unknown</td>\n",
       "      <td>no</td>\n",
       "    </tr>\n",
       "    <tr>\n",
       "      <th>32109</th>\n",
       "      <td>51</td>\n",
       "      <td>entrepreneur</td>\n",
       "      <td>married</td>\n",
       "      <td>primary</td>\n",
       "      <td>no</td>\n",
       "      <td>726</td>\n",
       "      <td>yes</td>\n",
       "      <td>yes</td>\n",
       "      <td>cellular</td>\n",
       "      <td>15</td>\n",
       "      <td>apr</td>\n",
       "      <td>87</td>\n",
       "      <td>2</td>\n",
       "      <td>-1</td>\n",
       "      <td>0</td>\n",
       "      <td>unknown</td>\n",
       "      <td>no</td>\n",
       "    </tr>\n",
       "    <tr>\n",
       "      <th>6932</th>\n",
       "      <td>45</td>\n",
       "      <td>services</td>\n",
       "      <td>married</td>\n",
       "      <td>secondary</td>\n",
       "      <td>no</td>\n",
       "      <td>-36</td>\n",
       "      <td>yes</td>\n",
       "      <td>yes</td>\n",
       "      <td>unknown</td>\n",
       "      <td>28</td>\n",
       "      <td>may</td>\n",
       "      <td>389</td>\n",
       "      <td>4</td>\n",
       "      <td>-1</td>\n",
       "      <td>0</td>\n",
       "      <td>unknown</td>\n",
       "      <td>no</td>\n",
       "    </tr>\n",
       "    <tr>\n",
       "      <th>44620</th>\n",
       "      <td>69</td>\n",
       "      <td>technician</td>\n",
       "      <td>married</td>\n",
       "      <td>secondary</td>\n",
       "      <td>no</td>\n",
       "      <td>2661</td>\n",
       "      <td>no</td>\n",
       "      <td>no</td>\n",
       "      <td>cellular</td>\n",
       "      <td>1</td>\n",
       "      <td>sep</td>\n",
       "      <td>925</td>\n",
       "      <td>1</td>\n",
       "      <td>187</td>\n",
       "      <td>3</td>\n",
       "      <td>other</td>\n",
       "      <td>no</td>\n",
       "    </tr>\n",
       "    <tr>\n",
       "      <th>44711</th>\n",
       "      <td>53</td>\n",
       "      <td>admin.</td>\n",
       "      <td>married</td>\n",
       "      <td>secondary</td>\n",
       "      <td>no</td>\n",
       "      <td>0</td>\n",
       "      <td>no</td>\n",
       "      <td>no</td>\n",
       "      <td>telephone</td>\n",
       "      <td>6</td>\n",
       "      <td>sep</td>\n",
       "      <td>353</td>\n",
       "      <td>1</td>\n",
       "      <td>655</td>\n",
       "      <td>5</td>\n",
       "      <td>failure</td>\n",
       "      <td>no</td>\n",
       "    </tr>\n",
       "    <tr>\n",
       "      <th>11992</th>\n",
       "      <td>46</td>\n",
       "      <td>management</td>\n",
       "      <td>married</td>\n",
       "      <td>tertiary</td>\n",
       "      <td>no</td>\n",
       "      <td>5464</td>\n",
       "      <td>no</td>\n",
       "      <td>no</td>\n",
       "      <td>unknown</td>\n",
       "      <td>20</td>\n",
       "      <td>jun</td>\n",
       "      <td>79</td>\n",
       "      <td>4</td>\n",
       "      <td>-1</td>\n",
       "      <td>0</td>\n",
       "      <td>unknown</td>\n",
       "      <td>no</td>\n",
       "    </tr>\n",
       "    <tr>\n",
       "      <th>25069</th>\n",
       "      <td>55</td>\n",
       "      <td>management</td>\n",
       "      <td>divorced</td>\n",
       "      <td>tertiary</td>\n",
       "      <td>no</td>\n",
       "      <td>0</td>\n",
       "      <td>no</td>\n",
       "      <td>no</td>\n",
       "      <td>cellular</td>\n",
       "      <td>18</td>\n",
       "      <td>nov</td>\n",
       "      <td>120</td>\n",
       "      <td>2</td>\n",
       "      <td>-1</td>\n",
       "      <td>0</td>\n",
       "      <td>unknown</td>\n",
       "      <td>no</td>\n",
       "    </tr>\n",
       "    <tr>\n",
       "      <th>1662</th>\n",
       "      <td>49</td>\n",
       "      <td>services</td>\n",
       "      <td>divorced</td>\n",
       "      <td>secondary</td>\n",
       "      <td>no</td>\n",
       "      <td>470</td>\n",
       "      <td>yes</td>\n",
       "      <td>no</td>\n",
       "      <td>unknown</td>\n",
       "      <td>9</td>\n",
       "      <td>may</td>\n",
       "      <td>659</td>\n",
       "      <td>2</td>\n",
       "      <td>-1</td>\n",
       "      <td>0</td>\n",
       "      <td>unknown</td>\n",
       "      <td>no</td>\n",
       "    </tr>\n",
       "    <tr>\n",
       "      <th>11149</th>\n",
       "      <td>46</td>\n",
       "      <td>management</td>\n",
       "      <td>single</td>\n",
       "      <td>tertiary</td>\n",
       "      <td>no</td>\n",
       "      <td>46</td>\n",
       "      <td>no</td>\n",
       "      <td>yes</td>\n",
       "      <td>unknown</td>\n",
       "      <td>18</td>\n",
       "      <td>jun</td>\n",
       "      <td>107</td>\n",
       "      <td>1</td>\n",
       "      <td>-1</td>\n",
       "      <td>0</td>\n",
       "      <td>unknown</td>\n",
       "      <td>no</td>\n",
       "    </tr>\n",
       "  </tbody>\n",
       "</table>\n",
       "</div>"
      ],
      "text/plain": [
       "       age           job   marital  education default  balance housing loan  \\\n",
       "29003   50      services   married  secondary      no      545      no   no   \n",
       "21534   59       retired   married    unknown      no      613      no   no   \n",
       "32109   51  entrepreneur   married    primary      no      726     yes  yes   \n",
       "6932    45      services   married  secondary      no      -36     yes  yes   \n",
       "44620   69    technician   married  secondary      no     2661      no   no   \n",
       "44711   53        admin.   married  secondary      no        0      no   no   \n",
       "11992   46    management   married   tertiary      no     5464      no   no   \n",
       "25069   55    management  divorced   tertiary      no        0      no   no   \n",
       "1662    49      services  divorced  secondary      no      470     yes   no   \n",
       "11149   46    management    single   tertiary      no       46      no  yes   \n",
       "\n",
       "         contact  day month  duration  campaign  pdays  previous poutcome   y  \n",
       "29003   cellular    2   feb        72         1     -1         0  unknown  no  \n",
       "21534   cellular   19   aug        75         2     -1         0  unknown  no  \n",
       "32109   cellular   15   apr        87         2     -1         0  unknown  no  \n",
       "6932     unknown   28   may       389         4     -1         0  unknown  no  \n",
       "44620   cellular    1   sep       925         1    187         3    other  no  \n",
       "44711  telephone    6   sep       353         1    655         5  failure  no  \n",
       "11992    unknown   20   jun        79         4     -1         0  unknown  no  \n",
       "25069   cellular   18   nov       120         2     -1         0  unknown  no  \n",
       "1662     unknown    9   may       659         2     -1         0  unknown  no  \n",
       "11149    unknown   18   jun       107         1     -1         0  unknown  no  "
      ]
     },
     "execution_count": 30,
     "metadata": {},
     "output_type": "execute_result"
    }
   ],
   "source": [
    "# Loading some example data\n",
    "Client_df=pd.read_csv('bank-full.csv',sep=\";\")\n",
    "Client_df.sample(10)"
   ]
  },
  {
   "cell_type": "code",
   "execution_count": 37,
   "id": "d29932d0",
   "metadata": {},
   "outputs": [
    {
     "data": {
      "text/html": [
       "<div>\n",
       "<style scoped>\n",
       "    .dataframe tbody tr th:only-of-type {\n",
       "        vertical-align: middle;\n",
       "    }\n",
       "\n",
       "    .dataframe tbody tr th {\n",
       "        vertical-align: top;\n",
       "    }\n",
       "\n",
       "    .dataframe thead th {\n",
       "        text-align: right;\n",
       "    }\n",
       "</style>\n",
       "<table border=\"1\" class=\"dataframe\">\n",
       "  <thead>\n",
       "    <tr style=\"text-align: right;\">\n",
       "      <th></th>\n",
       "      <th>age</th>\n",
       "      <th>job</th>\n",
       "      <th>marital</th>\n",
       "      <th>education</th>\n",
       "      <th>default</th>\n",
       "      <th>balance</th>\n",
       "      <th>housing</th>\n",
       "      <th>loan</th>\n",
       "      <th>contact</th>\n",
       "      <th>day</th>\n",
       "      <th>month</th>\n",
       "      <th>duration</th>\n",
       "      <th>campaign</th>\n",
       "      <th>pdays</th>\n",
       "      <th>previous</th>\n",
       "      <th>poutcome</th>\n",
       "      <th>y</th>\n",
       "      <th>OUTPUT_LABEL</th>\n",
       "    </tr>\n",
       "  </thead>\n",
       "  <tbody>\n",
       "    <tr>\n",
       "      <th>0</th>\n",
       "      <td>58</td>\n",
       "      <td>2</td>\n",
       "      <td>2</td>\n",
       "      <td>3</td>\n",
       "      <td>0</td>\n",
       "      <td>2143</td>\n",
       "      <td>1</td>\n",
       "      <td>0</td>\n",
       "      <td>-1</td>\n",
       "      <td>5</td>\n",
       "      <td>5</td>\n",
       "      <td>261</td>\n",
       "      <td>1</td>\n",
       "      <td>-1</td>\n",
       "      <td>0</td>\n",
       "      <td>-1</td>\n",
       "      <td>no</td>\n",
       "      <td>0</td>\n",
       "    </tr>\n",
       "    <tr>\n",
       "      <th>1</th>\n",
       "      <td>44</td>\n",
       "      <td>3</td>\n",
       "      <td>1</td>\n",
       "      <td>2</td>\n",
       "      <td>0</td>\n",
       "      <td>29</td>\n",
       "      <td>1</td>\n",
       "      <td>0</td>\n",
       "      <td>-1</td>\n",
       "      <td>5</td>\n",
       "      <td>5</td>\n",
       "      <td>151</td>\n",
       "      <td>1</td>\n",
       "      <td>-1</td>\n",
       "      <td>0</td>\n",
       "      <td>-1</td>\n",
       "      <td>no</td>\n",
       "      <td>0</td>\n",
       "    </tr>\n",
       "    <tr>\n",
       "      <th>2</th>\n",
       "      <td>33</td>\n",
       "      <td>8</td>\n",
       "      <td>2</td>\n",
       "      <td>2</td>\n",
       "      <td>0</td>\n",
       "      <td>2</td>\n",
       "      <td>1</td>\n",
       "      <td>1</td>\n",
       "      <td>-1</td>\n",
       "      <td>5</td>\n",
       "      <td>5</td>\n",
       "      <td>76</td>\n",
       "      <td>1</td>\n",
       "      <td>-1</td>\n",
       "      <td>0</td>\n",
       "      <td>-1</td>\n",
       "      <td>no</td>\n",
       "      <td>0</td>\n",
       "    </tr>\n",
       "  </tbody>\n",
       "</table>\n",
       "</div>"
      ],
      "text/plain": [
       "   age  job  marital  education  default  balance  housing  loan  contact  \\\n",
       "0   58    2        2          3        0     2143        1     0       -1   \n",
       "1   44    3        1          2        0       29        1     0       -1   \n",
       "2   33    8        2          2        0        2        1     1       -1   \n",
       "\n",
       "   day  month  duration  campaign  pdays  previous  poutcome   y  OUTPUT_LABEL  \n",
       "0    5      5       261         1     -1         0        -1  no             0  \n",
       "1    5      5       151         1     -1         0        -1  no             0  \n",
       "2    5      5        76         1     -1         0        -1  no             0  "
      ]
     },
     "execution_count": 37,
     "metadata": {},
     "output_type": "execute_result"
    }
   ],
   "source": [
    "replaceStruct = {\n",
    "                \"job\" :      {\"unknown\": -1, \"blue-collar\": 1, \"management\":2 , \"technician\": 3, \"admin.\": 4,\"services\": 5, \n",
    "                         \"retired\": 6, \"self-employed\": 7, \"entrepreneur\": 8, \"unemployed\": 9, \"housemaid\": 10,\n",
    "                         \"student\": 11},\n",
    "                \"marital\":   {\"single\": 1, \"married\": 2 ,\"divorced\": 3},\n",
    "                \"education\": {\"unknown\":-1, \"primary\": 1, \"secondary\": 2 ,\"tertiary\": 3},\n",
    "                \"default\":   {\"no\": 0, \"yes\": 1},\n",
    "                \"housing\":   {\"no\": 0, \"yes\": 1},\n",
    "                \"loan\":      {\"no\": 0, \"yes\": 1},\n",
    "                \"contact\":   {\"unknown\": -1 , \"cellular\": 1, \"telephone\": 2},\n",
    "                \"month\":     {\"jan\": 1, \"feb\":2 , \"mar\": 3, \"apr\": 4,\"may\": 5, \"jun\": 6, \"jul\": 7, \"aug\": 8, \"sep\": 9, \"oct\": 10, \"nov\": 11, \"dec\": 12},\n",
    "                \"poutcome\":  {\"unknown\": -1, \"failure\": 0, \"success\": 1, \"other\": 2},\n",
    "                \"Target\":    {\"no\": 0, \"yes\": 1} \n",
    "                    }\n",
    "\n",
    "Client_df=Client_df.replace(replaceStruct)\n",
    "Client_df.head(3)"
   ]
  },
  {
   "cell_type": "code",
   "execution_count": 39,
   "id": "8fb5d81a",
   "metadata": {},
   "outputs": [
    {
     "name": "stdout",
     "output_type": "stream",
     "text": [
      "<class 'pandas.core.frame.DataFrame'>\n",
      "RangeIndex: 45211 entries, 0 to 45210\n",
      "Data columns (total 18 columns):\n",
      " #   Column        Non-Null Count  Dtype \n",
      "---  ------        --------------  ----- \n",
      " 0   age           45211 non-null  int64 \n",
      " 1   job           45211 non-null  int64 \n",
      " 2   marital       45211 non-null  int64 \n",
      " 3   education     45211 non-null  int64 \n",
      " 4   default       45211 non-null  int64 \n",
      " 5   balance       45211 non-null  int64 \n",
      " 6   housing       45211 non-null  int64 \n",
      " 7   loan          45211 non-null  int64 \n",
      " 8   contact       45211 non-null  int64 \n",
      " 9   day           45211 non-null  int64 \n",
      " 10  month         45211 non-null  int64 \n",
      " 11  duration      45211 non-null  int64 \n",
      " 12  campaign      45211 non-null  int64 \n",
      " 13  pdays         45211 non-null  int64 \n",
      " 14  previous      45211 non-null  int64 \n",
      " 15  poutcome      45211 non-null  int64 \n",
      " 16  y             45211 non-null  object\n",
      " 17  OUTPUT_LABEL  45211 non-null  int32 \n",
      "dtypes: int32(1), int64(16), object(1)\n",
      "memory usage: 6.0+ MB\n"
     ]
    }
   ],
   "source": [
    "Client_df.info()"
   ]
  },
  {
   "cell_type": "code",
   "execution_count": 50,
   "id": "fc298f29",
   "metadata": {},
   "outputs": [],
   "source": [
    "X=Client_df.drop(['y','OUTPUT_LABEL'],axis=1)\n",
    "Y=Client_df['OUTPUT_LABEL']"
   ]
  },
  {
   "cell_type": "code",
   "execution_count": 61,
   "id": "dbaa0c64",
   "metadata": {},
   "outputs": [
    {
     "data": {
      "text/plain": [
       "((31647, 16), (13564, 16), (31647,), (13564,))"
      ]
     },
     "execution_count": 61,
     "metadata": {},
     "output_type": "execute_result"
    }
   ],
   "source": [
    "# Split dataset into training set and test set\n",
    "X_train, X_test, y_train, y_test = train_test_split(X, Y, test_size=0.30,random_state=0) # 70% training and 30% test\n",
    "X_train.shape,X_test.shape,y_train.shape,y_test.shape"
   ]
  },
  {
   "cell_type": "code",
   "execution_count": 66,
   "id": "26f7a534",
   "metadata": {},
   "outputs": [
    {
     "data": {
      "text/plain": [
       "array([0, 1, 0, ..., 0, 0, 0])"
      ]
     },
     "execution_count": 66,
     "metadata": {},
     "output_type": "execute_result"
    }
   ],
   "source": [
    "# Using Random Forest Classifier\n",
    "clf=RandomForestClassifier(n_estimators=6)\n",
    "\n",
    "#Train the model using the training sets y_pred=clf.predict(X_test)\n",
    "clf.fit(X_train,y_train)\n",
    "\n",
    "# prediction on test set\n",
    "y_pred=clf.predict(X_test)\n",
    "y_pred"
   ]
  },
  {
   "cell_type": "code",
   "execution_count": 70,
   "id": "d6bd7b87",
   "metadata": {},
   "outputs": [
    {
     "name": "stdout",
     "output_type": "stream",
     "text": [
      "Accuracy: 89.42789737540548\n",
      "\n",
      "\n",
      "=== Confusion Matrix ===\n",
      "[[11607   362]\n",
      " [ 1072   523]]\n",
      "\n",
      "\n",
      "=== Classification Report ===\n",
      "              precision    recall  f1-score   support\n",
      "\n",
      "           0       0.92      0.97      0.94     11969\n",
      "           1       0.59      0.33      0.42      1595\n",
      "\n",
      "    accuracy                           0.89     13564\n",
      "   macro avg       0.75      0.65      0.68     13564\n",
      "weighted avg       0.88      0.89      0.88     13564\n",
      "\n",
      "\n",
      "\n"
     ]
    }
   ],
   "source": [
    "# Model Accuracy, how often is the classifier correct for Random Forest Classifier\n",
    "print(\"Accuracy:\",metrics.accuracy_score(y_test, y_pred)*100)\n",
    "print('\\n')\n",
    "print(\"=== Confusion Matrix ===\")\n",
    "print(confusion_matrix(y_test, y_pred))\n",
    "print('\\n')\n",
    "print(\"=== Classification Report ===\")\n",
    "print(classification_report(y_test, y_pred))\n",
    "print('\\n')"
   ]
  },
  {
   "cell_type": "code",
   "execution_count": 71,
   "id": "b6c19bb1",
   "metadata": {},
   "outputs": [
    {
     "data": {
      "text/plain": [
       "array([0, 1, 0, ..., 0, 0, 0])"
      ]
     },
     "execution_count": 71,
     "metadata": {},
     "output_type": "execute_result"
    }
   ],
   "source": [
    "# Using ExtraTrees Classifier\n",
    "from sklearn.neighbors import KNeighborsClassifier\n",
    "et =ExtraTreesClassifier(n_estimators=100) \n",
    "bmc = BaggingClassifier(KNeighborsClassifier())\n",
    "et.fit(X_train,y_train)\n",
    "y_pred2=et.predict(X_test)\n",
    "y_pred2"
   ]
  },
  {
   "cell_type": "code",
   "execution_count": 72,
   "id": "f8ff13c7",
   "metadata": {},
   "outputs": [
    {
     "name": "stdout",
     "output_type": "stream",
     "text": [
      "Accuracy: 90.1061633736361\n",
      "\n",
      "\n",
      "=== Confusion Matrix ===\n",
      "[[11607   362]\n",
      " [ 1072   523]]\n",
      "\n",
      "\n",
      "=== Classification Report ===\n",
      "              precision    recall  f1-score   support\n",
      "\n",
      "           0       0.92      0.97      0.94     11969\n",
      "           1       0.59      0.33      0.42      1595\n",
      "\n",
      "    accuracy                           0.89     13564\n",
      "   macro avg       0.75      0.65      0.68     13564\n",
      "weighted avg       0.88      0.89      0.88     13564\n",
      "\n",
      "\n",
      "\n"
     ]
    }
   ],
   "source": [
    "# Model Accuracy, how often is the classifier correct for Random Forest Classifier\n",
    "print(\"Accuracy:\",metrics.accuracy_score(y_test, y_pred2)*100)\n",
    "print('\\n')\n",
    "print(\"=== Confusion Matrix ===\")\n",
    "print(confusion_matrix(y_test, y_pred))\n",
    "print('\\n')\n",
    "print(\"=== Classification Report ===\")\n",
    "print(classification_report(y_test, y_pred))\n",
    "print('\\n')"
   ]
  },
  {
   "cell_type": "code",
   "execution_count": 73,
   "id": "8cada06d",
   "metadata": {},
   "outputs": [
    {
     "data": {
      "text/plain": [
       "array([0, 1, 0, ..., 0, 0, 0])"
      ]
     },
     "execution_count": 73,
     "metadata": {},
     "output_type": "execute_result"
    }
   ],
   "source": [
    "# Using Bagging Classifier\n",
    "bmc.fit(X_train,y_train)\n",
    "y_pred3=bmc.predict(X_test)\n",
    "y_pred3"
   ]
  },
  {
   "cell_type": "code",
   "execution_count": 74,
   "id": "3f21a7e0",
   "metadata": {},
   "outputs": [
    {
     "name": "stdout",
     "output_type": "stream",
     "text": [
      "Accuracy: 87.70274255381894\n",
      "\n",
      "\n",
      "=== Confusion Matrix ===\n",
      "[[11607   362]\n",
      " [ 1072   523]]\n",
      "\n",
      "\n",
      "=== Classification Report ===\n",
      "              precision    recall  f1-score   support\n",
      "\n",
      "           0       0.92      0.97      0.94     11969\n",
      "           1       0.59      0.33      0.42      1595\n",
      "\n",
      "    accuracy                           0.89     13564\n",
      "   macro avg       0.75      0.65      0.68     13564\n",
      "weighted avg       0.88      0.89      0.88     13564\n",
      "\n",
      "\n",
      "\n"
     ]
    }
   ],
   "source": [
    "# Model Accuracy, how often is the classifier correct for Random Forest Classifier\n",
    "print(\"Accuracy:\",metrics.accuracy_score(y_test, y_pred3)*100)\n",
    "print('\\n')\n",
    "print(\"=== Confusion Matrix ===\")\n",
    "print(confusion_matrix(y_test, y_pred))\n",
    "print('\\n')\n",
    "print(\"=== Classification Report ===\")\n",
    "print(classification_report(y_test, y_pred))\n",
    "print('\\n')"
   ]
  },
  {
   "cell_type": "markdown",
   "id": "9c667746",
   "metadata": {},
   "source": [
    "#### Question 3: PREDICT THE BURNED AREA OF FOREST FIRES WITH BAGGING AND BOOSTING TECHNIQUES.\n",
    "\n",
    "Link to download data: https://drive.google.com/file/d/1UddDnSaPsATBCeH1O6afK3awh043U7Ek/view?usp=sharing"
   ]
  },
  {
   "cell_type": "code",
   "execution_count": 102,
   "id": "526717b0",
   "metadata": {},
   "outputs": [],
   "source": [
    "#write your code here............\n",
    "from sklearn.ensemble import (RandomForestClassifier, ExtraTreesClassifier, BaggingClassifier,AdaBoostClassifier,GradientBoostingClassifier)"
   ]
  },
  {
   "cell_type": "code",
   "execution_count": 103,
   "id": "8abae037",
   "metadata": {},
   "outputs": [
    {
     "data": {
      "text/html": [
       "<div>\n",
       "<style scoped>\n",
       "    .dataframe tbody tr th:only-of-type {\n",
       "        vertical-align: middle;\n",
       "    }\n",
       "\n",
       "    .dataframe tbody tr th {\n",
       "        vertical-align: top;\n",
       "    }\n",
       "\n",
       "    .dataframe thead th {\n",
       "        text-align: right;\n",
       "    }\n",
       "</style>\n",
       "<table border=\"1\" class=\"dataframe\">\n",
       "  <thead>\n",
       "    <tr style=\"text-align: right;\">\n",
       "      <th></th>\n",
       "      <th>month</th>\n",
       "      <th>day</th>\n",
       "      <th>FFMC</th>\n",
       "      <th>DMC</th>\n",
       "      <th>DC</th>\n",
       "      <th>ISI</th>\n",
       "      <th>temp</th>\n",
       "      <th>RH</th>\n",
       "      <th>wind</th>\n",
       "      <th>rain</th>\n",
       "      <th>...</th>\n",
       "      <th>monthfeb</th>\n",
       "      <th>monthjan</th>\n",
       "      <th>monthjul</th>\n",
       "      <th>monthjun</th>\n",
       "      <th>monthmar</th>\n",
       "      <th>monthmay</th>\n",
       "      <th>monthnov</th>\n",
       "      <th>monthoct</th>\n",
       "      <th>monthsep</th>\n",
       "      <th>size_category</th>\n",
       "    </tr>\n",
       "  </thead>\n",
       "  <tbody>\n",
       "    <tr>\n",
       "      <th>82</th>\n",
       "      <td>aug</td>\n",
       "      <td>tue</td>\n",
       "      <td>94.8</td>\n",
       "      <td>108.3</td>\n",
       "      <td>647.1</td>\n",
       "      <td>17.0</td>\n",
       "      <td>18.6</td>\n",
       "      <td>51</td>\n",
       "      <td>4.5</td>\n",
       "      <td>0.0</td>\n",
       "      <td>...</td>\n",
       "      <td>0</td>\n",
       "      <td>0</td>\n",
       "      <td>0</td>\n",
       "      <td>0</td>\n",
       "      <td>0</td>\n",
       "      <td>0</td>\n",
       "      <td>0</td>\n",
       "      <td>0</td>\n",
       "      <td>0</td>\n",
       "      <td>small</td>\n",
       "    </tr>\n",
       "    <tr>\n",
       "      <th>51</th>\n",
       "      <td>aug</td>\n",
       "      <td>sun</td>\n",
       "      <td>90.2</td>\n",
       "      <td>99.6</td>\n",
       "      <td>631.2</td>\n",
       "      <td>6.3</td>\n",
       "      <td>21.5</td>\n",
       "      <td>34</td>\n",
       "      <td>2.2</td>\n",
       "      <td>0.0</td>\n",
       "      <td>...</td>\n",
       "      <td>0</td>\n",
       "      <td>0</td>\n",
       "      <td>0</td>\n",
       "      <td>0</td>\n",
       "      <td>0</td>\n",
       "      <td>0</td>\n",
       "      <td>0</td>\n",
       "      <td>0</td>\n",
       "      <td>0</td>\n",
       "      <td>small</td>\n",
       "    </tr>\n",
       "    <tr>\n",
       "      <th>72</th>\n",
       "      <td>mar</td>\n",
       "      <td>fri</td>\n",
       "      <td>91.7</td>\n",
       "      <td>33.3</td>\n",
       "      <td>77.5</td>\n",
       "      <td>9.0</td>\n",
       "      <td>15.6</td>\n",
       "      <td>25</td>\n",
       "      <td>6.3</td>\n",
       "      <td>0.0</td>\n",
       "      <td>...</td>\n",
       "      <td>0</td>\n",
       "      <td>0</td>\n",
       "      <td>0</td>\n",
       "      <td>0</td>\n",
       "      <td>1</td>\n",
       "      <td>0</td>\n",
       "      <td>0</td>\n",
       "      <td>0</td>\n",
       "      <td>0</td>\n",
       "      <td>small</td>\n",
       "    </tr>\n",
       "    <tr>\n",
       "      <th>483</th>\n",
       "      <td>aug</td>\n",
       "      <td>sun</td>\n",
       "      <td>94.9</td>\n",
       "      <td>130.3</td>\n",
       "      <td>587.1</td>\n",
       "      <td>14.1</td>\n",
       "      <td>31.0</td>\n",
       "      <td>27</td>\n",
       "      <td>5.4</td>\n",
       "      <td>0.0</td>\n",
       "      <td>...</td>\n",
       "      <td>0</td>\n",
       "      <td>0</td>\n",
       "      <td>0</td>\n",
       "      <td>0</td>\n",
       "      <td>0</td>\n",
       "      <td>0</td>\n",
       "      <td>0</td>\n",
       "      <td>0</td>\n",
       "      <td>0</td>\n",
       "      <td>small</td>\n",
       "    </tr>\n",
       "    <tr>\n",
       "      <th>397</th>\n",
       "      <td>aug</td>\n",
       "      <td>sun</td>\n",
       "      <td>91.6</td>\n",
       "      <td>181.3</td>\n",
       "      <td>613.0</td>\n",
       "      <td>7.6</td>\n",
       "      <td>24.3</td>\n",
       "      <td>33</td>\n",
       "      <td>3.6</td>\n",
       "      <td>0.0</td>\n",
       "      <td>...</td>\n",
       "      <td>0</td>\n",
       "      <td>0</td>\n",
       "      <td>0</td>\n",
       "      <td>0</td>\n",
       "      <td>0</td>\n",
       "      <td>0</td>\n",
       "      <td>0</td>\n",
       "      <td>0</td>\n",
       "      <td>0</td>\n",
       "      <td>small</td>\n",
       "    </tr>\n",
       "    <tr>\n",
       "      <th>142</th>\n",
       "      <td>aug</td>\n",
       "      <td>fri</td>\n",
       "      <td>90.1</td>\n",
       "      <td>108.0</td>\n",
       "      <td>529.8</td>\n",
       "      <td>12.5</td>\n",
       "      <td>21.2</td>\n",
       "      <td>51</td>\n",
       "      <td>8.9</td>\n",
       "      <td>0.0</td>\n",
       "      <td>...</td>\n",
       "      <td>0</td>\n",
       "      <td>0</td>\n",
       "      <td>0</td>\n",
       "      <td>0</td>\n",
       "      <td>0</td>\n",
       "      <td>0</td>\n",
       "      <td>0</td>\n",
       "      <td>0</td>\n",
       "      <td>0</td>\n",
       "      <td>small</td>\n",
       "    </tr>\n",
       "    <tr>\n",
       "      <th>188</th>\n",
       "      <td>mar</td>\n",
       "      <td>sat</td>\n",
       "      <td>90.8</td>\n",
       "      <td>41.9</td>\n",
       "      <td>89.4</td>\n",
       "      <td>7.9</td>\n",
       "      <td>13.3</td>\n",
       "      <td>42</td>\n",
       "      <td>0.9</td>\n",
       "      <td>0.0</td>\n",
       "      <td>...</td>\n",
       "      <td>0</td>\n",
       "      <td>0</td>\n",
       "      <td>0</td>\n",
       "      <td>0</td>\n",
       "      <td>1</td>\n",
       "      <td>0</td>\n",
       "      <td>0</td>\n",
       "      <td>0</td>\n",
       "      <td>0</td>\n",
       "      <td>large</td>\n",
       "    </tr>\n",
       "    <tr>\n",
       "      <th>360</th>\n",
       "      <td>sep</td>\n",
       "      <td>fri</td>\n",
       "      <td>92.5</td>\n",
       "      <td>122.0</td>\n",
       "      <td>789.7</td>\n",
       "      <td>10.2</td>\n",
       "      <td>18.4</td>\n",
       "      <td>42</td>\n",
       "      <td>2.2</td>\n",
       "      <td>0.0</td>\n",
       "      <td>...</td>\n",
       "      <td>0</td>\n",
       "      <td>0</td>\n",
       "      <td>0</td>\n",
       "      <td>0</td>\n",
       "      <td>0</td>\n",
       "      <td>0</td>\n",
       "      <td>0</td>\n",
       "      <td>0</td>\n",
       "      <td>1</td>\n",
       "      <td>small</td>\n",
       "    </tr>\n",
       "    <tr>\n",
       "      <th>410</th>\n",
       "      <td>feb</td>\n",
       "      <td>fri</td>\n",
       "      <td>84.1</td>\n",
       "      <td>7.3</td>\n",
       "      <td>52.8</td>\n",
       "      <td>2.7</td>\n",
       "      <td>14.7</td>\n",
       "      <td>42</td>\n",
       "      <td>2.7</td>\n",
       "      <td>0.0</td>\n",
       "      <td>...</td>\n",
       "      <td>1</td>\n",
       "      <td>0</td>\n",
       "      <td>0</td>\n",
       "      <td>0</td>\n",
       "      <td>0</td>\n",
       "      <td>0</td>\n",
       "      <td>0</td>\n",
       "      <td>0</td>\n",
       "      <td>0</td>\n",
       "      <td>small</td>\n",
       "    </tr>\n",
       "    <tr>\n",
       "      <th>314</th>\n",
       "      <td>sep</td>\n",
       "      <td>wed</td>\n",
       "      <td>92.6</td>\n",
       "      <td>115.4</td>\n",
       "      <td>777.1</td>\n",
       "      <td>8.8</td>\n",
       "      <td>19.7</td>\n",
       "      <td>41</td>\n",
       "      <td>1.8</td>\n",
       "      <td>0.0</td>\n",
       "      <td>...</td>\n",
       "      <td>0</td>\n",
       "      <td>0</td>\n",
       "      <td>0</td>\n",
       "      <td>0</td>\n",
       "      <td>0</td>\n",
       "      <td>0</td>\n",
       "      <td>0</td>\n",
       "      <td>0</td>\n",
       "      <td>1</td>\n",
       "      <td>small</td>\n",
       "    </tr>\n",
       "  </tbody>\n",
       "</table>\n",
       "<p>10 rows × 31 columns</p>\n",
       "</div>"
      ],
      "text/plain": [
       "    month  day  FFMC    DMC     DC   ISI  temp  RH  wind  rain  ...  monthfeb  \\\n",
       "82    aug  tue  94.8  108.3  647.1  17.0  18.6  51   4.5   0.0  ...         0   \n",
       "51    aug  sun  90.2   99.6  631.2   6.3  21.5  34   2.2   0.0  ...         0   \n",
       "72    mar  fri  91.7   33.3   77.5   9.0  15.6  25   6.3   0.0  ...         0   \n",
       "483   aug  sun  94.9  130.3  587.1  14.1  31.0  27   5.4   0.0  ...         0   \n",
       "397   aug  sun  91.6  181.3  613.0   7.6  24.3  33   3.6   0.0  ...         0   \n",
       "142   aug  fri  90.1  108.0  529.8  12.5  21.2  51   8.9   0.0  ...         0   \n",
       "188   mar  sat  90.8   41.9   89.4   7.9  13.3  42   0.9   0.0  ...         0   \n",
       "360   sep  fri  92.5  122.0  789.7  10.2  18.4  42   2.2   0.0  ...         0   \n",
       "410   feb  fri  84.1    7.3   52.8   2.7  14.7  42   2.7   0.0  ...         1   \n",
       "314   sep  wed  92.6  115.4  777.1   8.8  19.7  41   1.8   0.0  ...         0   \n",
       "\n",
       "     monthjan  monthjul  monthjun  monthmar  monthmay  monthnov  monthoct  \\\n",
       "82          0         0         0         0         0         0         0   \n",
       "51          0         0         0         0         0         0         0   \n",
       "72          0         0         0         1         0         0         0   \n",
       "483         0         0         0         0         0         0         0   \n",
       "397         0         0         0         0         0         0         0   \n",
       "142         0         0         0         0         0         0         0   \n",
       "188         0         0         0         1         0         0         0   \n",
       "360         0         0         0         0         0         0         0   \n",
       "410         0         0         0         0         0         0         0   \n",
       "314         0         0         0         0         0         0         0   \n",
       "\n",
       "     monthsep  size_category  \n",
       "82          0          small  \n",
       "51          0          small  \n",
       "72          0          small  \n",
       "483         0          small  \n",
       "397         0          small  \n",
       "142         0          small  \n",
       "188         0          large  \n",
       "360         1          small  \n",
       "410         0          small  \n",
       "314         1          small  \n",
       "\n",
       "[10 rows x 31 columns]"
      ]
     },
     "execution_count": 103,
     "metadata": {},
     "output_type": "execute_result"
    }
   ],
   "source": [
    "forest_df=pd.read_csv('forestfires.csv')\n",
    "forest_df.sample(10)"
   ]
  },
  {
   "cell_type": "code",
   "execution_count": 104,
   "id": "699747f7",
   "metadata": {},
   "outputs": [
    {
     "data": {
      "text/html": [
       "<div>\n",
       "<style scoped>\n",
       "    .dataframe tbody tr th:only-of-type {\n",
       "        vertical-align: middle;\n",
       "    }\n",
       "\n",
       "    .dataframe tbody tr th {\n",
       "        vertical-align: top;\n",
       "    }\n",
       "\n",
       "    .dataframe thead th {\n",
       "        text-align: right;\n",
       "    }\n",
       "</style>\n",
       "<table border=\"1\" class=\"dataframe\">\n",
       "  <thead>\n",
       "    <tr style=\"text-align: right;\">\n",
       "      <th></th>\n",
       "      <th>month</th>\n",
       "      <th>day</th>\n",
       "      <th>FFMC</th>\n",
       "      <th>DMC</th>\n",
       "      <th>DC</th>\n",
       "      <th>ISI</th>\n",
       "      <th>temp</th>\n",
       "      <th>RH</th>\n",
       "      <th>wind</th>\n",
       "      <th>rain</th>\n",
       "      <th>...</th>\n",
       "      <th>monthfeb</th>\n",
       "      <th>monthjan</th>\n",
       "      <th>monthjul</th>\n",
       "      <th>monthjun</th>\n",
       "      <th>monthmar</th>\n",
       "      <th>monthmay</th>\n",
       "      <th>monthnov</th>\n",
       "      <th>monthoct</th>\n",
       "      <th>monthsep</th>\n",
       "      <th>size_category</th>\n",
       "    </tr>\n",
       "  </thead>\n",
       "  <tbody>\n",
       "    <tr>\n",
       "      <th>0</th>\n",
       "      <td>3</td>\n",
       "      <td>7</td>\n",
       "      <td>86.2</td>\n",
       "      <td>26.2</td>\n",
       "      <td>94.3</td>\n",
       "      <td>5.1</td>\n",
       "      <td>8.2</td>\n",
       "      <td>51</td>\n",
       "      <td>6.7</td>\n",
       "      <td>0.0</td>\n",
       "      <td>...</td>\n",
       "      <td>0</td>\n",
       "      <td>0</td>\n",
       "      <td>0</td>\n",
       "      <td>0</td>\n",
       "      <td>1</td>\n",
       "      <td>0</td>\n",
       "      <td>0</td>\n",
       "      <td>0</td>\n",
       "      <td>0</td>\n",
       "      <td>0</td>\n",
       "    </tr>\n",
       "    <tr>\n",
       "      <th>1</th>\n",
       "      <td>10</td>\n",
       "      <td>4</td>\n",
       "      <td>90.6</td>\n",
       "      <td>35.4</td>\n",
       "      <td>669.1</td>\n",
       "      <td>6.7</td>\n",
       "      <td>18.0</td>\n",
       "      <td>33</td>\n",
       "      <td>0.9</td>\n",
       "      <td>0.0</td>\n",
       "      <td>...</td>\n",
       "      <td>0</td>\n",
       "      <td>0</td>\n",
       "      <td>0</td>\n",
       "      <td>0</td>\n",
       "      <td>0</td>\n",
       "      <td>0</td>\n",
       "      <td>0</td>\n",
       "      <td>1</td>\n",
       "      <td>0</td>\n",
       "      <td>0</td>\n",
       "    </tr>\n",
       "    <tr>\n",
       "      <th>2</th>\n",
       "      <td>10</td>\n",
       "      <td>1</td>\n",
       "      <td>90.6</td>\n",
       "      <td>43.7</td>\n",
       "      <td>686.9</td>\n",
       "      <td>6.7</td>\n",
       "      <td>14.6</td>\n",
       "      <td>33</td>\n",
       "      <td>1.3</td>\n",
       "      <td>0.0</td>\n",
       "      <td>...</td>\n",
       "      <td>0</td>\n",
       "      <td>0</td>\n",
       "      <td>0</td>\n",
       "      <td>0</td>\n",
       "      <td>0</td>\n",
       "      <td>0</td>\n",
       "      <td>0</td>\n",
       "      <td>1</td>\n",
       "      <td>0</td>\n",
       "      <td>0</td>\n",
       "    </tr>\n",
       "  </tbody>\n",
       "</table>\n",
       "<p>3 rows × 31 columns</p>\n",
       "</div>"
      ],
      "text/plain": [
       "   month  day  FFMC   DMC     DC  ISI  temp  RH  wind  rain  ...  monthfeb  \\\n",
       "0      3    7  86.2  26.2   94.3  5.1   8.2  51   6.7   0.0  ...         0   \n",
       "1     10    4  90.6  35.4  669.1  6.7  18.0  33   0.9   0.0  ...         0   \n",
       "2     10    1  90.6  43.7  686.9  6.7  14.6  33   1.3   0.0  ...         0   \n",
       "\n",
       "   monthjan  monthjul  monthjun  monthmar  monthmay  monthnov  monthoct  \\\n",
       "0         0         0         0         1         0         0         0   \n",
       "1         0         0         0         0         0         0         1   \n",
       "2         0         0         0         0         0         0         1   \n",
       "\n",
       "   monthsep  size_category  \n",
       "0         0              0  \n",
       "1         0              0  \n",
       "2         0              0  \n",
       "\n",
       "[3 rows x 31 columns]"
      ]
     },
     "execution_count": 104,
     "metadata": {},
     "output_type": "execute_result"
    }
   ],
   "source": [
    "replaceStruct = {\n",
    "                \"month\":     {\"jan\": 1, \"feb\":2 , \"mar\": 3, \"apr\": 4,\"may\": 5, \"jun\": 6, \"jul\": 7, \"aug\": 8, \"sep\": 9, \"oct\": 10, \"nov\": 11, \"dec\": 12},\n",
    "                \"day\":  {\"sat\":1, \"sun\": 2, \"mon\": 3, \"tue\": 4,\"wed\": 5,\"thu\": 6,\"fri\": 7},\n",
    "                \"size_category\":    {\"small\": 0, \"large\": 1} \n",
    "                    }\n",
    "\n",
    "forest_df=forest_df.replace(replaceStruct)\n",
    "forest_df.head(3)"
   ]
  },
  {
   "cell_type": "code",
   "execution_count": 105,
   "id": "43739a7e",
   "metadata": {},
   "outputs": [],
   "source": [
    "features_X = forest_df.drop(['size_category'], axis = 1)\n",
    "labels_Y = forest_df['size_category'].values.reshape(-1, 1)"
   ]
  },
  {
   "cell_type": "code",
   "execution_count": 106,
   "id": "b5a32ceb",
   "metadata": {},
   "outputs": [
    {
     "data": {
      "text/plain": [
       "((413, 30), (104, 30), (413, 1), (104, 1))"
      ]
     },
     "execution_count": 106,
     "metadata": {},
     "output_type": "execute_result"
    }
   ],
   "source": [
    "X_train, X_test, y_train, y_test = train_test_split(features_X,labels_Y, test_size = 0.2, random_state = 42)\n",
    "X_train.shape,X_test.shape,y_train.shape,y_test.shape"
   ]
  },
  {
   "cell_type": "code",
   "execution_count": 107,
   "id": "e7235490",
   "metadata": {},
   "outputs": [],
   "source": [
    "# Create instances of all four classifier\n",
    "rfc=RandomForestClassifier(n_estimators=100)\n",
    "et =ExtraTreesClassifier(n_estimators=100) \n",
    "bmc = BaggingClassifier(KNeighborsClassifier()) \n",
    "abc = AdaBoostClassifier(n_estimators=100,learning_rate=.05)\n",
    "gbc = GradientBoostingClassifier(n_estimators=10, learning_rate=.05,max_depth=1)"
   ]
  },
  {
   "cell_type": "code",
   "execution_count": 108,
   "id": "2933c1c9",
   "metadata": {},
   "outputs": [
    {
     "name": "stderr",
     "output_type": "stream",
     "text": [
      "C:\\Users\\ayoba\\AppData\\Local\\Temp\\ipykernel_22028\\1289651690.py:4: DataConversionWarning: A column-vector y was passed when a 1d array was expected. Please change the shape of y to (n_samples,), for example using ravel().\n",
      "  clf.fit(X_train, y_train)\n",
      "C:\\Users\\ayoba\\AppData\\Local\\Temp\\ipykernel_22028\\1289651690.py:4: DataConversionWarning: A column-vector y was passed when a 1d array was expected. Please change the shape of y to (n_samples,), for example using ravel().\n",
      "  clf.fit(X_train, y_train)\n",
      "C:\\Users\\ayoba\\anaconda3\\lib\\site-packages\\sklearn\\ensemble\\_bagging.py:760: DataConversionWarning: A column-vector y was passed when a 1d array was expected. Please change the shape of y to (n_samples, ), for example using ravel().\n",
      "  y = column_or_1d(y, warn=True)\n"
     ]
    },
    {
     "name": "stdout",
     "output_type": "stream",
     "text": [
      "RandomForestClassifier 99.03846153846155\n",
      "ExtraTreesClassifier 88.46153846153845\n",
      "BaggingClassifier 84.61538461538461\n",
      "AdaBoostClassifier 100.0\n",
      "GradientBoostingClassifier 100.0\n"
     ]
    },
    {
     "name": "stderr",
     "output_type": "stream",
     "text": [
      "C:\\Users\\ayoba\\anaconda3\\lib\\site-packages\\sklearn\\utils\\validation.py:1111: DataConversionWarning: A column-vector y was passed when a 1d array was expected. Please change the shape of y to (n_samples, ), for example using ravel().\n",
      "  y = column_or_1d(y, warn=True)\n",
      "C:\\Users\\ayoba\\anaconda3\\lib\\site-packages\\sklearn\\ensemble\\_gb.py:570: DataConversionWarning: A column-vector y was passed when a 1d array was expected. Please change the shape of y to (n_samples, ), for example using ravel().\n",
      "  y = column_or_1d(y, warn=True)\n"
     ]
    }
   ],
   "source": [
    "from sklearn import metrics\n",
    "#Train the model using the training sets y_pred=clf.predict(X_test), prediction on test set\n",
    "for clf in (rfc, et, bmc, abc, gbc):\n",
    "    clf.fit(X_train, y_train)\n",
    "    y_pred = clf.predict(X_test)\n",
    "    print(clf.__class__.__name__, accuracy_score(y_test,y_pred)*100)"
   ]
  },
  {
   "cell_type": "markdown",
   "id": "28e59554",
   "metadata": {},
   "source": [
    "Generating the Model on Selected Features"
   ]
  },
  {
   "cell_type": "code",
   "execution_count": 109,
   "id": "37a44a90",
   "metadata": {},
   "outputs": [
    {
     "data": {
      "text/plain": [
       "area        1.0\n",
       "month       0.0\n",
       "daytue      0.0\n",
       "monthoct    0.0\n",
       "monthnov    0.0\n",
       "monthmay    0.0\n",
       "monthmar    0.0\n",
       "monthjun    0.0\n",
       "monthjul    0.0\n",
       "monthjan    0.0\n",
       "monthfeb    0.0\n",
       "monthdec    0.0\n",
       "monthaug    0.0\n",
       "monthapr    0.0\n",
       "daywed      0.0\n",
       "daythu      0.0\n",
       "day         0.0\n",
       "daysun      0.0\n",
       "daysat      0.0\n",
       "daymon      0.0\n",
       "dayfri      0.0\n",
       "rain        0.0\n",
       "wind        0.0\n",
       "RH          0.0\n",
       "temp        0.0\n",
       "ISI         0.0\n",
       "DC          0.0\n",
       "DMC         0.0\n",
       "FFMC        0.0\n",
       "monthsep    0.0\n",
       "dtype: float64"
      ]
     },
     "execution_count": 109,
     "metadata": {},
     "output_type": "execute_result"
    }
   ],
   "source": [
    "numerical_features = features_X.describe(include=[\"int64\",\"float64\"]).columns\n",
    "numerical_features\n",
    "feature_imp_F = pd.Series(clf.feature_importances_,index=numerical_features).sort_values(ascending=False)\n",
    "feature_imp_F"
   ]
  },
  {
   "cell_type": "code",
   "execution_count": 110,
   "id": "e782fa27",
   "metadata": {},
   "outputs": [
    {
     "name": "stderr",
     "output_type": "stream",
     "text": [
      "No artists with labels found to put in legend.  Note that artists whose label start with an underscore are ignored when legend() is called with no argument.\n"
     ]
    },
    {
     "data": {
      "image/png": "[encoded data removed]",
      "text/plain": [
       "<Figure size 432x288 with 1 Axes>"
      ]
     },
     "metadata": {
      "needs_background": "light"
     },
     "output_type": "display_data"
    }
   ],
   "source": [
    "import matplotlib.pyplot as plt\n",
    "import seaborn as sns\n",
    "%matplotlib inline\n",
    "# Creating a bar plot\n",
    "sns.barplot(x=feature_imp_F, y=feature_imp_F.index)\n",
    "# Add labels to your graph\n",
    "plt.xlabel('Feature Importance Score')\n",
    "plt.ylabel('Features')\n",
    "plt.title(\"Visualizing Important Features\")\n",
    "plt.legend()\n",
    "plt.show()"
   ]
  },
  {
   "cell_type": "code",
   "execution_count": 111,
   "id": "957609ee",
   "metadata": {},
   "outputs": [
    {
     "data": {
      "text/plain": [
       "((361, 1), (156, 1), (361, 1), (156, 1))"
      ]
     },
     "execution_count": 111,
     "metadata": {},
     "output_type": "execute_result"
    }
   ],
   "source": [
    "# Split dataset into features and labels\n",
    "X=forest_df[['area']]  # Removed feature \"sepal width\"\n",
    "y=forest_df['size_category'].values.reshape(-1, 1)                                      \n",
    "# Split dataset into training set and test set\n",
    "X_train, X_test, y_train, y_test = train_test_split(X, y, test_size=0.30,random_state=0) # 70% training and 30% test\n",
    "X_train.shape,X_test.shape,y_train.shape,y_test.shape"
   ]
  },
  {
   "cell_type": "code",
   "execution_count": 112,
   "id": "c1cabc7e",
   "metadata": {},
   "outputs": [
    {
     "name": "stdout",
     "output_type": "stream",
     "text": [
      "RandomForestClassifier 99.35897435897436\n",
      "ExtraTreesClassifier 99.35897435897436\n",
      "BaggingClassifier 100.0\n",
      "AdaBoostClassifier 99.35897435897436\n",
      "GradientBoostingClassifier 99.35897435897436\n"
     ]
    },
    {
     "name": "stderr",
     "output_type": "stream",
     "text": [
      "C:\\Users\\ayoba\\AppData\\Local\\Temp\\ipykernel_22028\\1744666860.py:3: DataConversionWarning: A column-vector y was passed when a 1d array was expected. Please change the shape of y to (n_samples,), for example using ravel().\n",
      "  clf1.fit(X_train, y_train)\n",
      "C:\\Users\\ayoba\\AppData\\Local\\Temp\\ipykernel_22028\\1744666860.py:3: DataConversionWarning: A column-vector y was passed when a 1d array was expected. Please change the shape of y to (n_samples,), for example using ravel().\n",
      "  clf1.fit(X_train, y_train)\n",
      "C:\\Users\\ayoba\\anaconda3\\lib\\site-packages\\sklearn\\ensemble\\_bagging.py:760: DataConversionWarning: A column-vector y was passed when a 1d array was expected. Please change the shape of y to (n_samples, ), for example using ravel().\n",
      "  y = column_or_1d(y, warn=True)\n",
      "C:\\Users\\ayoba\\anaconda3\\lib\\site-packages\\sklearn\\utils\\validation.py:1111: DataConversionWarning: A column-vector y was passed when a 1d array was expected. Please change the shape of y to (n_samples, ), for example using ravel().\n",
      "  y = column_or_1d(y, warn=True)\n",
      "C:\\Users\\ayoba\\anaconda3\\lib\\site-packages\\sklearn\\ensemble\\_gb.py:570: DataConversionWarning: A column-vector y was passed when a 1d array was expected. Please change the shape of y to (n_samples, ), for example using ravel().\n",
      "  y = column_or_1d(y, warn=True)\n"
     ]
    }
   ],
   "source": [
    "#Train the model using the training sets y_pred=clf.predict(X_test), prediction on test set\n",
    "for clf1 in (rfc, et, bmc, abc, gbc):\n",
    "    clf1.fit(X_train, y_train)\n",
    "    y_pred1 = clf1.predict(X_test)\n",
    "    print(clf1.__class__.__name__, accuracy_score(y_test,y_pred1)*100)"
   ]
  },
  {
   "cell_type": "code",
   "execution_count": null,
   "id": "2b271362",
   "metadata": {},
   "outputs": [],
   "source": []
  },
  {
   "cell_type": "code",
   "execution_count": null,
   "id": "f717d356",
   "metadata": {},
   "outputs": [],
   "source": []
  }
 ],
 "metadata": {
  "kernelspec": {
   "display_name": "Python 3 (ipykernel)",
   "language": "python",
   "name": "python3"
  },
  "language_info": {
   "codemirror_mode": {
    "name": "ipython",
    "version": 3
   },
   "file_extension": ".py",
   "mimetype": "text/x-python",
   "name": "python",
   "nbconvert_exporter": "python",
   "pygments_lexer": "ipython3",
   "version": "3.9.12"
  }
 },
 "nbformat": 4,
 "nbformat_minor": 5
}
