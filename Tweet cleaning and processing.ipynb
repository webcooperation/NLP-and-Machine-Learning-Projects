{
 "cells": [
  {
   "cell_type": "code",
   "execution_count": 1,
   "id": "8ee3b568",
   "metadata": {},
   "outputs": [],
   "source": [
    "import numpy as np\n",
    "import pandas as pd\n",
    "import sklearn\n",
    "import seaborn as sns\n",
    "import matplotlib.pyplot as plt\n",
    "from collections import Counter"
   ]
  },
  {
   "cell_type": "code",
   "execution_count": 2,
   "id": "94c97b9d",
   "metadata": {},
   "outputs": [
    {
     "data": {
      "text/html": [
       "<div>\n",
       "<style scoped>\n",
       "    .dataframe tbody tr th:only-of-type {\n",
       "        vertical-align: middle;\n",
       "    }\n",
       "\n",
       "    .dataframe tbody tr th {\n",
       "        vertical-align: top;\n",
       "    }\n",
       "\n",
       "    .dataframe thead th {\n",
       "        text-align: right;\n",
       "    }\n",
       "</style>\n",
       "<table border=\"1\" class=\"dataframe\">\n",
       "  <thead>\n",
       "    <tr style=\"text-align: right;\">\n",
       "      <th></th>\n",
       "      <th>Unnamed: 0</th>\n",
       "      <th>date</th>\n",
       "      <th>username</th>\n",
       "      <th>tweet</th>\n",
       "      <th>language</th>\n",
       "      <th>hashtags</th>\n",
       "      <th>near</th>\n",
       "      <th>cleaned_tweet</th>\n",
       "      <th>polarity</th>\n",
       "      <th>subjectivity</th>\n",
       "      <th>Sentiment</th>\n",
       "    </tr>\n",
       "  </thead>\n",
       "  <tbody>\n",
       "    <tr>\n",
       "      <th>21468</th>\n",
       "      <td>22060</td>\n",
       "      <td>2022-10-22 08:16:29</td>\n",
       "      <td>yhebethuna</td>\n",
       "      <td>Nope   It's 3rd best BBN and influencers party...</td>\n",
       "      <td>en</td>\n",
       "      <td>[]</td>\n",
       "      <td>Cape town</td>\n",
       "      <td>nope   it rd best bbn and influencers party af...</td>\n",
       "      <td>0.24</td>\n",
       "      <td>0.356667</td>\n",
       "      <td>Positive</td>\n",
       "    </tr>\n",
       "    <tr>\n",
       "      <th>21469</th>\n",
       "      <td>22061</td>\n",
       "      <td>2022-09-15 11:56:25</td>\n",
       "      <td>nathanstitus</td>\n",
       "      <td>@TasAda123 When I did watch, I really enjoyed ...</td>\n",
       "      <td>en</td>\n",
       "      <td>[]</td>\n",
       "      <td>Cape town</td>\n",
       "      <td>when i did watch i really enjoyed narcos stran...</td>\n",
       "      <td>0.20</td>\n",
       "      <td>0.650000</td>\n",
       "      <td>Positive</td>\n",
       "    </tr>\n",
       "    <tr>\n",
       "      <th>21470</th>\n",
       "      <td>22062</td>\n",
       "      <td>2022-08-27 17:35:43</td>\n",
       "      <td>omoiyaakeem</td>\n",
       "      <td>This is some intense Squid game 🥹BBNaija</td>\n",
       "      <td>en</td>\n",
       "      <td>[]</td>\n",
       "      <td>Cape town</td>\n",
       "      <td>this is some intense squid game bbnaija</td>\n",
       "      <td>-0.10</td>\n",
       "      <td>0.700000</td>\n",
       "      <td>Negative</td>\n",
       "    </tr>\n",
       "    <tr>\n",
       "      <th>21471</th>\n",
       "      <td>22063</td>\n",
       "      <td>2022-07-10 12:36:04</td>\n",
       "      <td>Matt_Maekela</td>\n",
       "      <td>Loved it so much didn't wanna finish reading i...</td>\n",
       "      <td>en</td>\n",
       "      <td>['allagainstall', 'nathanallen', 'squidgame']</td>\n",
       "      <td>Cape town</td>\n",
       "      <td>loved it so much didnt wanna finish reading it...</td>\n",
       "      <td>0.45</td>\n",
       "      <td>0.500000</td>\n",
       "      <td>Positive</td>\n",
       "    </tr>\n",
       "    <tr>\n",
       "      <th>21472</th>\n",
       "      <td>22064</td>\n",
       "      <td>2022-06-20 17:34:53</td>\n",
       "      <td>Ke_Arturo</td>\n",
       "      <td>Who's attending Squid game?  https://t.co/6JiS...</td>\n",
       "      <td>en</td>\n",
       "      <td>[]</td>\n",
       "      <td>Cape town</td>\n",
       "      <td>who attending squid game</td>\n",
       "      <td>-0.40</td>\n",
       "      <td>0.400000</td>\n",
       "      <td>Negative</td>\n",
       "    </tr>\n",
       "  </tbody>\n",
       "</table>\n",
       "</div>"
      ],
      "text/plain": [
       "       Unnamed: 0                 date      username  \\\n",
       "21468       22060  2022-10-22 08:16:29    yhebethuna   \n",
       "21469       22061  2022-09-15 11:56:25  nathanstitus   \n",
       "21470       22062  2022-08-27 17:35:43   omoiyaakeem   \n",
       "21471       22063  2022-07-10 12:36:04  Matt_Maekela   \n",
       "21472       22064  2022-06-20 17:34:53     Ke_Arturo   \n",
       "\n",
       "                                                   tweet language  \\\n",
       "21468  Nope   It's 3rd best BBN and influencers party...       en   \n",
       "21469  @TasAda123 When I did watch, I really enjoyed ...       en   \n",
       "21470           This is some intense Squid game 🥹BBNaija       en   \n",
       "21471  Loved it so much didn't wanna finish reading i...       en   \n",
       "21472  Who's attending Squid game?  https://t.co/6JiS...       en   \n",
       "\n",
       "                                            hashtags       near  \\\n",
       "21468                                             []  Cape town   \n",
       "21469                                             []  Cape town   \n",
       "21470                                             []  Cape town   \n",
       "21471  ['allagainstall', 'nathanallen', 'squidgame']  Cape town   \n",
       "21472                                             []  Cape town   \n",
       "\n",
       "                                           cleaned_tweet  polarity  \\\n",
       "21468  nope   it rd best bbn and influencers party af...      0.24   \n",
       "21469  when i did watch i really enjoyed narcos stran...      0.20   \n",
       "21470            this is some intense squid game bbnaija     -0.10   \n",
       "21471  loved it so much didnt wanna finish reading it...      0.45   \n",
       "21472                           who attending squid game     -0.40   \n",
       "\n",
       "       subjectivity Sentiment  \n",
       "21468      0.356667  Positive  \n",
       "21469      0.650000  Positive  \n",
       "21470      0.700000  Negative  \n",
       "21471      0.500000  Positive  \n",
       "21472      0.400000  Negative  "
      ]
     },
     "execution_count": 2,
     "metadata": {},
     "output_type": "execute_result"
    }
   ],
   "source": [
    "# Importing the dataset\n",
    "squid_data=pd.read_excel('new_allsquid.xlsx')\n",
    "#target = 'target'\n",
    "squid_data.tail()"
   ]
  },
  {
   "cell_type": "code",
   "execution_count": 3,
   "id": "cf1b71fb",
   "metadata": {},
   "outputs": [
    {
     "data": {
      "text/plain": [
       "(21473, 11)"
      ]
     },
     "execution_count": 3,
     "metadata": {},
     "output_type": "execute_result"
    }
   ],
   "source": [
    "squid_data.shape"
   ]
  },
  {
   "cell_type": "code",
   "execution_count": 4,
   "id": "4f9e494a",
   "metadata": {},
   "outputs": [
    {
     "data": {
      "text/plain": [
       "array(['Essex', 'Newcastle', 'London', 'Portsmouth', 'Leicestershire',\n",
       "       'Kent', 'Cardiff', 'Glasgow', 'New York', 'Los Angeles', 'Chicago',\n",
       "       'Phoenix', 'Philadelphia', 'Dallas', 'San Diego', 'San Jose',\n",
       "       'San Antonio', 'Calif', 'Paris', 'Lisbon', 'Amsterdam', 'Florence',\n",
       "       'Vienna', 'Berlin', 'Dublin', 'Hong Kong', 'Mubai', 'Seoul',\n",
       "       'Manila', 'Lagos', 'Abuja', 'Cape town'], dtype=object)"
      ]
     },
     "execution_count": 4,
     "metadata": {},
     "output_type": "execute_result"
    }
   ],
   "source": [
    "squid_data.near.unique()"
   ]
  },
  {
   "cell_type": "code",
   "execution_count": 5,
   "id": "a6dbfc06",
   "metadata": {},
   "outputs": [
    {
     "data": {
      "text/html": [
       "<div>\n",
       "<style scoped>\n",
       "    .dataframe tbody tr th:only-of-type {\n",
       "        vertical-align: middle;\n",
       "    }\n",
       "\n",
       "    .dataframe tbody tr th {\n",
       "        vertical-align: top;\n",
       "    }\n",
       "\n",
       "    .dataframe thead th {\n",
       "        text-align: right;\n",
       "    }\n",
       "</style>\n",
       "<table border=\"1\" class=\"dataframe\">\n",
       "  <thead>\n",
       "    <tr style=\"text-align: right;\">\n",
       "      <th></th>\n",
       "      <th>Unnamed: 0</th>\n",
       "      <th>date</th>\n",
       "      <th>username</th>\n",
       "      <th>tweet</th>\n",
       "      <th>language</th>\n",
       "      <th>hashtags</th>\n",
       "      <th>near</th>\n",
       "      <th>cleaned_tweet</th>\n",
       "      <th>polarity</th>\n",
       "      <th>subjectivity</th>\n",
       "      <th>Sentiment</th>\n",
       "      <th>new_date</th>\n",
       "    </tr>\n",
       "  </thead>\n",
       "  <tbody>\n",
       "    <tr>\n",
       "      <th>0</th>\n",
       "      <td>0</td>\n",
       "      <td>2023-04-14 14:58:58</td>\n",
       "      <td>kevinmatt123</td>\n",
       "      <td>Did y’all even watch the damn show???? They de...</td>\n",
       "      <td>en</td>\n",
       "      <td>[]</td>\n",
       "      <td>Essex</td>\n",
       "      <td>did yall even watch the damn show they definit...</td>\n",
       "      <td>-0.010000</td>\n",
       "      <td>0.290000</td>\n",
       "      <td>Negative</td>\n",
       "      <td>2023-04-14</td>\n",
       "    </tr>\n",
       "    <tr>\n",
       "      <th>1</th>\n",
       "      <td>1</td>\n",
       "      <td>2023-04-12 14:38:32</td>\n",
       "      <td>HolliFriedland</td>\n",
       "      <td>Is your website feeling a bit outdated? Updati...</td>\n",
       "      <td>en</td>\n",
       "      <td>['socialsquids', 'websitedesign', 'webdevelopm...</td>\n",
       "      <td>Essex</td>\n",
       "      <td>is your website feeling a bit outdated updatin...</td>\n",
       "      <td>-0.400000</td>\n",
       "      <td>0.516667</td>\n",
       "      <td>Negative</td>\n",
       "      <td>2023-04-12</td>\n",
       "    </tr>\n",
       "    <tr>\n",
       "      <th>2</th>\n",
       "      <td>2</td>\n",
       "      <td>2023-04-12 11:44:46</td>\n",
       "      <td>bevcut</td>\n",
       "      <td>@Cornet_Szn Squid games, red rose, dead to me</td>\n",
       "      <td>en</td>\n",
       "      <td>[]</td>\n",
       "      <td>Essex</td>\n",
       "      <td>squid games red rose dead to me</td>\n",
       "      <td>0.133333</td>\n",
       "      <td>0.450000</td>\n",
       "      <td>Positive</td>\n",
       "      <td>2023-04-12</td>\n",
       "    </tr>\n",
       "    <tr>\n",
       "      <th>3</th>\n",
       "      <td>3</td>\n",
       "      <td>2023-04-10 14:56:55</td>\n",
       "      <td>PinataPsychic</td>\n",
       "      <td>this game fucking sucks because they put in tw...</td>\n",
       "      <td>en</td>\n",
       "      <td>[]</td>\n",
       "      <td>Essex</td>\n",
       "      <td>this game fucking sucks because they put in tw...</td>\n",
       "      <td>-0.245000</td>\n",
       "      <td>0.555000</td>\n",
       "      <td>Negative</td>\n",
       "      <td>2023-04-10</td>\n",
       "    </tr>\n",
       "    <tr>\n",
       "      <th>4</th>\n",
       "      <td>4</td>\n",
       "      <td>2023-04-09 04:13:13</td>\n",
       "      <td>epicrell</td>\n",
       "      <td>yo….where tf is this squid games season?</td>\n",
       "      <td>en</td>\n",
       "      <td>[]</td>\n",
       "      <td>Essex</td>\n",
       "      <td>yowhere tf is this squid games season</td>\n",
       "      <td>0.000000</td>\n",
       "      <td>0.000000</td>\n",
       "      <td>Neutral</td>\n",
       "      <td>2023-04-09</td>\n",
       "    </tr>\n",
       "    <tr>\n",
       "      <th>...</th>\n",
       "      <td>...</td>\n",
       "      <td>...</td>\n",
       "      <td>...</td>\n",
       "      <td>...</td>\n",
       "      <td>...</td>\n",
       "      <td>...</td>\n",
       "      <td>...</td>\n",
       "      <td>...</td>\n",
       "      <td>...</td>\n",
       "      <td>...</td>\n",
       "      <td>...</td>\n",
       "      <td>...</td>\n",
       "    </tr>\n",
       "    <tr>\n",
       "      <th>21468</th>\n",
       "      <td>22060</td>\n",
       "      <td>2022-10-22 08:16:29</td>\n",
       "      <td>yhebethuna</td>\n",
       "      <td>Nope   It's 3rd best BBN and influencers party...</td>\n",
       "      <td>en</td>\n",
       "      <td>[]</td>\n",
       "      <td>Cape town</td>\n",
       "      <td>nope   it rd best bbn and influencers party af...</td>\n",
       "      <td>0.240000</td>\n",
       "      <td>0.356667</td>\n",
       "      <td>Positive</td>\n",
       "      <td>2022-10-22</td>\n",
       "    </tr>\n",
       "    <tr>\n",
       "      <th>21469</th>\n",
       "      <td>22061</td>\n",
       "      <td>2022-09-15 11:56:25</td>\n",
       "      <td>nathanstitus</td>\n",
       "      <td>@TasAda123 When I did watch, I really enjoyed ...</td>\n",
       "      <td>en</td>\n",
       "      <td>[]</td>\n",
       "      <td>Cape town</td>\n",
       "      <td>when i did watch i really enjoyed narcos stran...</td>\n",
       "      <td>0.200000</td>\n",
       "      <td>0.650000</td>\n",
       "      <td>Positive</td>\n",
       "      <td>2022-09-15</td>\n",
       "    </tr>\n",
       "    <tr>\n",
       "      <th>21470</th>\n",
       "      <td>22062</td>\n",
       "      <td>2022-08-27 17:35:43</td>\n",
       "      <td>omoiyaakeem</td>\n",
       "      <td>This is some intense Squid game 🥹BBNaija</td>\n",
       "      <td>en</td>\n",
       "      <td>[]</td>\n",
       "      <td>Cape town</td>\n",
       "      <td>this is some intense squid game bbnaija</td>\n",
       "      <td>-0.100000</td>\n",
       "      <td>0.700000</td>\n",
       "      <td>Negative</td>\n",
       "      <td>2022-08-27</td>\n",
       "    </tr>\n",
       "    <tr>\n",
       "      <th>21471</th>\n",
       "      <td>22063</td>\n",
       "      <td>2022-07-10 12:36:04</td>\n",
       "      <td>Matt_Maekela</td>\n",
       "      <td>Loved it so much didn't wanna finish reading i...</td>\n",
       "      <td>en</td>\n",
       "      <td>['allagainstall', 'nathanallen', 'squidgame']</td>\n",
       "      <td>Cape town</td>\n",
       "      <td>loved it so much didnt wanna finish reading it...</td>\n",
       "      <td>0.450000</td>\n",
       "      <td>0.500000</td>\n",
       "      <td>Positive</td>\n",
       "      <td>2022-07-10</td>\n",
       "    </tr>\n",
       "    <tr>\n",
       "      <th>21472</th>\n",
       "      <td>22064</td>\n",
       "      <td>2022-06-20 17:34:53</td>\n",
       "      <td>Ke_Arturo</td>\n",
       "      <td>Who's attending Squid game?  https://t.co/6JiS...</td>\n",
       "      <td>en</td>\n",
       "      <td>[]</td>\n",
       "      <td>Cape town</td>\n",
       "      <td>who attending squid game</td>\n",
       "      <td>-0.400000</td>\n",
       "      <td>0.400000</td>\n",
       "      <td>Negative</td>\n",
       "      <td>2022-06-20</td>\n",
       "    </tr>\n",
       "  </tbody>\n",
       "</table>\n",
       "<p>21473 rows × 12 columns</p>\n",
       "</div>"
      ],
      "text/plain": [
       "       Unnamed: 0                 date        username  \\\n",
       "0               0  2023-04-14 14:58:58    kevinmatt123   \n",
       "1               1  2023-04-12 14:38:32  HolliFriedland   \n",
       "2               2  2023-04-12 11:44:46          bevcut   \n",
       "3               3  2023-04-10 14:56:55   PinataPsychic   \n",
       "4               4  2023-04-09 04:13:13        epicrell   \n",
       "...           ...                  ...             ...   \n",
       "21468       22060  2022-10-22 08:16:29      yhebethuna   \n",
       "21469       22061  2022-09-15 11:56:25    nathanstitus   \n",
       "21470       22062  2022-08-27 17:35:43     omoiyaakeem   \n",
       "21471       22063  2022-07-10 12:36:04    Matt_Maekela   \n",
       "21472       22064  2022-06-20 17:34:53       Ke_Arturo   \n",
       "\n",
       "                                                   tweet language  \\\n",
       "0      Did y’all even watch the damn show???? They de...       en   \n",
       "1      Is your website feeling a bit outdated? Updati...       en   \n",
       "2          @Cornet_Szn Squid games, red rose, dead to me       en   \n",
       "3      this game fucking sucks because they put in tw...       en   \n",
       "4               yo….where tf is this squid games season?       en   \n",
       "...                                                  ...      ...   \n",
       "21468  Nope   It's 3rd best BBN and influencers party...       en   \n",
       "21469  @TasAda123 When I did watch, I really enjoyed ...       en   \n",
       "21470           This is some intense Squid game 🥹BBNaija       en   \n",
       "21471  Loved it so much didn't wanna finish reading i...       en   \n",
       "21472  Who's attending Squid game?  https://t.co/6JiS...       en   \n",
       "\n",
       "                                                hashtags       near  \\\n",
       "0                                                     []      Essex   \n",
       "1      ['socialsquids', 'websitedesign', 'webdevelopm...      Essex   \n",
       "2                                                     []      Essex   \n",
       "3                                                     []      Essex   \n",
       "4                                                     []      Essex   \n",
       "...                                                  ...        ...   \n",
       "21468                                                 []  Cape town   \n",
       "21469                                                 []  Cape town   \n",
       "21470                                                 []  Cape town   \n",
       "21471      ['allagainstall', 'nathanallen', 'squidgame']  Cape town   \n",
       "21472                                                 []  Cape town   \n",
       "\n",
       "                                           cleaned_tweet  polarity  \\\n",
       "0      did yall even watch the damn show they definit... -0.010000   \n",
       "1      is your website feeling a bit outdated updatin... -0.400000   \n",
       "2                        squid games red rose dead to me  0.133333   \n",
       "3      this game fucking sucks because they put in tw... -0.245000   \n",
       "4                  yowhere tf is this squid games season  0.000000   \n",
       "...                                                  ...       ...   \n",
       "21468  nope   it rd best bbn and influencers party af...  0.240000   \n",
       "21469  when i did watch i really enjoyed narcos stran...  0.200000   \n",
       "21470            this is some intense squid game bbnaija -0.100000   \n",
       "21471  loved it so much didnt wanna finish reading it...  0.450000   \n",
       "21472                           who attending squid game -0.400000   \n",
       "\n",
       "       subjectivity Sentiment    new_date  \n",
       "0          0.290000  Negative  2023-04-14  \n",
       "1          0.516667  Negative  2023-04-12  \n",
       "2          0.450000  Positive  2023-04-12  \n",
       "3          0.555000  Negative  2023-04-10  \n",
       "4          0.000000   Neutral  2023-04-09  \n",
       "...             ...       ...         ...  \n",
       "21468      0.356667  Positive  2022-10-22  \n",
       "21469      0.650000  Positive  2022-09-15  \n",
       "21470      0.700000  Negative  2022-08-27  \n",
       "21471      0.500000  Positive  2022-07-10  \n",
       "21472      0.400000  Negative  2022-06-20  \n",
       "\n",
       "[21473 rows x 12 columns]"
      ]
     },
     "execution_count": 5,
     "metadata": {},
     "output_type": "execute_result"
    }
   ],
   "source": [
    "import datetime\n",
    "squid_data['new_date']=pd.to_datetime(squid_data['date']).dt.date\n",
    "squid_data"
   ]
  },
  {
   "cell_type": "code",
   "execution_count": 6,
   "id": "60ada7b5",
   "metadata": {},
   "outputs": [
    {
     "name": "stdout",
     "output_type": "stream",
     "text": [
      "Requirement already satisfied: langdetect in c:\\users\\ayoba\\anaconda3\\lib\\site-packages (1.0.9)\n",
      "Requirement already satisfied: six in c:\\users\\ayoba\\anaconda3\\lib\\site-packages (from langdetect) (1.16.0)\n",
      "Note: you may need to restart the kernel to use updated packages.\n"
     ]
    },
    {
     "name": "stderr",
     "output_type": "stream",
     "text": [
      "\n",
      "[notice] A new release of pip available: 23.0.1 -> 23.1.1\n",
      "[notice] To update, run: python.exe -m pip install --upgrade pip\n"
     ]
    }
   ],
   "source": [
    "pip install langdetect"
   ]
  },
  {
   "cell_type": "code",
   "execution_count": 7,
   "id": "94f7bc00",
   "metadata": {},
   "outputs": [],
   "source": [
    "# if datetime_utc is a column\n",
    "squid_data['date'] = pd.to_datetime(squid_data['date'])  # <-- omit if datetime_utc is already datetime64[ns]\n",
    "squid_data[['year', 'month', 'day','time']] = squid_data['date'].apply(lambda x: x.timetuple()[:4]).tolist()\n"
   ]
  },
  {
   "cell_type": "code",
   "execution_count": 8,
   "id": "284d5564",
   "metadata": {},
   "outputs": [
    {
     "data": {
      "text/html": [
       "<div>\n",
       "<style scoped>\n",
       "    .dataframe tbody tr th:only-of-type {\n",
       "        vertical-align: middle;\n",
       "    }\n",
       "\n",
       "    .dataframe tbody tr th {\n",
       "        vertical-align: top;\n",
       "    }\n",
       "\n",
       "    .dataframe thead th {\n",
       "        text-align: right;\n",
       "    }\n",
       "</style>\n",
       "<table border=\"1\" class=\"dataframe\">\n",
       "  <thead>\n",
       "    <tr style=\"text-align: right;\">\n",
       "      <th></th>\n",
       "      <th>Unnamed: 0</th>\n",
       "      <th>date</th>\n",
       "      <th>username</th>\n",
       "      <th>tweet</th>\n",
       "      <th>language</th>\n",
       "      <th>hashtags</th>\n",
       "      <th>near</th>\n",
       "      <th>cleaned_tweet</th>\n",
       "      <th>polarity</th>\n",
       "      <th>subjectivity</th>\n",
       "      <th>Sentiment</th>\n",
       "      <th>new_date</th>\n",
       "      <th>year</th>\n",
       "      <th>month</th>\n",
       "      <th>day</th>\n",
       "      <th>time</th>\n",
       "    </tr>\n",
       "  </thead>\n",
       "  <tbody>\n",
       "    <tr>\n",
       "      <th>0</th>\n",
       "      <td>0</td>\n",
       "      <td>2023-04-14 14:58:58</td>\n",
       "      <td>kevinmatt123</td>\n",
       "      <td>Did y’all even watch the damn show???? They de...</td>\n",
       "      <td>en</td>\n",
       "      <td>[]</td>\n",
       "      <td>Essex</td>\n",
       "      <td>did yall even watch the damn show they definit...</td>\n",
       "      <td>-0.010000</td>\n",
       "      <td>0.290000</td>\n",
       "      <td>Negative</td>\n",
       "      <td>2023-04-14</td>\n",
       "      <td>2023</td>\n",
       "      <td>4</td>\n",
       "      <td>14</td>\n",
       "      <td>14</td>\n",
       "    </tr>\n",
       "    <tr>\n",
       "      <th>1</th>\n",
       "      <td>1</td>\n",
       "      <td>2023-04-12 14:38:32</td>\n",
       "      <td>HolliFriedland</td>\n",
       "      <td>Is your website feeling a bit outdated? Updati...</td>\n",
       "      <td>en</td>\n",
       "      <td>['socialsquids', 'websitedesign', 'webdevelopm...</td>\n",
       "      <td>Essex</td>\n",
       "      <td>is your website feeling a bit outdated updatin...</td>\n",
       "      <td>-0.400000</td>\n",
       "      <td>0.516667</td>\n",
       "      <td>Negative</td>\n",
       "      <td>2023-04-12</td>\n",
       "      <td>2023</td>\n",
       "      <td>4</td>\n",
       "      <td>12</td>\n",
       "      <td>14</td>\n",
       "    </tr>\n",
       "    <tr>\n",
       "      <th>2</th>\n",
       "      <td>2</td>\n",
       "      <td>2023-04-12 11:44:46</td>\n",
       "      <td>bevcut</td>\n",
       "      <td>@Cornet_Szn Squid games, red rose, dead to me</td>\n",
       "      <td>en</td>\n",
       "      <td>[]</td>\n",
       "      <td>Essex</td>\n",
       "      <td>squid games red rose dead to me</td>\n",
       "      <td>0.133333</td>\n",
       "      <td>0.450000</td>\n",
       "      <td>Positive</td>\n",
       "      <td>2023-04-12</td>\n",
       "      <td>2023</td>\n",
       "      <td>4</td>\n",
       "      <td>12</td>\n",
       "      <td>11</td>\n",
       "    </tr>\n",
       "    <tr>\n",
       "      <th>3</th>\n",
       "      <td>3</td>\n",
       "      <td>2023-04-10 14:56:55</td>\n",
       "      <td>PinataPsychic</td>\n",
       "      <td>this game fucking sucks because they put in tw...</td>\n",
       "      <td>en</td>\n",
       "      <td>[]</td>\n",
       "      <td>Essex</td>\n",
       "      <td>this game fucking sucks because they put in tw...</td>\n",
       "      <td>-0.245000</td>\n",
       "      <td>0.555000</td>\n",
       "      <td>Negative</td>\n",
       "      <td>2023-04-10</td>\n",
       "      <td>2023</td>\n",
       "      <td>4</td>\n",
       "      <td>10</td>\n",
       "      <td>14</td>\n",
       "    </tr>\n",
       "    <tr>\n",
       "      <th>4</th>\n",
       "      <td>4</td>\n",
       "      <td>2023-04-09 04:13:13</td>\n",
       "      <td>epicrell</td>\n",
       "      <td>yo….where tf is this squid games season?</td>\n",
       "      <td>en</td>\n",
       "      <td>[]</td>\n",
       "      <td>Essex</td>\n",
       "      <td>yowhere tf is this squid games season</td>\n",
       "      <td>0.000000</td>\n",
       "      <td>0.000000</td>\n",
       "      <td>Neutral</td>\n",
       "      <td>2023-04-09</td>\n",
       "      <td>2023</td>\n",
       "      <td>4</td>\n",
       "      <td>9</td>\n",
       "      <td>4</td>\n",
       "    </tr>\n",
       "    <tr>\n",
       "      <th>...</th>\n",
       "      <td>...</td>\n",
       "      <td>...</td>\n",
       "      <td>...</td>\n",
       "      <td>...</td>\n",
       "      <td>...</td>\n",
       "      <td>...</td>\n",
       "      <td>...</td>\n",
       "      <td>...</td>\n",
       "      <td>...</td>\n",
       "      <td>...</td>\n",
       "      <td>...</td>\n",
       "      <td>...</td>\n",
       "      <td>...</td>\n",
       "      <td>...</td>\n",
       "      <td>...</td>\n",
       "      <td>...</td>\n",
       "    </tr>\n",
       "    <tr>\n",
       "      <th>21468</th>\n",
       "      <td>22060</td>\n",
       "      <td>2022-10-22 08:16:29</td>\n",
       "      <td>yhebethuna</td>\n",
       "      <td>Nope   It's 3rd best BBN and influencers party...</td>\n",
       "      <td>en</td>\n",
       "      <td>[]</td>\n",
       "      <td>Cape town</td>\n",
       "      <td>nope   it rd best bbn and influencers party af...</td>\n",
       "      <td>0.240000</td>\n",
       "      <td>0.356667</td>\n",
       "      <td>Positive</td>\n",
       "      <td>2022-10-22</td>\n",
       "      <td>2022</td>\n",
       "      <td>10</td>\n",
       "      <td>22</td>\n",
       "      <td>8</td>\n",
       "    </tr>\n",
       "    <tr>\n",
       "      <th>21469</th>\n",
       "      <td>22061</td>\n",
       "      <td>2022-09-15 11:56:25</td>\n",
       "      <td>nathanstitus</td>\n",
       "      <td>@TasAda123 When I did watch, I really enjoyed ...</td>\n",
       "      <td>en</td>\n",
       "      <td>[]</td>\n",
       "      <td>Cape town</td>\n",
       "      <td>when i did watch i really enjoyed narcos stran...</td>\n",
       "      <td>0.200000</td>\n",
       "      <td>0.650000</td>\n",
       "      <td>Positive</td>\n",
       "      <td>2022-09-15</td>\n",
       "      <td>2022</td>\n",
       "      <td>9</td>\n",
       "      <td>15</td>\n",
       "      <td>11</td>\n",
       "    </tr>\n",
       "    <tr>\n",
       "      <th>21470</th>\n",
       "      <td>22062</td>\n",
       "      <td>2022-08-27 17:35:43</td>\n",
       "      <td>omoiyaakeem</td>\n",
       "      <td>This is some intense Squid game 🥹BBNaija</td>\n",
       "      <td>en</td>\n",
       "      <td>[]</td>\n",
       "      <td>Cape town</td>\n",
       "      <td>this is some intense squid game bbnaija</td>\n",
       "      <td>-0.100000</td>\n",
       "      <td>0.700000</td>\n",
       "      <td>Negative</td>\n",
       "      <td>2022-08-27</td>\n",
       "      <td>2022</td>\n",
       "      <td>8</td>\n",
       "      <td>27</td>\n",
       "      <td>17</td>\n",
       "    </tr>\n",
       "    <tr>\n",
       "      <th>21471</th>\n",
       "      <td>22063</td>\n",
       "      <td>2022-07-10 12:36:04</td>\n",
       "      <td>Matt_Maekela</td>\n",
       "      <td>Loved it so much didn't wanna finish reading i...</td>\n",
       "      <td>en</td>\n",
       "      <td>['allagainstall', 'nathanallen', 'squidgame']</td>\n",
       "      <td>Cape town</td>\n",
       "      <td>loved it so much didnt wanna finish reading it...</td>\n",
       "      <td>0.450000</td>\n",
       "      <td>0.500000</td>\n",
       "      <td>Positive</td>\n",
       "      <td>2022-07-10</td>\n",
       "      <td>2022</td>\n",
       "      <td>7</td>\n",
       "      <td>10</td>\n",
       "      <td>12</td>\n",
       "    </tr>\n",
       "    <tr>\n",
       "      <th>21472</th>\n",
       "      <td>22064</td>\n",
       "      <td>2022-06-20 17:34:53</td>\n",
       "      <td>Ke_Arturo</td>\n",
       "      <td>Who's attending Squid game?  https://t.co/6JiS...</td>\n",
       "      <td>en</td>\n",
       "      <td>[]</td>\n",
       "      <td>Cape town</td>\n",
       "      <td>who attending squid game</td>\n",
       "      <td>-0.400000</td>\n",
       "      <td>0.400000</td>\n",
       "      <td>Negative</td>\n",
       "      <td>2022-06-20</td>\n",
       "      <td>2022</td>\n",
       "      <td>6</td>\n",
       "      <td>20</td>\n",
       "      <td>17</td>\n",
       "    </tr>\n",
       "  </tbody>\n",
       "</table>\n",
       "<p>21473 rows × 16 columns</p>\n",
       "</div>"
      ],
      "text/plain": [
       "       Unnamed: 0                date        username  \\\n",
       "0               0 2023-04-14 14:58:58    kevinmatt123   \n",
       "1               1 2023-04-12 14:38:32  HolliFriedland   \n",
       "2               2 2023-04-12 11:44:46          bevcut   \n",
       "3               3 2023-04-10 14:56:55   PinataPsychic   \n",
       "4               4 2023-04-09 04:13:13        epicrell   \n",
       "...           ...                 ...             ...   \n",
       "21468       22060 2022-10-22 08:16:29      yhebethuna   \n",
       "21469       22061 2022-09-15 11:56:25    nathanstitus   \n",
       "21470       22062 2022-08-27 17:35:43     omoiyaakeem   \n",
       "21471       22063 2022-07-10 12:36:04    Matt_Maekela   \n",
       "21472       22064 2022-06-20 17:34:53       Ke_Arturo   \n",
       "\n",
       "                                                   tweet language  \\\n",
       "0      Did y’all even watch the damn show???? They de...       en   \n",
       "1      Is your website feeling a bit outdated? Updati...       en   \n",
       "2          @Cornet_Szn Squid games, red rose, dead to me       en   \n",
       "3      this game fucking sucks because they put in tw...       en   \n",
       "4               yo….where tf is this squid games season?       en   \n",
       "...                                                  ...      ...   \n",
       "21468  Nope   It's 3rd best BBN and influencers party...       en   \n",
       "21469  @TasAda123 When I did watch, I really enjoyed ...       en   \n",
       "21470           This is some intense Squid game 🥹BBNaija       en   \n",
       "21471  Loved it so much didn't wanna finish reading i...       en   \n",
       "21472  Who's attending Squid game?  https://t.co/6JiS...       en   \n",
       "\n",
       "                                                hashtags       near  \\\n",
       "0                                                     []      Essex   \n",
       "1      ['socialsquids', 'websitedesign', 'webdevelopm...      Essex   \n",
       "2                                                     []      Essex   \n",
       "3                                                     []      Essex   \n",
       "4                                                     []      Essex   \n",
       "...                                                  ...        ...   \n",
       "21468                                                 []  Cape town   \n",
       "21469                                                 []  Cape town   \n",
       "21470                                                 []  Cape town   \n",
       "21471      ['allagainstall', 'nathanallen', 'squidgame']  Cape town   \n",
       "21472                                                 []  Cape town   \n",
       "\n",
       "                                           cleaned_tweet  polarity  \\\n",
       "0      did yall even watch the damn show they definit... -0.010000   \n",
       "1      is your website feeling a bit outdated updatin... -0.400000   \n",
       "2                        squid games red rose dead to me  0.133333   \n",
       "3      this game fucking sucks because they put in tw... -0.245000   \n",
       "4                  yowhere tf is this squid games season  0.000000   \n",
       "...                                                  ...       ...   \n",
       "21468  nope   it rd best bbn and influencers party af...  0.240000   \n",
       "21469  when i did watch i really enjoyed narcos stran...  0.200000   \n",
       "21470            this is some intense squid game bbnaija -0.100000   \n",
       "21471  loved it so much didnt wanna finish reading it...  0.450000   \n",
       "21472                           who attending squid game -0.400000   \n",
       "\n",
       "       subjectivity Sentiment    new_date  year  month  day  time  \n",
       "0          0.290000  Negative  2023-04-14  2023      4   14    14  \n",
       "1          0.516667  Negative  2023-04-12  2023      4   12    14  \n",
       "2          0.450000  Positive  2023-04-12  2023      4   12    11  \n",
       "3          0.555000  Negative  2023-04-10  2023      4   10    14  \n",
       "4          0.000000   Neutral  2023-04-09  2023      4    9     4  \n",
       "...             ...       ...         ...   ...    ...  ...   ...  \n",
       "21468      0.356667  Positive  2022-10-22  2022     10   22     8  \n",
       "21469      0.650000  Positive  2022-09-15  2022      9   15    11  \n",
       "21470      0.700000  Negative  2022-08-27  2022      8   27    17  \n",
       "21471      0.500000  Positive  2022-07-10  2022      7   10    12  \n",
       "21472      0.400000  Negative  2022-06-20  2022      6   20    17  \n",
       "\n",
       "[21473 rows x 16 columns]"
      ]
     },
     "execution_count": 8,
     "metadata": {},
     "output_type": "execute_result"
    }
   ],
   "source": [
    "squid_data"
   ]
  },
  {
   "cell_type": "code",
   "execution_count": 9,
   "id": "8c30b21b",
   "metadata": {},
   "outputs": [],
   "source": [
    "#detect language of tweets\n",
    "from langdetect import detect\n",
    "def detect_textlang(text):\n",
    "    try:\n",
    "        src_lang = detect(text)\n",
    "        if src_lang =='en':\n",
    "            return 'en'\n",
    "        else:\n",
    "        #return \"NA\"    \n",
    "            return src_lang\n",
    "    except:\n",
    "        return \"NA\"\n",
    "squid_data['text_lang']=squid_data.cleaned_tweet.apply(detect_textlang)"
   ]
  },
  {
   "cell_type": "code",
   "execution_count": 10,
   "id": "e3c591ef",
   "metadata": {},
   "outputs": [
    {
     "data": {
      "text/plain": [
       "array(['en', 'es', 'so', 'ca', 'af', 'no', 'nl', 'it', 'et', 'fr', 'tl',\n",
       "       'da', 'sl', 'pl', 'cy', 'tr', 'id', 'sq', 'pt', 'hr', 'ro', 'sw',\n",
       "       'fi', 'sv', 'de', 'vi', 'cs', 'lt', 'sk', 'lv'], dtype=object)"
      ]
     },
     "execution_count": 10,
     "metadata": {},
     "output_type": "execute_result"
    }
   ],
   "source": [
    "squid_data['text_lang'].unique()"
   ]
  },
  {
   "cell_type": "code",
   "execution_count": 11,
   "id": "8a8fdfc9",
   "metadata": {},
   "outputs": [
    {
     "data": {
      "image/png": "[encoded data removed]",
      "text/plain": [
       "<Figure size 432x288 with 1 Axes>"
      ]
     },
     "metadata": {
      "needs_background": "light"
     },
     "output_type": "display_data"
    }
   ],
   "source": [
    "#Group tweets by language and list the top 10\n",
    "import matplotlib.pyplot as plt\n",
    "plt.figure(figsize=(6,4))\n",
    "squid_data.groupby(squid_data.text_lang).cleaned_tweet.count().sort_values(ascending=False).head(5).plot.bar()\n",
    "plt.show()"
   ]
  },
  {
   "cell_type": "code",
   "execution_count": 12,
   "id": "7ea1c0f1",
   "metadata": {},
   "outputs": [
    {
     "name": "stdout",
     "output_type": "stream",
     "text": [
      "Negative    12221\n",
      "Positive     5551\n",
      "Neutral      3701\n",
      "Name: Sentiment, dtype: int64\n"
     ]
    }
   ],
   "source": [
    "print(squid_data['Sentiment'].value_counts())\n"
   ]
  },
  {
   "cell_type": "code",
   "execution_count": 13,
   "id": "8cc7babd",
   "metadata": {},
   "outputs": [
    {
     "data": {
      "text/plain": [
       "<AxesSubplot:xlabel='Sentiment', ylabel='count'>"
      ]
     },
     "execution_count": 13,
     "metadata": {},
     "output_type": "execute_result"
    },
    {
     "data": {
      "image/png": "[encoded data removed]",
      "text/plain": [
       "<Figure size 720x360 with 1 Axes>"
      ]
     },
     "metadata": {
      "needs_background": "light"
     },
     "output_type": "display_data"
    }
   ],
   "source": [
    "plt.figure(figsize=(10,5))\n",
    "sns.countplot(x='Sentiment',data=squid_data)"
   ]
  },
  {
   "cell_type": "code",
   "execution_count": 15,
   "id": "39336ab2",
   "metadata": {},
   "outputs": [
    {
     "name": "stdout",
     "output_type": "stream",
     "text": [
      "showing info https://raw.githubusercontent.com/nltk/nltk_data/gh-pages/index.xml\n"
     ]
    },
    {
     "data": {
      "text/plain": [
       "True"
      ]
     },
     "execution_count": 15,
     "metadata": {},
     "output_type": "execute_result"
    }
   ],
   "source": [
    " import nltk\n",
    "nltk.download()"
   ]
  },
  {
   "cell_type": "code",
   "execution_count": 16,
   "id": "7db04aed",
   "metadata": {},
   "outputs": [
    {
     "name": "stderr",
     "output_type": "stream",
     "text": [
      "[nltk_data] Downloading package punkt to\n",
      "[nltk_data]     C:\\Users\\ayoba\\AppData\\Roaming\\nltk_data...\n",
      "[nltk_data]   Package punkt is already up-to-date!\n"
     ]
    },
    {
     "data": {
      "text/plain": [
       "True"
      ]
     },
     "execution_count": 16,
     "metadata": {},
     "output_type": "execute_result"
    }
   ],
   "source": [
    "nltk.download('punkt')"
   ]
  },
  {
   "cell_type": "code",
   "execution_count": 17,
   "id": "e34cda6b",
   "metadata": {},
   "outputs": [
    {
     "name": "stderr",
     "output_type": "stream",
     "text": [
      "[nltk_data] Downloading package punkt to\n",
      "[nltk_data]     C:\\Users\\ayoba\\AppData\\Roaming\\nltk_data...\n",
      "[nltk_data]   Package punkt is already up-to-date!\n"
     ]
    }
   ],
   "source": [
    "nltk.download('punkt')\n",
    "from nltk.tokenize import word_tokenize\n",
    "from nltk.stem.wordnet import WordNetLemmatizer\n",
    "from nltk.stem.lancaster import LancasterStemmer\n",
    "\n",
    "nltk.LancasterStemmer\n",
    "ls = LancasterStemmer()\n",
    "lem = WordNetLemmatizer()\n",
    "def lexicon_normalization(text):\n",
    "    words = word_tokenize(text) \n",
    "    \n",
    "    \n",
    "    # 1- Stemming\n",
    "    words_stem = [ls.stem(w) for w in words]\n",
    "    \n",
    "    # 2- Lemmatization\n",
    "    words_lem = [lem.lemmatize(w) for w in words_stem]\n",
    "    return words_lem\n"
   ]
  },
  {
   "cell_type": "code",
   "execution_count": 18,
   "id": "46a23856",
   "metadata": {},
   "outputs": [],
   "source": [
    "contraction = {'cause':'because',\n",
    "              'aint': 'am not',\n",
    "              'aren\\'t': 'are not'}\n",
    "\n",
    "def mapping_replacer(x,dic):\n",
    "    for words in dic.keys():\n",
    "        if ' ' + words + ' ' in x:\n",
    "            x=x.replace(' '+ words +' ' ,' '+dic[words]+' ' )\n",
    "    return x\n"
   ]
  },
  {
   "cell_type": "code",
   "execution_count": 19,
   "id": "0a69ed49",
   "metadata": {},
   "outputs": [],
   "source": [
    "def clean_text(text):\n",
    "    '''Make text lowercase, remove text in square brackets,remove links,remove punctuation\n",
    "    and remove words containing numbers.'''\n",
    "    text = str(text).lower()\n",
    "    text = re.sub('\\[.*?\\]', '', text)\n",
    "    text = re.sub('https?://\\S+|www\\.\\S+', '', text)\n",
    "    text = re.sub('<.*?>+', '', text)\n",
    "    text = re.sub('[%s]' % re.escape(string.punctuation), '', text)\n",
    "    text = re.sub('\\n', '', text)\n",
    "    text = re.sub('\\w*\\d\\w*', '', text)\n",
    "    text = re.sub('\\'','', text)\n",
    "    \n",
    "    return text"
   ]
  },
  {
   "cell_type": "code",
   "execution_count": 20,
   "id": "767233ef",
   "metadata": {},
   "outputs": [],
   "source": [
    "squid_data['cleaned_tweet']=squid_data['cleaned_tweet'].apply(lambda x: mapping_replacer(x, contraction))"
   ]
  },
  {
   "cell_type": "code",
   "execution_count": 21,
   "id": "02c47187",
   "metadata": {},
   "outputs": [],
   "source": [
    "squid_data['content']=squid_data['cleaned_tweet'].apply(lambda x: lexicon_normalization(x))"
   ]
  },
  {
   "cell_type": "code",
   "execution_count": 22,
   "id": "d9940268",
   "metadata": {},
   "outputs": [],
   "source": [
    "Positive_tweet = squid_data[squid_data['Sentiment']=='Positive']\n",
    "negative_tweet = squid_data[squid_data['Sentiment']=='Negative']\n",
    "neutral_tweet=squid_data[squid_data['Sentiment']=='Neutral']\n"
   ]
  },
  {
   "cell_type": "code",
   "execution_count": 23,
   "id": "d779d10a",
   "metadata": {},
   "outputs": [],
   "source": [
    "# Spliting of sentiment into positive, negative and neutral column\n",
    "squid_data['positive_tweet']=squid_data['Sentiment']=='Positive'\n",
    "squid_data['negative_tweet']=squid_data['Sentiment']=='Negative'\n",
    "squid_data['Neutral_tweet']=squid_data['Sentiment']=='Neutral'"
   ]
  },
  {
   "cell_type": "code",
   "execution_count": 86,
   "id": "ff703008",
   "metadata": {},
   "outputs": [
    {
     "data": {
      "text/html": [
       "<div>\n",
       "<style scoped>\n",
       "    .dataframe tbody tr th:only-of-type {\n",
       "        vertical-align: middle;\n",
       "    }\n",
       "\n",
       "    .dataframe tbody tr th {\n",
       "        vertical-align: top;\n",
       "    }\n",
       "\n",
       "    .dataframe thead th {\n",
       "        text-align: right;\n",
       "    }\n",
       "</style>\n",
       "<table border=\"1\" class=\"dataframe\">\n",
       "  <thead>\n",
       "    <tr style=\"text-align: right;\">\n",
       "      <th></th>\n",
       "      <th>Unnamed: 0</th>\n",
       "      <th>date</th>\n",
       "      <th>username</th>\n",
       "      <th>tweet</th>\n",
       "      <th>language</th>\n",
       "      <th>hashtags</th>\n",
       "      <th>near</th>\n",
       "      <th>cleaned_tweet</th>\n",
       "      <th>polarity</th>\n",
       "      <th>subjectivity</th>\n",
       "      <th>Sentiment</th>\n",
       "      <th>new_date</th>\n",
       "      <th>text_lang</th>\n",
       "      <th>content</th>\n",
       "      <th>positive_tweet</th>\n",
       "      <th>negative_tweet</th>\n",
       "      <th>Neutral_tweet</th>\n",
       "    </tr>\n",
       "  </thead>\n",
       "  <tbody>\n",
       "    <tr>\n",
       "      <th>0</th>\n",
       "      <td>0</td>\n",
       "      <td>2023-04-14 14:58:58</td>\n",
       "      <td>kevinmatt123</td>\n",
       "      <td>Did y’all even watch the damn show???? They de...</td>\n",
       "      <td>en</td>\n",
       "      <td>[]</td>\n",
       "      <td>Essex</td>\n",
       "      <td>did yall even watch the damn show they definit...</td>\n",
       "      <td>-0.010000</td>\n",
       "      <td>0.290000</td>\n",
       "      <td>Negative</td>\n",
       "      <td>2023-04-14</td>\n",
       "      <td>en</td>\n",
       "      <td>[did, yal, ev, watch, the, damn, show, they, d...</td>\n",
       "      <td>False</td>\n",
       "      <td>True</td>\n",
       "      <td>False</td>\n",
       "    </tr>\n",
       "    <tr>\n",
       "      <th>1</th>\n",
       "      <td>1</td>\n",
       "      <td>2023-04-12 14:38:32</td>\n",
       "      <td>HolliFriedland</td>\n",
       "      <td>Is your website feeling a bit outdated? Updati...</td>\n",
       "      <td>en</td>\n",
       "      <td>['socialsquids', 'websitedesign', 'webdevelopm...</td>\n",
       "      <td>Essex</td>\n",
       "      <td>is your website feeling a bit outdated updatin...</td>\n",
       "      <td>-0.400000</td>\n",
       "      <td>0.516667</td>\n",
       "      <td>Negative</td>\n",
       "      <td>2023-04-12</td>\n",
       "      <td>en</td>\n",
       "      <td>[is, yo, websit, feel, a, bit, outd, upd, yo, ...</td>\n",
       "      <td>False</td>\n",
       "      <td>True</td>\n",
       "      <td>False</td>\n",
       "    </tr>\n",
       "    <tr>\n",
       "      <th>2</th>\n",
       "      <td>2</td>\n",
       "      <td>2023-04-12 11:44:46</td>\n",
       "      <td>bevcut</td>\n",
       "      <td>@Cornet_Szn Squid games, red rose, dead to me</td>\n",
       "      <td>en</td>\n",
       "      <td>[]</td>\n",
       "      <td>Essex</td>\n",
       "      <td>squid games red rose dead to me</td>\n",
       "      <td>0.133333</td>\n",
       "      <td>0.450000</td>\n",
       "      <td>Positive</td>\n",
       "      <td>2023-04-12</td>\n",
       "      <td>es</td>\n",
       "      <td>[squid, gam, red, ro, dead, to, me]</td>\n",
       "      <td>True</td>\n",
       "      <td>False</td>\n",
       "      <td>False</td>\n",
       "    </tr>\n",
       "    <tr>\n",
       "      <th>3</th>\n",
       "      <td>3</td>\n",
       "      <td>2023-04-10 14:56:55</td>\n",
       "      <td>PinataPsychic</td>\n",
       "      <td>this game fucking sucks because they put in tw...</td>\n",
       "      <td>en</td>\n",
       "      <td>[]</td>\n",
       "      <td>Essex</td>\n",
       "      <td>this game fucking sucks because they put in tw...</td>\n",
       "      <td>-0.245000</td>\n",
       "      <td>0.555000</td>\n",
       "      <td>Negative</td>\n",
       "      <td>2023-04-10</td>\n",
       "      <td>en</td>\n",
       "      <td>[thi, gam, fuck, suck, becaus, they, put, in, ...</td>\n",
       "      <td>False</td>\n",
       "      <td>True</td>\n",
       "      <td>False</td>\n",
       "    </tr>\n",
       "    <tr>\n",
       "      <th>4</th>\n",
       "      <td>4</td>\n",
       "      <td>2023-04-09 04:13:13</td>\n",
       "      <td>epicrell</td>\n",
       "      <td>yo….where tf is this squid games season?</td>\n",
       "      <td>en</td>\n",
       "      <td>[]</td>\n",
       "      <td>Essex</td>\n",
       "      <td>yowhere tf is this squid games season</td>\n",
       "      <td>0.000000</td>\n",
       "      <td>0.000000</td>\n",
       "      <td>Neutral</td>\n",
       "      <td>2023-04-09</td>\n",
       "      <td>en</td>\n",
       "      <td>[yowh, tf, is, thi, squid, gam, season]</td>\n",
       "      <td>False</td>\n",
       "      <td>False</td>\n",
       "      <td>True</td>\n",
       "    </tr>\n",
       "    <tr>\n",
       "      <th>...</th>\n",
       "      <td>...</td>\n",
       "      <td>...</td>\n",
       "      <td>...</td>\n",
       "      <td>...</td>\n",
       "      <td>...</td>\n",
       "      <td>...</td>\n",
       "      <td>...</td>\n",
       "      <td>...</td>\n",
       "      <td>...</td>\n",
       "      <td>...</td>\n",
       "      <td>...</td>\n",
       "      <td>...</td>\n",
       "      <td>...</td>\n",
       "      <td>...</td>\n",
       "      <td>...</td>\n",
       "      <td>...</td>\n",
       "      <td>...</td>\n",
       "    </tr>\n",
       "    <tr>\n",
       "      <th>21468</th>\n",
       "      <td>22060</td>\n",
       "      <td>2022-10-22 08:16:29</td>\n",
       "      <td>yhebethuna</td>\n",
       "      <td>Nope   It's 3rd best BBN and influencers party...</td>\n",
       "      <td>en</td>\n",
       "      <td>[]</td>\n",
       "      <td>Cape town</td>\n",
       "      <td>nope   it rd best bbn and influencers party af...</td>\n",
       "      <td>0.240000</td>\n",
       "      <td>0.356667</td>\n",
       "      <td>Positive</td>\n",
       "      <td>2022-10-22</td>\n",
       "      <td>en</td>\n",
       "      <td>[nop, it, rd, best, bbn, and, influ, party, af...</td>\n",
       "      <td>True</td>\n",
       "      <td>False</td>\n",
       "      <td>False</td>\n",
       "    </tr>\n",
       "    <tr>\n",
       "      <th>21469</th>\n",
       "      <td>22061</td>\n",
       "      <td>2022-09-15 11:56:25</td>\n",
       "      <td>nathanstitus</td>\n",
       "      <td>@TasAda123 When I did watch, I really enjoyed ...</td>\n",
       "      <td>en</td>\n",
       "      <td>[]</td>\n",
       "      <td>Cape town</td>\n",
       "      <td>when i did watch i really enjoyed narcos stran...</td>\n",
       "      <td>0.200000</td>\n",
       "      <td>0.650000</td>\n",
       "      <td>Positive</td>\n",
       "      <td>2022-09-15</td>\n",
       "      <td>en</td>\n",
       "      <td>[when, i, did, watch, i, real, enjoy, narco, s...</td>\n",
       "      <td>True</td>\n",
       "      <td>False</td>\n",
       "      <td>False</td>\n",
       "    </tr>\n",
       "    <tr>\n",
       "      <th>21470</th>\n",
       "      <td>22062</td>\n",
       "      <td>2022-08-27 17:35:43</td>\n",
       "      <td>omoiyaakeem</td>\n",
       "      <td>This is some intense Squid game 🥹BBNaija</td>\n",
       "      <td>en</td>\n",
       "      <td>[]</td>\n",
       "      <td>Cape town</td>\n",
       "      <td>this is some intense squid game bbnaija</td>\n",
       "      <td>-0.100000</td>\n",
       "      <td>0.700000</td>\n",
       "      <td>Negative</td>\n",
       "      <td>2022-08-27</td>\n",
       "      <td>en</td>\n",
       "      <td>[thi, is, som, intens, squid, gam, bbnaija]</td>\n",
       "      <td>False</td>\n",
       "      <td>True</td>\n",
       "      <td>False</td>\n",
       "    </tr>\n",
       "    <tr>\n",
       "      <th>21471</th>\n",
       "      <td>22063</td>\n",
       "      <td>2022-07-10 12:36:04</td>\n",
       "      <td>Matt_Maekela</td>\n",
       "      <td>Loved it so much didn't wanna finish reading i...</td>\n",
       "      <td>en</td>\n",
       "      <td>['allagainstall', 'nathanallen', 'squidgame']</td>\n",
       "      <td>Cape town</td>\n",
       "      <td>loved it so much didnt wanna finish reading it...</td>\n",
       "      <td>0.450000</td>\n",
       "      <td>0.500000</td>\n",
       "      <td>Positive</td>\n",
       "      <td>2022-07-10</td>\n",
       "      <td>en</td>\n",
       "      <td>[lov, it, so, much, didnt, wan, na, fin, read,...</td>\n",
       "      <td>True</td>\n",
       "      <td>False</td>\n",
       "      <td>False</td>\n",
       "    </tr>\n",
       "    <tr>\n",
       "      <th>21472</th>\n",
       "      <td>22064</td>\n",
       "      <td>2022-06-20 17:34:53</td>\n",
       "      <td>Ke_Arturo</td>\n",
       "      <td>Who's attending Squid game?  https://t.co/6JiS...</td>\n",
       "      <td>en</td>\n",
       "      <td>[]</td>\n",
       "      <td>Cape town</td>\n",
       "      <td>who attending squid game</td>\n",
       "      <td>-0.400000</td>\n",
       "      <td>0.400000</td>\n",
       "      <td>Negative</td>\n",
       "      <td>2022-06-20</td>\n",
       "      <td>en</td>\n",
       "      <td>[who, attend, squid, gam]</td>\n",
       "      <td>False</td>\n",
       "      <td>True</td>\n",
       "      <td>False</td>\n",
       "    </tr>\n",
       "  </tbody>\n",
       "</table>\n",
       "<p>21473 rows × 17 columns</p>\n",
       "</div>"
      ],
      "text/plain": [
       "       Unnamed: 0                 date        username  \\\n",
       "0               0  2023-04-14 14:58:58    kevinmatt123   \n",
       "1               1  2023-04-12 14:38:32  HolliFriedland   \n",
       "2               2  2023-04-12 11:44:46          bevcut   \n",
       "3               3  2023-04-10 14:56:55   PinataPsychic   \n",
       "4               4  2023-04-09 04:13:13        epicrell   \n",
       "...           ...                  ...             ...   \n",
       "21468       22060  2022-10-22 08:16:29      yhebethuna   \n",
       "21469       22061  2022-09-15 11:56:25    nathanstitus   \n",
       "21470       22062  2022-08-27 17:35:43     omoiyaakeem   \n",
       "21471       22063  2022-07-10 12:36:04    Matt_Maekela   \n",
       "21472       22064  2022-06-20 17:34:53       Ke_Arturo   \n",
       "\n",
       "                                                   tweet language  \\\n",
       "0      Did y’all even watch the damn show???? They de...       en   \n",
       "1      Is your website feeling a bit outdated? Updati...       en   \n",
       "2          @Cornet_Szn Squid games, red rose, dead to me       en   \n",
       "3      this game fucking sucks because they put in tw...       en   \n",
       "4               yo….where tf is this squid games season?       en   \n",
       "...                                                  ...      ...   \n",
       "21468  Nope   It's 3rd best BBN and influencers party...       en   \n",
       "21469  @TasAda123 When I did watch, I really enjoyed ...       en   \n",
       "21470           This is some intense Squid game 🥹BBNaija       en   \n",
       "21471  Loved it so much didn't wanna finish reading i...       en   \n",
       "21472  Who's attending Squid game?  https://t.co/6JiS...       en   \n",
       "\n",
       "                                                hashtags       near  \\\n",
       "0                                                     []      Essex   \n",
       "1      ['socialsquids', 'websitedesign', 'webdevelopm...      Essex   \n",
       "2                                                     []      Essex   \n",
       "3                                                     []      Essex   \n",
       "4                                                     []      Essex   \n",
       "...                                                  ...        ...   \n",
       "21468                                                 []  Cape town   \n",
       "21469                                                 []  Cape town   \n",
       "21470                                                 []  Cape town   \n",
       "21471      ['allagainstall', 'nathanallen', 'squidgame']  Cape town   \n",
       "21472                                                 []  Cape town   \n",
       "\n",
       "                                           cleaned_tweet  polarity  \\\n",
       "0      did yall even watch the damn show they definit... -0.010000   \n",
       "1      is your website feeling a bit outdated updatin... -0.400000   \n",
       "2                        squid games red rose dead to me  0.133333   \n",
       "3      this game fucking sucks because they put in tw... -0.245000   \n",
       "4                  yowhere tf is this squid games season  0.000000   \n",
       "...                                                  ...       ...   \n",
       "21468  nope   it rd best bbn and influencers party af...  0.240000   \n",
       "21469  when i did watch i really enjoyed narcos stran...  0.200000   \n",
       "21470            this is some intense squid game bbnaija -0.100000   \n",
       "21471  loved it so much didnt wanna finish reading it...  0.450000   \n",
       "21472                           who attending squid game -0.400000   \n",
       "\n",
       "       subjectivity Sentiment    new_date text_lang  \\\n",
       "0          0.290000  Negative  2023-04-14        en   \n",
       "1          0.516667  Negative  2023-04-12        en   \n",
       "2          0.450000  Positive  2023-04-12        es   \n",
       "3          0.555000  Negative  2023-04-10        en   \n",
       "4          0.000000   Neutral  2023-04-09        en   \n",
       "...             ...       ...         ...       ...   \n",
       "21468      0.356667  Positive  2022-10-22        en   \n",
       "21469      0.650000  Positive  2022-09-15        en   \n",
       "21470      0.700000  Negative  2022-08-27        en   \n",
       "21471      0.500000  Positive  2022-07-10        en   \n",
       "21472      0.400000  Negative  2022-06-20        en   \n",
       "\n",
       "                                                 content  positive_tweet  \\\n",
       "0      [did, yal, ev, watch, the, damn, show, they, d...           False   \n",
       "1      [is, yo, websit, feel, a, bit, outd, upd, yo, ...           False   \n",
       "2                    [squid, gam, red, ro, dead, to, me]            True   \n",
       "3      [thi, gam, fuck, suck, becaus, they, put, in, ...           False   \n",
       "4                [yowh, tf, is, thi, squid, gam, season]           False   \n",
       "...                                                  ...             ...   \n",
       "21468  [nop, it, rd, best, bbn, and, influ, party, af...            True   \n",
       "21469  [when, i, did, watch, i, real, enjoy, narco, s...            True   \n",
       "21470        [thi, is, som, intens, squid, gam, bbnaija]           False   \n",
       "21471  [lov, it, so, much, didnt, wan, na, fin, read,...            True   \n",
       "21472                          [who, attend, squid, gam]           False   \n",
       "\n",
       "       negative_tweet  Neutral_tweet  \n",
       "0                True          False  \n",
       "1                True          False  \n",
       "2               False          False  \n",
       "3                True          False  \n",
       "4               False           True  \n",
       "...               ...            ...  \n",
       "21468           False          False  \n",
       "21469           False          False  \n",
       "21470            True          False  \n",
       "21471           False          False  \n",
       "21472            True          False  \n",
       "\n",
       "[21473 rows x 17 columns]"
      ]
     },
     "execution_count": 86,
     "metadata": {},
     "output_type": "execute_result"
    }
   ],
   "source": [
    "squid_data"
   ]
  },
  {
   "cell_type": "code",
   "execution_count": 87,
   "id": "41a8207b",
   "metadata": {},
   "outputs": [],
   "source": [
    "# convering the positive,negative and neutral column to 0 and 1"
   ]
  },
  {
   "cell_type": "code",
   "execution_count": 24,
   "id": "6d8ce360",
   "metadata": {},
   "outputs": [],
   "source": [
    "squid_data['is positive']=squid_data['positive_tweet'].apply(lambda row: 1 if row == True else 0)\n",
    "squid_data['is negative']=squid_data['negative_tweet'].apply(lambda row: 1 if row == True else 0)\n",
    "squid_data['is neutral']=squid_data['Neutral_tweet'].apply(lambda row: 1 if row == True else 0)"
   ]
  },
  {
   "cell_type": "code",
   "execution_count": 25,
   "id": "a046c24d",
   "metadata": {},
   "outputs": [
    {
     "data": {
      "text/html": [
       "<div>\n",
       "<style scoped>\n",
       "    .dataframe tbody tr th:only-of-type {\n",
       "        vertical-align: middle;\n",
       "    }\n",
       "\n",
       "    .dataframe tbody tr th {\n",
       "        vertical-align: top;\n",
       "    }\n",
       "\n",
       "    .dataframe thead th {\n",
       "        text-align: right;\n",
       "    }\n",
       "</style>\n",
       "<table border=\"1\" class=\"dataframe\">\n",
       "  <thead>\n",
       "    <tr style=\"text-align: right;\">\n",
       "      <th></th>\n",
       "      <th>Unnamed: 0</th>\n",
       "      <th>date</th>\n",
       "      <th>username</th>\n",
       "      <th>tweet</th>\n",
       "      <th>language</th>\n",
       "      <th>hashtags</th>\n",
       "      <th>near</th>\n",
       "      <th>cleaned_tweet</th>\n",
       "      <th>polarity</th>\n",
       "      <th>subjectivity</th>\n",
       "      <th>...</th>\n",
       "      <th>day</th>\n",
       "      <th>time</th>\n",
       "      <th>text_lang</th>\n",
       "      <th>content</th>\n",
       "      <th>positive_tweet</th>\n",
       "      <th>negative_tweet</th>\n",
       "      <th>Neutral_tweet</th>\n",
       "      <th>is positive</th>\n",
       "      <th>is negative</th>\n",
       "      <th>is neutral</th>\n",
       "    </tr>\n",
       "  </thead>\n",
       "  <tbody>\n",
       "    <tr>\n",
       "      <th>0</th>\n",
       "      <td>0</td>\n",
       "      <td>2023-04-14 14:58:58</td>\n",
       "      <td>kevinmatt123</td>\n",
       "      <td>Did y’all even watch the damn show???? They de...</td>\n",
       "      <td>en</td>\n",
       "      <td>[]</td>\n",
       "      <td>Essex</td>\n",
       "      <td>did yall even watch the damn show they definit...</td>\n",
       "      <td>-0.010000</td>\n",
       "      <td>0.290000</td>\n",
       "      <td>...</td>\n",
       "      <td>14</td>\n",
       "      <td>14</td>\n",
       "      <td>en</td>\n",
       "      <td>[did, yal, ev, watch, the, damn, show, they, d...</td>\n",
       "      <td>False</td>\n",
       "      <td>True</td>\n",
       "      <td>False</td>\n",
       "      <td>0</td>\n",
       "      <td>1</td>\n",
       "      <td>0</td>\n",
       "    </tr>\n",
       "    <tr>\n",
       "      <th>1</th>\n",
       "      <td>1</td>\n",
       "      <td>2023-04-12 14:38:32</td>\n",
       "      <td>HolliFriedland</td>\n",
       "      <td>Is your website feeling a bit outdated? Updati...</td>\n",
       "      <td>en</td>\n",
       "      <td>['socialsquids', 'websitedesign', 'webdevelopm...</td>\n",
       "      <td>Essex</td>\n",
       "      <td>is your website feeling a bit outdated updatin...</td>\n",
       "      <td>-0.400000</td>\n",
       "      <td>0.516667</td>\n",
       "      <td>...</td>\n",
       "      <td>12</td>\n",
       "      <td>14</td>\n",
       "      <td>en</td>\n",
       "      <td>[is, yo, websit, feel, a, bit, outd, upd, yo, ...</td>\n",
       "      <td>False</td>\n",
       "      <td>True</td>\n",
       "      <td>False</td>\n",
       "      <td>0</td>\n",
       "      <td>1</td>\n",
       "      <td>0</td>\n",
       "    </tr>\n",
       "    <tr>\n",
       "      <th>2</th>\n",
       "      <td>2</td>\n",
       "      <td>2023-04-12 11:44:46</td>\n",
       "      <td>bevcut</td>\n",
       "      <td>@Cornet_Szn Squid games, red rose, dead to me</td>\n",
       "      <td>en</td>\n",
       "      <td>[]</td>\n",
       "      <td>Essex</td>\n",
       "      <td>squid games red rose dead to me</td>\n",
       "      <td>0.133333</td>\n",
       "      <td>0.450000</td>\n",
       "      <td>...</td>\n",
       "      <td>12</td>\n",
       "      <td>11</td>\n",
       "      <td>es</td>\n",
       "      <td>[squid, gam, red, ro, dead, to, me]</td>\n",
       "      <td>True</td>\n",
       "      <td>False</td>\n",
       "      <td>False</td>\n",
       "      <td>1</td>\n",
       "      <td>0</td>\n",
       "      <td>0</td>\n",
       "    </tr>\n",
       "    <tr>\n",
       "      <th>3</th>\n",
       "      <td>3</td>\n",
       "      <td>2023-04-10 14:56:55</td>\n",
       "      <td>PinataPsychic</td>\n",
       "      <td>this game fucking sucks because they put in tw...</td>\n",
       "      <td>en</td>\n",
       "      <td>[]</td>\n",
       "      <td>Essex</td>\n",
       "      <td>this game fucking sucks because they put in tw...</td>\n",
       "      <td>-0.245000</td>\n",
       "      <td>0.555000</td>\n",
       "      <td>...</td>\n",
       "      <td>10</td>\n",
       "      <td>14</td>\n",
       "      <td>en</td>\n",
       "      <td>[thi, gam, fuck, suck, becaus, they, put, in, ...</td>\n",
       "      <td>False</td>\n",
       "      <td>True</td>\n",
       "      <td>False</td>\n",
       "      <td>0</td>\n",
       "      <td>1</td>\n",
       "      <td>0</td>\n",
       "    </tr>\n",
       "    <tr>\n",
       "      <th>4</th>\n",
       "      <td>4</td>\n",
       "      <td>2023-04-09 04:13:13</td>\n",
       "      <td>epicrell</td>\n",
       "      <td>yo….where tf is this squid games season?</td>\n",
       "      <td>en</td>\n",
       "      <td>[]</td>\n",
       "      <td>Essex</td>\n",
       "      <td>yowhere tf is this squid games season</td>\n",
       "      <td>0.000000</td>\n",
       "      <td>0.000000</td>\n",
       "      <td>...</td>\n",
       "      <td>9</td>\n",
       "      <td>4</td>\n",
       "      <td>en</td>\n",
       "      <td>[yowh, tf, is, thi, squid, gam, season]</td>\n",
       "      <td>False</td>\n",
       "      <td>False</td>\n",
       "      <td>True</td>\n",
       "      <td>0</td>\n",
       "      <td>0</td>\n",
       "      <td>1</td>\n",
       "    </tr>\n",
       "    <tr>\n",
       "      <th>...</th>\n",
       "      <td>...</td>\n",
       "      <td>...</td>\n",
       "      <td>...</td>\n",
       "      <td>...</td>\n",
       "      <td>...</td>\n",
       "      <td>...</td>\n",
       "      <td>...</td>\n",
       "      <td>...</td>\n",
       "      <td>...</td>\n",
       "      <td>...</td>\n",
       "      <td>...</td>\n",
       "      <td>...</td>\n",
       "      <td>...</td>\n",
       "      <td>...</td>\n",
       "      <td>...</td>\n",
       "      <td>...</td>\n",
       "      <td>...</td>\n",
       "      <td>...</td>\n",
       "      <td>...</td>\n",
       "      <td>...</td>\n",
       "      <td>...</td>\n",
       "    </tr>\n",
       "    <tr>\n",
       "      <th>21468</th>\n",
       "      <td>22060</td>\n",
       "      <td>2022-10-22 08:16:29</td>\n",
       "      <td>yhebethuna</td>\n",
       "      <td>Nope   It's 3rd best BBN and influencers party...</td>\n",
       "      <td>en</td>\n",
       "      <td>[]</td>\n",
       "      <td>Cape town</td>\n",
       "      <td>nope   it rd best bbn and influencers party af...</td>\n",
       "      <td>0.240000</td>\n",
       "      <td>0.356667</td>\n",
       "      <td>...</td>\n",
       "      <td>22</td>\n",
       "      <td>8</td>\n",
       "      <td>en</td>\n",
       "      <td>[nop, it, rd, best, bbn, and, influ, party, af...</td>\n",
       "      <td>True</td>\n",
       "      <td>False</td>\n",
       "      <td>False</td>\n",
       "      <td>1</td>\n",
       "      <td>0</td>\n",
       "      <td>0</td>\n",
       "    </tr>\n",
       "    <tr>\n",
       "      <th>21469</th>\n",
       "      <td>22061</td>\n",
       "      <td>2022-09-15 11:56:25</td>\n",
       "      <td>nathanstitus</td>\n",
       "      <td>@TasAda123 When I did watch, I really enjoyed ...</td>\n",
       "      <td>en</td>\n",
       "      <td>[]</td>\n",
       "      <td>Cape town</td>\n",
       "      <td>when i did watch i really enjoyed narcos stran...</td>\n",
       "      <td>0.200000</td>\n",
       "      <td>0.650000</td>\n",
       "      <td>...</td>\n",
       "      <td>15</td>\n",
       "      <td>11</td>\n",
       "      <td>en</td>\n",
       "      <td>[when, i, did, watch, i, real, enjoy, narco, s...</td>\n",
       "      <td>True</td>\n",
       "      <td>False</td>\n",
       "      <td>False</td>\n",
       "      <td>1</td>\n",
       "      <td>0</td>\n",
       "      <td>0</td>\n",
       "    </tr>\n",
       "    <tr>\n",
       "      <th>21470</th>\n",
       "      <td>22062</td>\n",
       "      <td>2022-08-27 17:35:43</td>\n",
       "      <td>omoiyaakeem</td>\n",
       "      <td>This is some intense Squid game 🥹BBNaija</td>\n",
       "      <td>en</td>\n",
       "      <td>[]</td>\n",
       "      <td>Cape town</td>\n",
       "      <td>this is some intense squid game bbnaija</td>\n",
       "      <td>-0.100000</td>\n",
       "      <td>0.700000</td>\n",
       "      <td>...</td>\n",
       "      <td>27</td>\n",
       "      <td>17</td>\n",
       "      <td>en</td>\n",
       "      <td>[thi, is, som, intens, squid, gam, bbnaija]</td>\n",
       "      <td>False</td>\n",
       "      <td>True</td>\n",
       "      <td>False</td>\n",
       "      <td>0</td>\n",
       "      <td>1</td>\n",
       "      <td>0</td>\n",
       "    </tr>\n",
       "    <tr>\n",
       "      <th>21471</th>\n",
       "      <td>22063</td>\n",
       "      <td>2022-07-10 12:36:04</td>\n",
       "      <td>Matt_Maekela</td>\n",
       "      <td>Loved it so much didn't wanna finish reading i...</td>\n",
       "      <td>en</td>\n",
       "      <td>['allagainstall', 'nathanallen', 'squidgame']</td>\n",
       "      <td>Cape town</td>\n",
       "      <td>loved it so much didnt wanna finish reading it...</td>\n",
       "      <td>0.450000</td>\n",
       "      <td>0.500000</td>\n",
       "      <td>...</td>\n",
       "      <td>10</td>\n",
       "      <td>12</td>\n",
       "      <td>en</td>\n",
       "      <td>[lov, it, so, much, didnt, wan, na, fin, read,...</td>\n",
       "      <td>True</td>\n",
       "      <td>False</td>\n",
       "      <td>False</td>\n",
       "      <td>1</td>\n",
       "      <td>0</td>\n",
       "      <td>0</td>\n",
       "    </tr>\n",
       "    <tr>\n",
       "      <th>21472</th>\n",
       "      <td>22064</td>\n",
       "      <td>2022-06-20 17:34:53</td>\n",
       "      <td>Ke_Arturo</td>\n",
       "      <td>Who's attending Squid game?  https://t.co/6JiS...</td>\n",
       "      <td>en</td>\n",
       "      <td>[]</td>\n",
       "      <td>Cape town</td>\n",
       "      <td>who attending squid game</td>\n",
       "      <td>-0.400000</td>\n",
       "      <td>0.400000</td>\n",
       "      <td>...</td>\n",
       "      <td>20</td>\n",
       "      <td>17</td>\n",
       "      <td>en</td>\n",
       "      <td>[who, attend, squid, gam]</td>\n",
       "      <td>False</td>\n",
       "      <td>True</td>\n",
       "      <td>False</td>\n",
       "      <td>0</td>\n",
       "      <td>1</td>\n",
       "      <td>0</td>\n",
       "    </tr>\n",
       "  </tbody>\n",
       "</table>\n",
       "<p>21473 rows × 24 columns</p>\n",
       "</div>"
      ],
      "text/plain": [
       "       Unnamed: 0                date        username  \\\n",
       "0               0 2023-04-14 14:58:58    kevinmatt123   \n",
       "1               1 2023-04-12 14:38:32  HolliFriedland   \n",
       "2               2 2023-04-12 11:44:46          bevcut   \n",
       "3               3 2023-04-10 14:56:55   PinataPsychic   \n",
       "4               4 2023-04-09 04:13:13        epicrell   \n",
       "...           ...                 ...             ...   \n",
       "21468       22060 2022-10-22 08:16:29      yhebethuna   \n",
       "21469       22061 2022-09-15 11:56:25    nathanstitus   \n",
       "21470       22062 2022-08-27 17:35:43     omoiyaakeem   \n",
       "21471       22063 2022-07-10 12:36:04    Matt_Maekela   \n",
       "21472       22064 2022-06-20 17:34:53       Ke_Arturo   \n",
       "\n",
       "                                                   tweet language  \\\n",
       "0      Did y’all even watch the damn show???? They de...       en   \n",
       "1      Is your website feeling a bit outdated? Updati...       en   \n",
       "2          @Cornet_Szn Squid games, red rose, dead to me       en   \n",
       "3      this game fucking sucks because they put in tw...       en   \n",
       "4               yo….where tf is this squid games season?       en   \n",
       "...                                                  ...      ...   \n",
       "21468  Nope   It's 3rd best BBN and influencers party...       en   \n",
       "21469  @TasAda123 When I did watch, I really enjoyed ...       en   \n",
       "21470           This is some intense Squid game 🥹BBNaija       en   \n",
       "21471  Loved it so much didn't wanna finish reading i...       en   \n",
       "21472  Who's attending Squid game?  https://t.co/6JiS...       en   \n",
       "\n",
       "                                                hashtags       near  \\\n",
       "0                                                     []      Essex   \n",
       "1      ['socialsquids', 'websitedesign', 'webdevelopm...      Essex   \n",
       "2                                                     []      Essex   \n",
       "3                                                     []      Essex   \n",
       "4                                                     []      Essex   \n",
       "...                                                  ...        ...   \n",
       "21468                                                 []  Cape town   \n",
       "21469                                                 []  Cape town   \n",
       "21470                                                 []  Cape town   \n",
       "21471      ['allagainstall', 'nathanallen', 'squidgame']  Cape town   \n",
       "21472                                                 []  Cape town   \n",
       "\n",
       "                                           cleaned_tweet  polarity  \\\n",
       "0      did yall even watch the damn show they definit... -0.010000   \n",
       "1      is your website feeling a bit outdated updatin... -0.400000   \n",
       "2                        squid games red rose dead to me  0.133333   \n",
       "3      this game fucking sucks because they put in tw... -0.245000   \n",
       "4                  yowhere tf is this squid games season  0.000000   \n",
       "...                                                  ...       ...   \n",
       "21468  nope   it rd best bbn and influencers party af...  0.240000   \n",
       "21469  when i did watch i really enjoyed narcos stran...  0.200000   \n",
       "21470            this is some intense squid game bbnaija -0.100000   \n",
       "21471  loved it so much didnt wanna finish reading it...  0.450000   \n",
       "21472                           who attending squid game -0.400000   \n",
       "\n",
       "       subjectivity  ... day time  text_lang  \\\n",
       "0          0.290000  ...  14   14         en   \n",
       "1          0.516667  ...  12   14         en   \n",
       "2          0.450000  ...  12   11         es   \n",
       "3          0.555000  ...  10   14         en   \n",
       "4          0.000000  ...   9    4         en   \n",
       "...             ...  ...  ..  ...        ...   \n",
       "21468      0.356667  ...  22    8         en   \n",
       "21469      0.650000  ...  15   11         en   \n",
       "21470      0.700000  ...  27   17         en   \n",
       "21471      0.500000  ...  10   12         en   \n",
       "21472      0.400000  ...  20   17         en   \n",
       "\n",
       "                                                 content  positive_tweet  \\\n",
       "0      [did, yal, ev, watch, the, damn, show, they, d...           False   \n",
       "1      [is, yo, websit, feel, a, bit, outd, upd, yo, ...           False   \n",
       "2                    [squid, gam, red, ro, dead, to, me]            True   \n",
       "3      [thi, gam, fuck, suck, becaus, they, put, in, ...           False   \n",
       "4                [yowh, tf, is, thi, squid, gam, season]           False   \n",
       "...                                                  ...             ...   \n",
       "21468  [nop, it, rd, best, bbn, and, influ, party, af...            True   \n",
       "21469  [when, i, did, watch, i, real, enjoy, narco, s...            True   \n",
       "21470        [thi, is, som, intens, squid, gam, bbnaija]           False   \n",
       "21471  [lov, it, so, much, didnt, wan, na, fin, read,...            True   \n",
       "21472                          [who, attend, squid, gam]           False   \n",
       "\n",
       "       negative_tweet Neutral_tweet is positive  is negative  is neutral  \n",
       "0                True         False           0            1           0  \n",
       "1                True         False           0            1           0  \n",
       "2               False         False           1            0           0  \n",
       "3                True         False           0            1           0  \n",
       "4               False          True           0            0           1  \n",
       "...               ...           ...         ...          ...         ...  \n",
       "21468           False         False           1            0           0  \n",
       "21469           False         False           1            0           0  \n",
       "21470            True         False           0            1           0  \n",
       "21471           False         False           1            0           0  \n",
       "21472            True         False           0            1           0  \n",
       "\n",
       "[21473 rows x 24 columns]"
      ]
     },
     "execution_count": 25,
     "metadata": {},
     "output_type": "execute_result"
    }
   ],
   "source": [
    "squid_data"
   ]
  },
  {
   "cell_type": "code",
   "execution_count": 26,
   "id": "c11e1bff",
   "metadata": {},
   "outputs": [
    {
     "data": {
      "text/html": [
       "<div>\n",
       "<style scoped>\n",
       "    .dataframe tbody tr th:only-of-type {\n",
       "        vertical-align: middle;\n",
       "    }\n",
       "\n",
       "    .dataframe tbody tr th {\n",
       "        vertical-align: top;\n",
       "    }\n",
       "\n",
       "    .dataframe thead th {\n",
       "        text-align: right;\n",
       "    }\n",
       "</style>\n",
       "<table border=\"1\" class=\"dataframe\">\n",
       "  <thead>\n",
       "    <tr style=\"text-align: right;\">\n",
       "      <th></th>\n",
       "      <th>Unnamed: 0</th>\n",
       "      <th>date</th>\n",
       "      <th>username</th>\n",
       "      <th>tweet</th>\n",
       "      <th>language</th>\n",
       "      <th>hashtags</th>\n",
       "      <th>near</th>\n",
       "      <th>cleaned_tweet</th>\n",
       "      <th>polarity</th>\n",
       "      <th>subjectivity</th>\n",
       "      <th>...</th>\n",
       "      <th>new_date</th>\n",
       "      <th>year</th>\n",
       "      <th>month</th>\n",
       "      <th>day</th>\n",
       "      <th>time</th>\n",
       "      <th>text_lang</th>\n",
       "      <th>content</th>\n",
       "      <th>is positive</th>\n",
       "      <th>is negative</th>\n",
       "      <th>is neutral</th>\n",
       "    </tr>\n",
       "  </thead>\n",
       "  <tbody>\n",
       "    <tr>\n",
       "      <th>0</th>\n",
       "      <td>0</td>\n",
       "      <td>2023-04-14 14:58:58</td>\n",
       "      <td>kevinmatt123</td>\n",
       "      <td>Did y’all even watch the damn show???? They de...</td>\n",
       "      <td>en</td>\n",
       "      <td>[]</td>\n",
       "      <td>Essex</td>\n",
       "      <td>did yall even watch the damn show they definit...</td>\n",
       "      <td>-0.010000</td>\n",
       "      <td>0.290000</td>\n",
       "      <td>...</td>\n",
       "      <td>2023-04-14</td>\n",
       "      <td>2023</td>\n",
       "      <td>4</td>\n",
       "      <td>14</td>\n",
       "      <td>14</td>\n",
       "      <td>en</td>\n",
       "      <td>[did, yal, ev, watch, the, damn, show, they, d...</td>\n",
       "      <td>0</td>\n",
       "      <td>1</td>\n",
       "      <td>0</td>\n",
       "    </tr>\n",
       "    <tr>\n",
       "      <th>1</th>\n",
       "      <td>1</td>\n",
       "      <td>2023-04-12 14:38:32</td>\n",
       "      <td>HolliFriedland</td>\n",
       "      <td>Is your website feeling a bit outdated? Updati...</td>\n",
       "      <td>en</td>\n",
       "      <td>['socialsquids', 'websitedesign', 'webdevelopm...</td>\n",
       "      <td>Essex</td>\n",
       "      <td>is your website feeling a bit outdated updatin...</td>\n",
       "      <td>-0.400000</td>\n",
       "      <td>0.516667</td>\n",
       "      <td>...</td>\n",
       "      <td>2023-04-12</td>\n",
       "      <td>2023</td>\n",
       "      <td>4</td>\n",
       "      <td>12</td>\n",
       "      <td>14</td>\n",
       "      <td>en</td>\n",
       "      <td>[is, yo, websit, feel, a, bit, outd, upd, yo, ...</td>\n",
       "      <td>0</td>\n",
       "      <td>1</td>\n",
       "      <td>0</td>\n",
       "    </tr>\n",
       "    <tr>\n",
       "      <th>2</th>\n",
       "      <td>2</td>\n",
       "      <td>2023-04-12 11:44:46</td>\n",
       "      <td>bevcut</td>\n",
       "      <td>@Cornet_Szn Squid games, red rose, dead to me</td>\n",
       "      <td>en</td>\n",
       "      <td>[]</td>\n",
       "      <td>Essex</td>\n",
       "      <td>squid games red rose dead to me</td>\n",
       "      <td>0.133333</td>\n",
       "      <td>0.450000</td>\n",
       "      <td>...</td>\n",
       "      <td>2023-04-12</td>\n",
       "      <td>2023</td>\n",
       "      <td>4</td>\n",
       "      <td>12</td>\n",
       "      <td>11</td>\n",
       "      <td>es</td>\n",
       "      <td>[squid, gam, red, ro, dead, to, me]</td>\n",
       "      <td>1</td>\n",
       "      <td>0</td>\n",
       "      <td>0</td>\n",
       "    </tr>\n",
       "    <tr>\n",
       "      <th>3</th>\n",
       "      <td>3</td>\n",
       "      <td>2023-04-10 14:56:55</td>\n",
       "      <td>PinataPsychic</td>\n",
       "      <td>this game fucking sucks because they put in tw...</td>\n",
       "      <td>en</td>\n",
       "      <td>[]</td>\n",
       "      <td>Essex</td>\n",
       "      <td>this game fucking sucks because they put in tw...</td>\n",
       "      <td>-0.245000</td>\n",
       "      <td>0.555000</td>\n",
       "      <td>...</td>\n",
       "      <td>2023-04-10</td>\n",
       "      <td>2023</td>\n",
       "      <td>4</td>\n",
       "      <td>10</td>\n",
       "      <td>14</td>\n",
       "      <td>en</td>\n",
       "      <td>[thi, gam, fuck, suck, becaus, they, put, in, ...</td>\n",
       "      <td>0</td>\n",
       "      <td>1</td>\n",
       "      <td>0</td>\n",
       "    </tr>\n",
       "    <tr>\n",
       "      <th>4</th>\n",
       "      <td>4</td>\n",
       "      <td>2023-04-09 04:13:13</td>\n",
       "      <td>epicrell</td>\n",
       "      <td>yo….where tf is this squid games season?</td>\n",
       "      <td>en</td>\n",
       "      <td>[]</td>\n",
       "      <td>Essex</td>\n",
       "      <td>yowhere tf is this squid games season</td>\n",
       "      <td>0.000000</td>\n",
       "      <td>0.000000</td>\n",
       "      <td>...</td>\n",
       "      <td>2023-04-09</td>\n",
       "      <td>2023</td>\n",
       "      <td>4</td>\n",
       "      <td>9</td>\n",
       "      <td>4</td>\n",
       "      <td>en</td>\n",
       "      <td>[yowh, tf, is, thi, squid, gam, season]</td>\n",
       "      <td>0</td>\n",
       "      <td>0</td>\n",
       "      <td>1</td>\n",
       "    </tr>\n",
       "    <tr>\n",
       "      <th>...</th>\n",
       "      <td>...</td>\n",
       "      <td>...</td>\n",
       "      <td>...</td>\n",
       "      <td>...</td>\n",
       "      <td>...</td>\n",
       "      <td>...</td>\n",
       "      <td>...</td>\n",
       "      <td>...</td>\n",
       "      <td>...</td>\n",
       "      <td>...</td>\n",
       "      <td>...</td>\n",
       "      <td>...</td>\n",
       "      <td>...</td>\n",
       "      <td>...</td>\n",
       "      <td>...</td>\n",
       "      <td>...</td>\n",
       "      <td>...</td>\n",
       "      <td>...</td>\n",
       "      <td>...</td>\n",
       "      <td>...</td>\n",
       "      <td>...</td>\n",
       "    </tr>\n",
       "    <tr>\n",
       "      <th>21468</th>\n",
       "      <td>22060</td>\n",
       "      <td>2022-10-22 08:16:29</td>\n",
       "      <td>yhebethuna</td>\n",
       "      <td>Nope   It's 3rd best BBN and influencers party...</td>\n",
       "      <td>en</td>\n",
       "      <td>[]</td>\n",
       "      <td>Cape town</td>\n",
       "      <td>nope   it rd best bbn and influencers party af...</td>\n",
       "      <td>0.240000</td>\n",
       "      <td>0.356667</td>\n",
       "      <td>...</td>\n",
       "      <td>2022-10-22</td>\n",
       "      <td>2022</td>\n",
       "      <td>10</td>\n",
       "      <td>22</td>\n",
       "      <td>8</td>\n",
       "      <td>en</td>\n",
       "      <td>[nop, it, rd, best, bbn, and, influ, party, af...</td>\n",
       "      <td>1</td>\n",
       "      <td>0</td>\n",
       "      <td>0</td>\n",
       "    </tr>\n",
       "    <tr>\n",
       "      <th>21469</th>\n",
       "      <td>22061</td>\n",
       "      <td>2022-09-15 11:56:25</td>\n",
       "      <td>nathanstitus</td>\n",
       "      <td>@TasAda123 When I did watch, I really enjoyed ...</td>\n",
       "      <td>en</td>\n",
       "      <td>[]</td>\n",
       "      <td>Cape town</td>\n",
       "      <td>when i did watch i really enjoyed narcos stran...</td>\n",
       "      <td>0.200000</td>\n",
       "      <td>0.650000</td>\n",
       "      <td>...</td>\n",
       "      <td>2022-09-15</td>\n",
       "      <td>2022</td>\n",
       "      <td>9</td>\n",
       "      <td>15</td>\n",
       "      <td>11</td>\n",
       "      <td>en</td>\n",
       "      <td>[when, i, did, watch, i, real, enjoy, narco, s...</td>\n",
       "      <td>1</td>\n",
       "      <td>0</td>\n",
       "      <td>0</td>\n",
       "    </tr>\n",
       "    <tr>\n",
       "      <th>21470</th>\n",
       "      <td>22062</td>\n",
       "      <td>2022-08-27 17:35:43</td>\n",
       "      <td>omoiyaakeem</td>\n",
       "      <td>This is some intense Squid game 🥹BBNaija</td>\n",
       "      <td>en</td>\n",
       "      <td>[]</td>\n",
       "      <td>Cape town</td>\n",
       "      <td>this is some intense squid game bbnaija</td>\n",
       "      <td>-0.100000</td>\n",
       "      <td>0.700000</td>\n",
       "      <td>...</td>\n",
       "      <td>2022-08-27</td>\n",
       "      <td>2022</td>\n",
       "      <td>8</td>\n",
       "      <td>27</td>\n",
       "      <td>17</td>\n",
       "      <td>en</td>\n",
       "      <td>[thi, is, som, intens, squid, gam, bbnaija]</td>\n",
       "      <td>0</td>\n",
       "      <td>1</td>\n",
       "      <td>0</td>\n",
       "    </tr>\n",
       "    <tr>\n",
       "      <th>21471</th>\n",
       "      <td>22063</td>\n",
       "      <td>2022-07-10 12:36:04</td>\n",
       "      <td>Matt_Maekela</td>\n",
       "      <td>Loved it so much didn't wanna finish reading i...</td>\n",
       "      <td>en</td>\n",
       "      <td>['allagainstall', 'nathanallen', 'squidgame']</td>\n",
       "      <td>Cape town</td>\n",
       "      <td>loved it so much didnt wanna finish reading it...</td>\n",
       "      <td>0.450000</td>\n",
       "      <td>0.500000</td>\n",
       "      <td>...</td>\n",
       "      <td>2022-07-10</td>\n",
       "      <td>2022</td>\n",
       "      <td>7</td>\n",
       "      <td>10</td>\n",
       "      <td>12</td>\n",
       "      <td>en</td>\n",
       "      <td>[lov, it, so, much, didnt, wan, na, fin, read,...</td>\n",
       "      <td>1</td>\n",
       "      <td>0</td>\n",
       "      <td>0</td>\n",
       "    </tr>\n",
       "    <tr>\n",
       "      <th>21472</th>\n",
       "      <td>22064</td>\n",
       "      <td>2022-06-20 17:34:53</td>\n",
       "      <td>Ke_Arturo</td>\n",
       "      <td>Who's attending Squid game?  https://t.co/6JiS...</td>\n",
       "      <td>en</td>\n",
       "      <td>[]</td>\n",
       "      <td>Cape town</td>\n",
       "      <td>who attending squid game</td>\n",
       "      <td>-0.400000</td>\n",
       "      <td>0.400000</td>\n",
       "      <td>...</td>\n",
       "      <td>2022-06-20</td>\n",
       "      <td>2022</td>\n",
       "      <td>6</td>\n",
       "      <td>20</td>\n",
       "      <td>17</td>\n",
       "      <td>en</td>\n",
       "      <td>[who, attend, squid, gam]</td>\n",
       "      <td>0</td>\n",
       "      <td>1</td>\n",
       "      <td>0</td>\n",
       "    </tr>\n",
       "  </tbody>\n",
       "</table>\n",
       "<p>21473 rows × 21 columns</p>\n",
       "</div>"
      ],
      "text/plain": [
       "       Unnamed: 0                date        username  \\\n",
       "0               0 2023-04-14 14:58:58    kevinmatt123   \n",
       "1               1 2023-04-12 14:38:32  HolliFriedland   \n",
       "2               2 2023-04-12 11:44:46          bevcut   \n",
       "3               3 2023-04-10 14:56:55   PinataPsychic   \n",
       "4               4 2023-04-09 04:13:13        epicrell   \n",
       "...           ...                 ...             ...   \n",
       "21468       22060 2022-10-22 08:16:29      yhebethuna   \n",
       "21469       22061 2022-09-15 11:56:25    nathanstitus   \n",
       "21470       22062 2022-08-27 17:35:43     omoiyaakeem   \n",
       "21471       22063 2022-07-10 12:36:04    Matt_Maekela   \n",
       "21472       22064 2022-06-20 17:34:53       Ke_Arturo   \n",
       "\n",
       "                                                   tweet language  \\\n",
       "0      Did y’all even watch the damn show???? They de...       en   \n",
       "1      Is your website feeling a bit outdated? Updati...       en   \n",
       "2          @Cornet_Szn Squid games, red rose, dead to me       en   \n",
       "3      this game fucking sucks because they put in tw...       en   \n",
       "4               yo….where tf is this squid games season?       en   \n",
       "...                                                  ...      ...   \n",
       "21468  Nope   It's 3rd best BBN and influencers party...       en   \n",
       "21469  @TasAda123 When I did watch, I really enjoyed ...       en   \n",
       "21470           This is some intense Squid game 🥹BBNaija       en   \n",
       "21471  Loved it so much didn't wanna finish reading i...       en   \n",
       "21472  Who's attending Squid game?  https://t.co/6JiS...       en   \n",
       "\n",
       "                                                hashtags       near  \\\n",
       "0                                                     []      Essex   \n",
       "1      ['socialsquids', 'websitedesign', 'webdevelopm...      Essex   \n",
       "2                                                     []      Essex   \n",
       "3                                                     []      Essex   \n",
       "4                                                     []      Essex   \n",
       "...                                                  ...        ...   \n",
       "21468                                                 []  Cape town   \n",
       "21469                                                 []  Cape town   \n",
       "21470                                                 []  Cape town   \n",
       "21471      ['allagainstall', 'nathanallen', 'squidgame']  Cape town   \n",
       "21472                                                 []  Cape town   \n",
       "\n",
       "                                           cleaned_tweet  polarity  \\\n",
       "0      did yall even watch the damn show they definit... -0.010000   \n",
       "1      is your website feeling a bit outdated updatin... -0.400000   \n",
       "2                        squid games red rose dead to me  0.133333   \n",
       "3      this game fucking sucks because they put in tw... -0.245000   \n",
       "4                  yowhere tf is this squid games season  0.000000   \n",
       "...                                                  ...       ...   \n",
       "21468  nope   it rd best bbn and influencers party af...  0.240000   \n",
       "21469  when i did watch i really enjoyed narcos stran...  0.200000   \n",
       "21470            this is some intense squid game bbnaija -0.100000   \n",
       "21471  loved it so much didnt wanna finish reading it...  0.450000   \n",
       "21472                           who attending squid game -0.400000   \n",
       "\n",
       "       subjectivity  ...    new_date  year  month  day  time  text_lang  \\\n",
       "0          0.290000  ...  2023-04-14  2023      4   14    14         en   \n",
       "1          0.516667  ...  2023-04-12  2023      4   12    14         en   \n",
       "2          0.450000  ...  2023-04-12  2023      4   12    11         es   \n",
       "3          0.555000  ...  2023-04-10  2023      4   10    14         en   \n",
       "4          0.000000  ...  2023-04-09  2023      4    9     4         en   \n",
       "...             ...  ...         ...   ...    ...  ...   ...        ...   \n",
       "21468      0.356667  ...  2022-10-22  2022     10   22     8         en   \n",
       "21469      0.650000  ...  2022-09-15  2022      9   15    11         en   \n",
       "21470      0.700000  ...  2022-08-27  2022      8   27    17         en   \n",
       "21471      0.500000  ...  2022-07-10  2022      7   10    12         en   \n",
       "21472      0.400000  ...  2022-06-20  2022      6   20    17         en   \n",
       "\n",
       "                                                 content is positive  \\\n",
       "0      [did, yal, ev, watch, the, damn, show, they, d...           0   \n",
       "1      [is, yo, websit, feel, a, bit, outd, upd, yo, ...           0   \n",
       "2                    [squid, gam, red, ro, dead, to, me]           1   \n",
       "3      [thi, gam, fuck, suck, becaus, they, put, in, ...           0   \n",
       "4                [yowh, tf, is, thi, squid, gam, season]           0   \n",
       "...                                                  ...         ...   \n",
       "21468  [nop, it, rd, best, bbn, and, influ, party, af...           1   \n",
       "21469  [when, i, did, watch, i, real, enjoy, narco, s...           1   \n",
       "21470        [thi, is, som, intens, squid, gam, bbnaija]           0   \n",
       "21471  [lov, it, so, much, didnt, wan, na, fin, read,...           1   \n",
       "21472                          [who, attend, squid, gam]           0   \n",
       "\n",
       "       is negative  is neutral  \n",
       "0                1           0  \n",
       "1                1           0  \n",
       "2                0           0  \n",
       "3                1           0  \n",
       "4                0           1  \n",
       "...            ...         ...  \n",
       "21468            0           0  \n",
       "21469            0           0  \n",
       "21470            1           0  \n",
       "21471            0           0  \n",
       "21472            1           0  \n",
       "\n",
       "[21473 rows x 21 columns]"
      ]
     },
     "execution_count": 26,
     "metadata": {},
     "output_type": "execute_result"
    }
   ],
   "source": [
    "squid_data.drop(['positive_tweet','negative_tweet','Neutral_tweet'],axis=1)"
   ]
  },
  {
   "cell_type": "code",
   "execution_count": 27,
   "id": "3920ce6d",
   "metadata": {},
   "outputs": [
    {
     "name": "stderr",
     "output_type": "stream",
     "text": [
      "C:\\Users\\ayoba\\AppData\\Local\\Temp\\ipykernel_3604\\801924104.py:1: FutureWarning: Indexing with multiple keys (implicitly converted to a tuple of keys) will be deprecated, use a list instead.\n",
      "  df2 = squid_data.groupby(squid_data.near)['is positive','is negative','is neutral','Sentiment'].sum()\n"
     ]
    },
    {
     "data": {
      "text/html": [
       "<div>\n",
       "<style scoped>\n",
       "    .dataframe tbody tr th:only-of-type {\n",
       "        vertical-align: middle;\n",
       "    }\n",
       "\n",
       "    .dataframe tbody tr th {\n",
       "        vertical-align: top;\n",
       "    }\n",
       "\n",
       "    .dataframe thead th {\n",
       "        text-align: right;\n",
       "    }\n",
       "</style>\n",
       "<table border=\"1\" class=\"dataframe\">\n",
       "  <thead>\n",
       "    <tr style=\"text-align: right;\">\n",
       "      <th></th>\n",
       "      <th>is positive</th>\n",
       "      <th>is negative</th>\n",
       "      <th>is neutral</th>\n",
       "    </tr>\n",
       "    <tr>\n",
       "      <th>near</th>\n",
       "      <th></th>\n",
       "      <th></th>\n",
       "      <th></th>\n",
       "    </tr>\n",
       "  </thead>\n",
       "  <tbody>\n",
       "    <tr>\n",
       "      <th>Abuja</th>\n",
       "      <td>2</td>\n",
       "      <td>8</td>\n",
       "      <td>2</td>\n",
       "    </tr>\n",
       "    <tr>\n",
       "      <th>Amsterdam</th>\n",
       "      <td>0</td>\n",
       "      <td>1</td>\n",
       "      <td>0</td>\n",
       "    </tr>\n",
       "    <tr>\n",
       "      <th>Berlin</th>\n",
       "      <td>7</td>\n",
       "      <td>5</td>\n",
       "      <td>1</td>\n",
       "    </tr>\n",
       "    <tr>\n",
       "      <th>Calif</th>\n",
       "      <td>5021</td>\n",
       "      <td>11336</td>\n",
       "      <td>3352</td>\n",
       "    </tr>\n",
       "    <tr>\n",
       "      <th>Cape town</th>\n",
       "      <td>3</td>\n",
       "      <td>3</td>\n",
       "      <td>0</td>\n",
       "    </tr>\n",
       "    <tr>\n",
       "      <th>Cardiff</th>\n",
       "      <td>9</td>\n",
       "      <td>9</td>\n",
       "      <td>4</td>\n",
       "    </tr>\n",
       "    <tr>\n",
       "      <th>Chicago</th>\n",
       "      <td>40</td>\n",
       "      <td>42</td>\n",
       "      <td>28</td>\n",
       "    </tr>\n",
       "    <tr>\n",
       "      <th>Dallas</th>\n",
       "      <td>14</td>\n",
       "      <td>17</td>\n",
       "      <td>12</td>\n",
       "    </tr>\n",
       "    <tr>\n",
       "      <th>Dublin</th>\n",
       "      <td>7</td>\n",
       "      <td>15</td>\n",
       "      <td>5</td>\n",
       "    </tr>\n",
       "    <tr>\n",
       "      <th>Essex</th>\n",
       "      <td>1</td>\n",
       "      <td>5</td>\n",
       "      <td>1</td>\n",
       "    </tr>\n",
       "    <tr>\n",
       "      <th>Florence</th>\n",
       "      <td>1</td>\n",
       "      <td>1</td>\n",
       "      <td>2</td>\n",
       "    </tr>\n",
       "    <tr>\n",
       "      <th>Glasgow</th>\n",
       "      <td>2</td>\n",
       "      <td>8</td>\n",
       "      <td>2</td>\n",
       "    </tr>\n",
       "    <tr>\n",
       "      <th>Hong Kong</th>\n",
       "      <td>0</td>\n",
       "      <td>2</td>\n",
       "      <td>2</td>\n",
       "    </tr>\n",
       "    <tr>\n",
       "      <th>Kent</th>\n",
       "      <td>1</td>\n",
       "      <td>9</td>\n",
       "      <td>2</td>\n",
       "    </tr>\n",
       "    <tr>\n",
       "      <th>Lagos</th>\n",
       "      <td>7</td>\n",
       "      <td>15</td>\n",
       "      <td>8</td>\n",
       "    </tr>\n",
       "    <tr>\n",
       "      <th>Leicestershire</th>\n",
       "      <td>5</td>\n",
       "      <td>1</td>\n",
       "      <td>0</td>\n",
       "    </tr>\n",
       "    <tr>\n",
       "      <th>Lisbon</th>\n",
       "      <td>0</td>\n",
       "      <td>1</td>\n",
       "      <td>0</td>\n",
       "    </tr>\n",
       "    <tr>\n",
       "      <th>London</th>\n",
       "      <td>61</td>\n",
       "      <td>72</td>\n",
       "      <td>31</td>\n",
       "    </tr>\n",
       "    <tr>\n",
       "      <th>Los Angeles</th>\n",
       "      <td>141</td>\n",
       "      <td>150</td>\n",
       "      <td>89</td>\n",
       "    </tr>\n",
       "    <tr>\n",
       "      <th>Manila</th>\n",
       "      <td>18</td>\n",
       "      <td>26</td>\n",
       "      <td>6</td>\n",
       "    </tr>\n",
       "    <tr>\n",
       "      <th>Mubai</th>\n",
       "      <td>59</td>\n",
       "      <td>262</td>\n",
       "      <td>49</td>\n",
       "    </tr>\n",
       "    <tr>\n",
       "      <th>New York</th>\n",
       "      <td>70</td>\n",
       "      <td>117</td>\n",
       "      <td>57</td>\n",
       "    </tr>\n",
       "    <tr>\n",
       "      <th>Newcastle</th>\n",
       "      <td>3</td>\n",
       "      <td>0</td>\n",
       "      <td>0</td>\n",
       "    </tr>\n",
       "    <tr>\n",
       "      <th>Paris</th>\n",
       "      <td>0</td>\n",
       "      <td>23</td>\n",
       "      <td>4</td>\n",
       "    </tr>\n",
       "    <tr>\n",
       "      <th>Philadelphia</th>\n",
       "      <td>14</td>\n",
       "      <td>19</td>\n",
       "      <td>10</td>\n",
       "    </tr>\n",
       "    <tr>\n",
       "      <th>Phoenix</th>\n",
       "      <td>9</td>\n",
       "      <td>5</td>\n",
       "      <td>3</td>\n",
       "    </tr>\n",
       "    <tr>\n",
       "      <th>Portsmouth</th>\n",
       "      <td>0</td>\n",
       "      <td>0</td>\n",
       "      <td>1</td>\n",
       "    </tr>\n",
       "    <tr>\n",
       "      <th>San Antonio</th>\n",
       "      <td>6</td>\n",
       "      <td>10</td>\n",
       "      <td>7</td>\n",
       "    </tr>\n",
       "    <tr>\n",
       "      <th>San Diego</th>\n",
       "      <td>26</td>\n",
       "      <td>14</td>\n",
       "      <td>8</td>\n",
       "    </tr>\n",
       "    <tr>\n",
       "      <th>San Jose</th>\n",
       "      <td>15</td>\n",
       "      <td>25</td>\n",
       "      <td>7</td>\n",
       "    </tr>\n",
       "    <tr>\n",
       "      <th>Seoul</th>\n",
       "      <td>9</td>\n",
       "      <td>16</td>\n",
       "      <td>8</td>\n",
       "    </tr>\n",
       "    <tr>\n",
       "      <th>Vienna</th>\n",
       "      <td>0</td>\n",
       "      <td>4</td>\n",
       "      <td>0</td>\n",
       "    </tr>\n",
       "  </tbody>\n",
       "</table>\n",
       "</div>"
      ],
      "text/plain": [
       "                is positive  is negative  is neutral\n",
       "near                                                \n",
       "Abuja                     2            8           2\n",
       "Amsterdam                 0            1           0\n",
       "Berlin                    7            5           1\n",
       "Calif                  5021        11336        3352\n",
       "Cape town                 3            3           0\n",
       "Cardiff                   9            9           4\n",
       "Chicago                  40           42          28\n",
       "Dallas                   14           17          12\n",
       "Dublin                    7           15           5\n",
       "Essex                     1            5           1\n",
       "Florence                  1            1           2\n",
       "Glasgow                   2            8           2\n",
       "Hong Kong                 0            2           2\n",
       "Kent                      1            9           2\n",
       "Lagos                     7           15           8\n",
       "Leicestershire            5            1           0\n",
       "Lisbon                    0            1           0\n",
       "London                   61           72          31\n",
       "Los Angeles             141          150          89\n",
       "Manila                   18           26           6\n",
       "Mubai                    59          262          49\n",
       "New York                 70          117          57\n",
       "Newcastle                 3            0           0\n",
       "Paris                     0           23           4\n",
       "Philadelphia             14           19          10\n",
       "Phoenix                   9            5           3\n",
       "Portsmouth                0            0           1\n",
       "San Antonio               6           10           7\n",
       "San Diego                26           14           8\n",
       "San Jose                 15           25           7\n",
       "Seoul                     9           16           8\n",
       "Vienna                    0            4           0"
      ]
     },
     "execution_count": 27,
     "metadata": {},
     "output_type": "execute_result"
    }
   ],
   "source": [
    "df2 = squid_data.groupby(squid_data.near)['is positive','is negative','is neutral','Sentiment'].sum()\n",
    "df2"
   ]
  },
  {
   "cell_type": "code",
   "execution_count": 28,
   "id": "fe8bdbeb",
   "metadata": {},
   "outputs": [
    {
     "name": "stdout",
     "output_type": "stream",
     "text": [
      "0    15922\n",
      "1     5551\n",
      "Name: is positive, dtype: int64\n"
     ]
    }
   ],
   "source": [
    "print(squid_data['is positive'].value_counts())"
   ]
  },
  {
   "cell_type": "code",
   "execution_count": 29,
   "id": "8de41a50",
   "metadata": {},
   "outputs": [
    {
     "name": "stdout",
     "output_type": "stream",
     "text": [
      "Number of tweets with positive sentiment 5551\n",
      "Number of tweets with negative sentiment 12221\n",
      "Number of tweets with neutral sentiment 3701\n"
     ]
    }
   ],
   "source": [
    "print('Number of tweets with positive sentiment', Positive_tweet['Sentiment'].count())\n",
    "print('Number of tweets with negative sentiment', negative_tweet['Sentiment'].count())\n",
    "print('Number of tweets with neutral sentiment', neutral_tweet['Sentiment'].count())"
   ]
  },
  {
   "cell_type": "code",
   "execution_count": 30,
   "id": "90980202",
   "metadata": {},
   "outputs": [],
   "source": [
    "# Function to correct the spelling\n",
    "def edits1(word):\n",
    "    letters='abcdefghijklmnopqrstuvwxyz'\n",
    "    splits=[(word[:i], word[i:]) for i in range(len(word)+1)]\n",
    "    deletes=[L+R[1:] for L,R in splits if R]\n",
    "    transposes=[L+R[1] +R[0] + R[2:] for L,R in splits if len(R)>1]\n",
    "    replaces = [L+c+R[1:] for L,R in splits if R for c in letters]\n",
    "    inserts = [L+c+ R for L,R in splits for c in letters]\n",
    "    return set(deletes+transposes+replaces+inserts)\n",
    "def edits2(word):\n",
    "    return(e2 for e1 in edits1(word) for e2 in edits1(e1))"
   ]
  },
  {
   "cell_type": "code",
   "execution_count": 31,
   "id": "32ede759",
   "metadata": {},
   "outputs": [],
   "source": [
    "raw_text = [word for word_list in squid_data['content'] for word in word_list]"
   ]
  },
  {
   "cell_type": "code",
   "execution_count": 32,
   "id": "250c59fc",
   "metadata": {},
   "outputs": [],
   "source": [
    "def words_unique(Sentiment,numwords,raw_words):\n",
    "    '''\n",
    "    Input:\n",
    "        segment - Segment category (ex. 'Neutral');\n",
    "        numwords - how many specific words do you want to see in the final result; \n",
    "        raw_words - list  for item in train_data[train_data.segments == segments]['temp_list1']:\n",
    "    Output: \n",
    "        dataframe giving information about the name of the specific ingredient and how many times it occurs in the chosen cuisine (in descending order based on their counts)..\n",
    "\n",
    "    '''\n",
    "    allother = []\n",
    "    for item in squid_data[squid_data.Sentiment != Sentiment]['content']:\n",
    "        for word in item:\n",
    "            allother .append(word)\n",
    "    allother  = list(set(allother ))\n",
    "    \n",
    "    specificnonly = [x for x in raw_text if x not in allother]\n",
    "    \n",
    "    mycounter = Counter()\n",
    "    \n",
    "    for item in squid_data[squid_data.Sentiment == Sentiment]['content']:\n",
    "        for word in item:\n",
    "            mycounter[word] += 1\n",
    "    keep = list(specificnonly)\n",
    "    \n",
    "    for word in list(mycounter):\n",
    "        if word not in keep:\n",
    "            del mycounter[word]\n",
    "    \n",
    "    Unique_words = pd.DataFrame(mycounter.most_common(numwords), columns = ['words','count'])\n",
    "    \n",
    "    return Unique_words"
   ]
  },
  {
   "cell_type": "code",
   "execution_count": 36,
   "id": "5a8f010a",
   "metadata": {},
   "outputs": [
    {
     "name": "stdout",
     "output_type": "stream",
     "text": [
      "The top 20 unique words in Negative Tweets are:\n"
     ]
    },
    {
     "data": {
      "text/html": [
       "<style type=\"text/css\">\n",
       "#T_daf7f_row0_col1 {\n",
       "  background-color: #67000d;\n",
       "  color: #f1f1f1;\n",
       "}\n",
       "#T_daf7f_row1_col1 {\n",
       "  background-color: #fcab8f;\n",
       "  color: #000000;\n",
       "}\n",
       "#T_daf7f_row2_col1 {\n",
       "  background-color: #fcc1a8;\n",
       "  color: #000000;\n",
       "}\n",
       "#T_daf7f_row3_col1 {\n",
       "  background-color: #fdd3c1;\n",
       "  color: #000000;\n",
       "}\n",
       "#T_daf7f_row4_col1, #T_daf7f_row5_col1 {\n",
       "  background-color: #fee3d7;\n",
       "  color: #000000;\n",
       "}\n",
       "#T_daf7f_row6_col1 {\n",
       "  background-color: #feeae1;\n",
       "  color: #000000;\n",
       "}\n",
       "#T_daf7f_row7_col1, #T_daf7f_row8_col1, #T_daf7f_row9_col1, #T_daf7f_row10_col1 {\n",
       "  background-color: #ffeee7;\n",
       "  color: #000000;\n",
       "}\n",
       "#T_daf7f_row11_col1, #T_daf7f_row12_col1, #T_daf7f_row13_col1 {\n",
       "  background-color: #fff2eb;\n",
       "  color: #000000;\n",
       "}\n",
       "#T_daf7f_row14_col1, #T_daf7f_row15_col1, #T_daf7f_row16_col1, #T_daf7f_row17_col1, #T_daf7f_row18_col1, #T_daf7f_row19_col1 {\n",
       "  background-color: #fff5f0;\n",
       "  color: #000000;\n",
       "}\n",
       "</style>\n",
       "<table id=\"T_daf7f\">\n",
       "  <thead>\n",
       "    <tr>\n",
       "      <th class=\"blank level0\" >&nbsp;</th>\n",
       "      <th id=\"T_daf7f_level0_col0\" class=\"col_heading level0 col0\" >words</th>\n",
       "      <th id=\"T_daf7f_level0_col1\" class=\"col_heading level0 col1\" >count</th>\n",
       "    </tr>\n",
       "  </thead>\n",
       "  <tbody>\n",
       "    <tr>\n",
       "      <th id=\"T_daf7f_level0_row0\" class=\"row_heading level0 row0\" >0</th>\n",
       "      <td id=\"T_daf7f_row0_col0\" class=\"data row0 col0\" >dutch</td>\n",
       "      <td id=\"T_daf7f_row0_col1\" class=\"data row0 col1\" >55</td>\n",
       "    </tr>\n",
       "    <tr>\n",
       "      <th id=\"T_daf7f_level0_row1\" class=\"row_heading level0 row1\" >1</th>\n",
       "      <td id=\"T_daf7f_row1_col0\" class=\"data row1 col0\" >funkovers</td>\n",
       "      <td id=\"T_daf7f_row1_col1\" class=\"data row1 col1\" >22</td>\n",
       "    </tr>\n",
       "    <tr>\n",
       "      <th id=\"T_daf7f_level0_row2\" class=\"row_heading level0 row2\" >2</th>\n",
       "      <td id=\"T_daf7f_row2_col0\" class=\"data row2 col0\" >amyb</td>\n",
       "      <td id=\"T_daf7f_row2_col1\" class=\"data row2 col1\" >19</td>\n",
       "    </tr>\n",
       "    <tr>\n",
       "      <th id=\"T_daf7f_level0_row3\" class=\"row_heading level0 row3\" >3</th>\n",
       "      <td id=\"T_daf7f_row3_col0\" class=\"data row3 col0\" >opp</td>\n",
       "      <td id=\"T_daf7f_row3_col1\" class=\"data row3 col1\" >16</td>\n",
       "    </tr>\n",
       "    <tr>\n",
       "      <th id=\"T_daf7f_level0_row4\" class=\"row_heading level0 row4\" >4</th>\n",
       "      <td id=\"T_daf7f_row4_col0\" class=\"data row4 col0\" >instock</td>\n",
       "      <td id=\"T_daf7f_row4_col1\" class=\"data row4 col1\" >13</td>\n",
       "    </tr>\n",
       "    <tr>\n",
       "      <th id=\"T_daf7f_level0_row5\" class=\"row_heading level0 row5\" >5</th>\n",
       "      <td id=\"T_daf7f_row5_col0\" class=\"data row5 col0\" >guav</td>\n",
       "      <td id=\"T_daf7f_row5_col1\" class=\"data row5 col1\" >13</td>\n",
       "    </tr>\n",
       "    <tr>\n",
       "      <th id=\"T_daf7f_level0_row6\" class=\"row_heading level0 row6\" >6</th>\n",
       "      <td id=\"T_daf7f_row6_col0\" class=\"data row6 col0\" >selfdoubt</td>\n",
       "      <td id=\"T_daf7f_row6_col1\" class=\"data row6 col1\" >11</td>\n",
       "    </tr>\n",
       "    <tr>\n",
       "      <th id=\"T_daf7f_level0_row7\" class=\"row_heading level0 row7\" >7</th>\n",
       "      <td id=\"T_daf7f_row7_col0\" class=\"data row7 col0\" >glen</td>\n",
       "      <td id=\"T_daf7f_row7_col1\" class=\"data row7 col1\" >10</td>\n",
       "    </tr>\n",
       "    <tr>\n",
       "      <th id=\"T_daf7f_level0_row8\" class=\"row_heading level0 row8\" >8</th>\n",
       "      <td id=\"T_daf7f_row8_col0\" class=\"data row8 col0\" >fox</td>\n",
       "      <td id=\"T_daf7f_row8_col1\" class=\"data row8 col1\" >10</td>\n",
       "    </tr>\n",
       "    <tr>\n",
       "      <th id=\"T_daf7f_level0_row9\" class=\"row_heading level0 row9\" >9</th>\n",
       "      <td id=\"T_daf7f_row9_col0\" class=\"data row9 col0\" >chess</td>\n",
       "      <td id=\"T_daf7f_row9_col1\" class=\"data row9 col1\" >10</td>\n",
       "    </tr>\n",
       "    <tr>\n",
       "      <th id=\"T_daf7f_level0_row10\" class=\"row_heading level0 row10\" >10</th>\n",
       "      <td id=\"T_daf7f_row10_col0\" class=\"data row10 col0\" >saison</td>\n",
       "      <td id=\"T_daf7f_row10_col1\" class=\"data row10 col1\" >10</td>\n",
       "    </tr>\n",
       "    <tr>\n",
       "      <th id=\"T_daf7f_level0_row11\" class=\"row_heading level0 row11\" >11</th>\n",
       "      <td id=\"T_daf7f_row11_col0\" class=\"data row11 col0\" >guest</td>\n",
       "      <td id=\"T_daf7f_row11_col1\" class=\"data row11 col1\" >9</td>\n",
       "    </tr>\n",
       "    <tr>\n",
       "      <th id=\"T_daf7f_level0_row12\" class=\"row_heading level0 row12\" >12</th>\n",
       "      <td id=\"T_daf7f_row12_col0\" class=\"data row12 col0\" >shelby</td>\n",
       "      <td id=\"T_daf7f_row12_col1\" class=\"data row12 col1\" >9</td>\n",
       "    </tr>\n",
       "    <tr>\n",
       "      <th id=\"T_daf7f_level0_row13\" class=\"row_heading level0 row13\" >13</th>\n",
       "      <td id=\"T_daf7f_row13_col0\" class=\"data row13 col0\" >disagr</td>\n",
       "      <td id=\"T_daf7f_row13_col1\" class=\"data row13 col1\" >9</td>\n",
       "    </tr>\n",
       "    <tr>\n",
       "      <th id=\"T_daf7f_level0_row14\" class=\"row_heading level0 row14\" >14</th>\n",
       "      <td id=\"T_daf7f_row14_col0\" class=\"data row14 col0\" >christ</td>\n",
       "      <td id=\"T_daf7f_row14_col1\" class=\"data row14 col1\" >8</td>\n",
       "    </tr>\n",
       "    <tr>\n",
       "      <th id=\"T_daf7f_level0_row15\" class=\"row_heading level0 row15\" >15</th>\n",
       "      <td id=\"T_daf7f_row15_col0\" class=\"data row15 col0\" >ragn</td>\n",
       "      <td id=\"T_daf7f_row15_col1\" class=\"data row15 col1\" >8</td>\n",
       "    </tr>\n",
       "    <tr>\n",
       "      <th id=\"T_daf7f_level0_row16\" class=\"row_heading level0 row16\" >16</th>\n",
       "      <td id=\"T_daf7f_row16_col0\" class=\"data row16 col0\" >nasty</td>\n",
       "      <td id=\"T_daf7f_row16_col1\" class=\"data row16 col1\" >8</td>\n",
       "    </tr>\n",
       "    <tr>\n",
       "      <th id=\"T_daf7f_level0_row17\" class=\"row_heading level0 row17\" >17</th>\n",
       "      <td id=\"T_daf7f_row17_col0\" class=\"data row17 col0\" >lunt</td>\n",
       "      <td id=\"T_daf7f_row17_col1\" class=\"data row17 col1\" >8</td>\n",
       "    </tr>\n",
       "    <tr>\n",
       "      <th id=\"T_daf7f_level0_row18\" class=\"row_heading level0 row18\" >18</th>\n",
       "      <td id=\"T_daf7f_row18_col0\" class=\"data row18 col0\" >oo</td>\n",
       "      <td id=\"T_daf7f_row18_col1\" class=\"data row18 col1\" >8</td>\n",
       "    </tr>\n",
       "    <tr>\n",
       "      <th id=\"T_daf7f_level0_row19\" class=\"row_heading level0 row19\" >19</th>\n",
       "      <td id=\"T_daf7f_row19_col0\" class=\"data row19 col0\" >notebook</td>\n",
       "      <td id=\"T_daf7f_row19_col1\" class=\"data row19 col1\" >8</td>\n",
       "    </tr>\n",
       "  </tbody>\n",
       "</table>\n"
      ],
      "text/plain": [
       "<pandas.io.formats.style.Styler at 0x2459a431eb0>"
      ]
     },
     "execution_count": 36,
     "metadata": {},
     "output_type": "execute_result"
    }
   ],
   "source": [
    "Unique_Negative= words_unique('Negative', 20, raw_text)\n",
    "print(\"The top 20 unique words in Negative Tweets are:\")\n",
    "Unique_Negative.style.background_gradient(cmap='Reds')"
   ]
  },
  {
   "cell_type": "code",
   "execution_count": 37,
   "id": "6aec5711",
   "metadata": {},
   "outputs": [
    {
     "name": "stderr",
     "output_type": "stream",
     "text": [
      "C:\\Users\\ayoba\\anaconda3\\lib\\site-packages\\plotly\\express\\_core.py:1637: FutureWarning:\n",
      "\n",
      "The frame.append method is deprecated and will be removed from pandas in a future version. Use pandas.concat instead.\n",
      "\n"
     ]
    },
    {
     "data": {
      "application/vnd.plotly.v1+json": {
       "config": {
        "plotlyServerURL": "https://plot.ly"
       },
       "data": [
        {
         "branchvalues": "total",
         "domain": {
          "x": [
           0,
           1
          ],
          "y": [
           0,
           1
          ]
         },
         "hovertemplate": "labels=%{label}<br>count=%{value}<br>parent=%{parent}<br>id=%{id}<extra></extra>",
         "ids": [
          "amyb",
          "chess",
          "christ",
          "disagr",
          "dutch",
          "fox",
          "funkovers",
          "glen",
          "guav",
          "guest",
          "instock",
          "lunt",
          "nasty",
          "notebook",
          "oo",
          "opp",
          "ragn",
          "saison",
          "selfdoubt",
          "shelby"
         ],
         "labels": [
          "amyb",
          "chess",
          "christ",
          "disagr",
          "dutch",
          "fox",
          "funkovers",
          "glen",
          "guav",
          "guest",
          "instock",
          "lunt",
          "nasty",
          "notebook",
          "oo",
          "opp",
          "ragn",
          "saison",
          "selfdoubt",
          "shelby"
         ],
         "name": "",
         "parents": [
          "",
          "",
          "",
          "",
          "",
          "",
          "",
          "",
          "",
          "",
          "",
          "",
          "",
          "",
          "",
          "",
          "",
          "",
          "",
          ""
         ],
         "type": "treemap",
         "values": [
          19,
          10,
          8,
          9,
          55,
          10,
          22,
          10,
          13,
          9,
          13,
          8,
          8,
          8,
          8,
          16,
          8,
          10,
          11,
          9
         ]
        }
       ],
       "layout": {
        "legend": {
         "tracegroupgap": 0
        },
        "template": {
         "data": {
          "bar": [
           {
            "error_x": {
             "color": "#2a3f5f"
            },
            "error_y": {
             "color": "#2a3f5f"
            },
            "marker": {
             "line": {
              "color": "#E5ECF6",
              "width": 0.5
             },
             "pattern": {
              "fillmode": "overlay",
              "size": 10,
              "solidity": 0.2
             }
            },
            "type": "bar"
           }
          ],
          "barpolar": [
           {
            "marker": {
             "line": {
              "color": "#E5ECF6",
              "width": 0.5
             },
             "pattern": {
              "fillmode": "overlay",
              "size": 10,
              "solidity": 0.2
             }
            },
            "type": "barpolar"
           }
          ],
          "carpet": [
           {
            "aaxis": {
             "endlinecolor": "#2a3f5f",
             "gridcolor": "white",
             "linecolor": "white",
             "minorgridcolor": "white",
             "startlinecolor": "#2a3f5f"
            },
            "baxis": {
             "endlinecolor": "#2a3f5f",
             "gridcolor": "white",
             "linecolor": "white",
             "minorgridcolor": "white",
             "startlinecolor": "#2a3f5f"
            },
            "type": "carpet"
           }
          ],
          "choropleth": [
           {
            "colorbar": {
             "outlinewidth": 0,
             "ticks": ""
            },
            "type": "choropleth"
           }
          ],
          "contour": [
           {
            "colorbar": {
             "outlinewidth": 0,
             "ticks": ""
            },
            "colorscale": [
             [
              0,
              "#0d0887"
             ],
             [
              0.1111111111111111,
              "#46039f"
             ],
             [
              0.2222222222222222,
              "#7201a8"
             ],
             [
              0.3333333333333333,
              "#9c179e"
             ],
             [
              0.4444444444444444,
              "#bd3786"
             ],
             [
              0.5555555555555556,
              "#d8576b"
             ],
             [
              0.6666666666666666,
              "#ed7953"
             ],
             [
              0.7777777777777778,
              "#fb9f3a"
             ],
             [
              0.8888888888888888,
              "#fdca26"
             ],
             [
              1,
              "#f0f921"
             ]
            ],
            "type": "contour"
           }
          ],
          "contourcarpet": [
           {
            "colorbar": {
             "outlinewidth": 0,
             "ticks": ""
            },
            "type": "contourcarpet"
           }
          ],
          "heatmap": [
           {
            "colorbar": {
             "outlinewidth": 0,
             "ticks": ""
            },
            "colorscale": [
             [
              0,
              "#0d0887"
             ],
             [
              0.1111111111111111,
              "#46039f"
             ],
             [
              0.2222222222222222,
              "#7201a8"
             ],
             [
              0.3333333333333333,
              "#9c179e"
             ],
             [
              0.4444444444444444,
              "#bd3786"
             ],
             [
              0.5555555555555556,
              "#d8576b"
             ],
             [
              0.6666666666666666,
              "#ed7953"
             ],
             [
              0.7777777777777778,
              "#fb9f3a"
             ],
             [
              0.8888888888888888,
              "#fdca26"
             ],
             [
              1,
              "#f0f921"
             ]
            ],
            "type": "heatmap"
           }
          ],
          "heatmapgl": [
           {
            "colorbar": {
             "outlinewidth": 0,
             "ticks": ""
            },
            "colorscale": [
             [
              0,
              "#0d0887"
             ],
             [
              0.1111111111111111,
              "#46039f"
             ],
             [
              0.2222222222222222,
              "#7201a8"
             ],
             [
              0.3333333333333333,
              "#9c179e"
             ],
             [
              0.4444444444444444,
              "#bd3786"
             ],
             [
              0.5555555555555556,
              "#d8576b"
             ],
             [
              0.6666666666666666,
              "#ed7953"
             ],
             [
              0.7777777777777778,
              "#fb9f3a"
             ],
             [
              0.8888888888888888,
              "#fdca26"
             ],
             [
              1,
              "#f0f921"
             ]
            ],
            "type": "heatmapgl"
           }
          ],
          "histogram": [
           {
            "marker": {
             "pattern": {
              "fillmode": "overlay",
              "size": 10,
              "solidity": 0.2
             }
            },
            "type": "histogram"
           }
          ],
          "histogram2d": [
           {
            "colorbar": {
             "outlinewidth": 0,
             "ticks": ""
            },
            "colorscale": [
             [
              0,
              "#0d0887"
             ],
             [
              0.1111111111111111,
              "#46039f"
             ],
             [
              0.2222222222222222,
              "#7201a8"
             ],
             [
              0.3333333333333333,
              "#9c179e"
             ],
             [
              0.4444444444444444,
              "#bd3786"
             ],
             [
              0.5555555555555556,
              "#d8576b"
             ],
             [
              0.6666666666666666,
              "#ed7953"
             ],
             [
              0.7777777777777778,
              "#fb9f3a"
             ],
             [
              0.8888888888888888,
              "#fdca26"
             ],
             [
              1,
              "#f0f921"
             ]
            ],
            "type": "histogram2d"
           }
          ],
          "histogram2dcontour": [
           {
            "colorbar": {
             "outlinewidth": 0,
             "ticks": ""
            },
            "colorscale": [
             [
              0,
              "#0d0887"
             ],
             [
              0.1111111111111111,
              "#46039f"
             ],
             [
              0.2222222222222222,
              "#7201a8"
             ],
             [
              0.3333333333333333,
              "#9c179e"
             ],
             [
              0.4444444444444444,
              "#bd3786"
             ],
             [
              0.5555555555555556,
              "#d8576b"
             ],
             [
              0.6666666666666666,
              "#ed7953"
             ],
             [
              0.7777777777777778,
              "#fb9f3a"
             ],
             [
              0.8888888888888888,
              "#fdca26"
             ],
             [
              1,
              "#f0f921"
             ]
            ],
            "type": "histogram2dcontour"
           }
          ],
          "mesh3d": [
           {
            "colorbar": {
             "outlinewidth": 0,
             "ticks": ""
            },
            "type": "mesh3d"
           }
          ],
          "parcoords": [
           {
            "line": {
             "colorbar": {
              "outlinewidth": 0,
              "ticks": ""
             }
            },
            "type": "parcoords"
           }
          ],
          "pie": [
           {
            "automargin": true,
            "type": "pie"
           }
          ],
          "scatter": [
           {
            "marker": {
             "colorbar": {
              "outlinewidth": 0,
              "ticks": ""
             }
            },
            "type": "scatter"
           }
          ],
          "scatter3d": [
           {
            "line": {
             "colorbar": {
              "outlinewidth": 0,
              "ticks": ""
             }
            },
            "marker": {
             "colorbar": {
              "outlinewidth": 0,
              "ticks": ""
             }
            },
            "type": "scatter3d"
           }
          ],
          "scattercarpet": [
           {
            "marker": {
             "colorbar": {
              "outlinewidth": 0,
              "ticks": ""
             }
            },
            "type": "scattercarpet"
           }
          ],
          "scattergeo": [
           {
            "marker": {
             "colorbar": {
              "outlinewidth": 0,
              "ticks": ""
             }
            },
            "type": "scattergeo"
           }
          ],
          "scattergl": [
           {
            "marker": {
             "colorbar": {
              "outlinewidth": 0,
              "ticks": ""
             }
            },
            "type": "scattergl"
           }
          ],
          "scattermapbox": [
           {
            "marker": {
             "colorbar": {
              "outlinewidth": 0,
              "ticks": ""
             }
            },
            "type": "scattermapbox"
           }
          ],
          "scatterpolar": [
           {
            "marker": {
             "colorbar": {
              "outlinewidth": 0,
              "ticks": ""
             }
            },
            "type": "scatterpolar"
           }
          ],
          "scatterpolargl": [
           {
            "marker": {
             "colorbar": {
              "outlinewidth": 0,
              "ticks": ""
             }
            },
            "type": "scatterpolargl"
           }
          ],
          "scatterternary": [
           {
            "marker": {
             "colorbar": {
              "outlinewidth": 0,
              "ticks": ""
             }
            },
            "type": "scatterternary"
           }
          ],
          "surface": [
           {
            "colorbar": {
             "outlinewidth": 0,
             "ticks": ""
            },
            "colorscale": [
             [
              0,
              "#0d0887"
             ],
             [
              0.1111111111111111,
              "#46039f"
             ],
             [
              0.2222222222222222,
              "#7201a8"
             ],
             [
              0.3333333333333333,
              "#9c179e"
             ],
             [
              0.4444444444444444,
              "#bd3786"
             ],
             [
              0.5555555555555556,
              "#d8576b"
             ],
             [
              0.6666666666666666,
              "#ed7953"
             ],
             [
              0.7777777777777778,
              "#fb9f3a"
             ],
             [
              0.8888888888888888,
              "#fdca26"
             ],
             [
              1,
              "#f0f921"
             ]
            ],
            "type": "surface"
           }
          ],
          "table": [
           {
            "cells": {
             "fill": {
              "color": "#EBF0F8"
             },
             "line": {
              "color": "white"
             }
            },
            "header": {
             "fill": {
              "color": "#C8D4E3"
             },
             "line": {
              "color": "white"
             }
            },
            "type": "table"
           }
          ]
         },
         "layout": {
          "annotationdefaults": {
           "arrowcolor": "#2a3f5f",
           "arrowhead": 0,
           "arrowwidth": 1
          },
          "autotypenumbers": "strict",
          "coloraxis": {
           "colorbar": {
            "outlinewidth": 0,
            "ticks": ""
           }
          },
          "colorscale": {
           "diverging": [
            [
             0,
             "#8e0152"
            ],
            [
             0.1,
             "#c51b7d"
            ],
            [
             0.2,
             "#de77ae"
            ],
            [
             0.3,
             "#f1b6da"
            ],
            [
             0.4,
             "#fde0ef"
            ],
            [
             0.5,
             "#f7f7f7"
            ],
            [
             0.6,
             "#e6f5d0"
            ],
            [
             0.7,
             "#b8e186"
            ],
            [
             0.8,
             "#7fbc41"
            ],
            [
             0.9,
             "#4d9221"
            ],
            [
             1,
             "#276419"
            ]
           ],
           "sequential": [
            [
             0,
             "#0d0887"
            ],
            [
             0.1111111111111111,
             "#46039f"
            ],
            [
             0.2222222222222222,
             "#7201a8"
            ],
            [
             0.3333333333333333,
             "#9c179e"
            ],
            [
             0.4444444444444444,
             "#bd3786"
            ],
            [
             0.5555555555555556,
             "#d8576b"
            ],
            [
             0.6666666666666666,
             "#ed7953"
            ],
            [
             0.7777777777777778,
             "#fb9f3a"
            ],
            [
             0.8888888888888888,
             "#fdca26"
            ],
            [
             1,
             "#f0f921"
            ]
           ],
           "sequentialminus": [
            [
             0,
             "#0d0887"
            ],
            [
             0.1111111111111111,
             "#46039f"
            ],
            [
             0.2222222222222222,
             "#7201a8"
            ],
            [
             0.3333333333333333,
             "#9c179e"
            ],
            [
             0.4444444444444444,
             "#bd3786"
            ],
            [
             0.5555555555555556,
             "#d8576b"
            ],
            [
             0.6666666666666666,
             "#ed7953"
            ],
            [
             0.7777777777777778,
             "#fb9f3a"
            ],
            [
             0.8888888888888888,
             "#fdca26"
            ],
            [
             1,
             "#f0f921"
            ]
           ]
          },
          "colorway": [
           "#636efa",
           "#EF553B",
           "#00cc96",
           "#ab63fa",
           "#FFA15A",
           "#19d3f3",
           "#FF6692",
           "#B6E880",
           "#FF97FF",
           "#FECB52"
          ],
          "font": {
           "color": "#2a3f5f"
          },
          "geo": {
           "bgcolor": "white",
           "lakecolor": "white",
           "landcolor": "#E5ECF6",
           "showlakes": true,
           "showland": true,
           "subunitcolor": "white"
          },
          "hoverlabel": {
           "align": "left"
          },
          "hovermode": "closest",
          "mapbox": {
           "style": "light"
          },
          "paper_bgcolor": "white",
          "plot_bgcolor": "#E5ECF6",
          "polar": {
           "angularaxis": {
            "gridcolor": "white",
            "linecolor": "white",
            "ticks": ""
           },
           "bgcolor": "#E5ECF6",
           "radialaxis": {
            "gridcolor": "white",
            "linecolor": "white",
            "ticks": ""
           }
          },
          "scene": {
           "xaxis": {
            "backgroundcolor": "#E5ECF6",
            "gridcolor": "white",
            "gridwidth": 2,
            "linecolor": "white",
            "showbackground": true,
            "ticks": "",
            "zerolinecolor": "white"
           },
           "yaxis": {
            "backgroundcolor": "#E5ECF6",
            "gridcolor": "white",
            "gridwidth": 2,
            "linecolor": "white",
            "showbackground": true,
            "ticks": "",
            "zerolinecolor": "white"
           },
           "zaxis": {
            "backgroundcolor": "#E5ECF6",
            "gridcolor": "white",
            "gridwidth": 2,
            "linecolor": "white",
            "showbackground": true,
            "ticks": "",
            "zerolinecolor": "white"
           }
          },
          "shapedefaults": {
           "line": {
            "color": "#2a3f5f"
           }
          },
          "ternary": {
           "aaxis": {
            "gridcolor": "white",
            "linecolor": "white",
            "ticks": ""
           },
           "baxis": {
            "gridcolor": "white",
            "linecolor": "white",
            "ticks": ""
           },
           "bgcolor": "#E5ECF6",
           "caxis": {
            "gridcolor": "white",
            "linecolor": "white",
            "ticks": ""
           }
          },
          "title": {
           "x": 0.05
          },
          "xaxis": {
           "automargin": true,
           "gridcolor": "white",
           "linecolor": "white",
           "ticks": "",
           "title": {
            "standoff": 15
           },
           "zerolinecolor": "white",
           "zerolinewidth": 2
          },
          "yaxis": {
           "automargin": true,
           "gridcolor": "white",
           "linecolor": "white",
           "ticks": "",
           "title": {
            "standoff": 15
           },
           "zerolinecolor": "white",
           "zerolinewidth": 2
          }
         }
        },
        "title": {
         "text": "Tree Of Unique Words in Negative sentiment tweets"
        }
       }
      },
      "text/html": [
       "<div>                            <div id=\"ec632bf2-4c9a-46ce-8894-4aeb3de51a4d\" class=\"plotly-graph-div\" style=\"height:525px; width:100%;\"></div>            <script type=\"text/javascript\">                require([\"plotly\"], function(Plotly) {                    window.PLOTLYENV=window.PLOTLYENV || {};                                    if (document.getElementById(\"ec632bf2-4c9a-46ce-8894-4aeb3de51a4d\")) {                    Plotly.newPlot(                        \"ec632bf2-4c9a-46ce-8894-4aeb3de51a4d\",                        [{\"branchvalues\":\"total\",\"domain\":{\"x\":[0.0,1.0],\"y\":[0.0,1.0]},\"hovertemplate\":\"labels=%{label}<br>count=%{value}<br>parent=%{parent}<br>id=%{id}<extra></extra>\",\"ids\":[\"amyb\",\"chess\",\"christ\",\"disagr\",\"dutch\",\"fox\",\"funkovers\",\"glen\",\"guav\",\"guest\",\"instock\",\"lunt\",\"nasty\",\"notebook\",\"oo\",\"opp\",\"ragn\",\"saison\",\"selfdoubt\",\"shelby\"],\"labels\":[\"amyb\",\"chess\",\"christ\",\"disagr\",\"dutch\",\"fox\",\"funkovers\",\"glen\",\"guav\",\"guest\",\"instock\",\"lunt\",\"nasty\",\"notebook\",\"oo\",\"opp\",\"ragn\",\"saison\",\"selfdoubt\",\"shelby\"],\"name\":\"\",\"parents\":[\"\",\"\",\"\",\"\",\"\",\"\",\"\",\"\",\"\",\"\",\"\",\"\",\"\",\"\",\"\",\"\",\"\",\"\",\"\",\"\"],\"values\":[19,10,8,9,55,10,22,10,13,9,13,8,8,8,8,16,8,10,11,9],\"type\":\"treemap\"}],                        {\"template\":{\"data\":{\"bar\":[{\"error_x\":{\"color\":\"#2a3f5f\"},\"error_y\":{\"color\":\"#2a3f5f\"},\"marker\":{\"line\":{\"color\":\"#E5ECF6\",\"width\":0.5},\"pattern\":{\"fillmode\":\"overlay\",\"size\":10,\"solidity\":0.2}},\"type\":\"bar\"}],\"barpolar\":[{\"marker\":{\"line\":{\"color\":\"#E5ECF6\",\"width\":0.5},\"pattern\":{\"fillmode\":\"overlay\",\"size\":10,\"solidity\":0.2}},\"type\":\"barpolar\"}],\"carpet\":[{\"aaxis\":{\"endlinecolor\":\"#2a3f5f\",\"gridcolor\":\"white\",\"linecolor\":\"white\",\"minorgridcolor\":\"white\",\"startlinecolor\":\"#2a3f5f\"},\"baxis\":{\"endlinecolor\":\"#2a3f5f\",\"gridcolor\":\"white\",\"linecolor\":\"white\",\"minorgridcolor\":\"white\",\"startlinecolor\":\"#2a3f5f\"},\"type\":\"carpet\"}],\"choropleth\":[{\"colorbar\":{\"outlinewidth\":0,\"ticks\":\"\"},\"type\":\"choropleth\"}],\"contour\":[{\"colorbar\":{\"outlinewidth\":0,\"ticks\":\"\"},\"colorscale\":[[0.0,\"#0d0887\"],[0.1111111111111111,\"#46039f\"],[0.2222222222222222,\"#7201a8\"],[0.3333333333333333,\"#9c179e\"],[0.4444444444444444,\"#bd3786\"],[0.5555555555555556,\"#d8576b\"],[0.6666666666666666,\"#ed7953\"],[0.7777777777777778,\"#fb9f3a\"],[0.8888888888888888,\"#fdca26\"],[1.0,\"#f0f921\"]],\"type\":\"contour\"}],\"contourcarpet\":[{\"colorbar\":{\"outlinewidth\":0,\"ticks\":\"\"},\"type\":\"contourcarpet\"}],\"heatmap\":[{\"colorbar\":{\"outlinewidth\":0,\"ticks\":\"\"},\"colorscale\":[[0.0,\"#0d0887\"],[0.1111111111111111,\"#46039f\"],[0.2222222222222222,\"#7201a8\"],[0.3333333333333333,\"#9c179e\"],[0.4444444444444444,\"#bd3786\"],[0.5555555555555556,\"#d8576b\"],[0.6666666666666666,\"#ed7953\"],[0.7777777777777778,\"#fb9f3a\"],[0.8888888888888888,\"#fdca26\"],[1.0,\"#f0f921\"]],\"type\":\"heatmap\"}],\"heatmapgl\":[{\"colorbar\":{\"outlinewidth\":0,\"ticks\":\"\"},\"colorscale\":[[0.0,\"#0d0887\"],[0.1111111111111111,\"#46039f\"],[0.2222222222222222,\"#7201a8\"],[0.3333333333333333,\"#9c179e\"],[0.4444444444444444,\"#bd3786\"],[0.5555555555555556,\"#d8576b\"],[0.6666666666666666,\"#ed7953\"],[0.7777777777777778,\"#fb9f3a\"],[0.8888888888888888,\"#fdca26\"],[1.0,\"#f0f921\"]],\"type\":\"heatmapgl\"}],\"histogram\":[{\"marker\":{\"pattern\":{\"fillmode\":\"overlay\",\"size\":10,\"solidity\":0.2}},\"type\":\"histogram\"}],\"histogram2d\":[{\"colorbar\":{\"outlinewidth\":0,\"ticks\":\"\"},\"colorscale\":[[0.0,\"#0d0887\"],[0.1111111111111111,\"#46039f\"],[0.2222222222222222,\"#7201a8\"],[0.3333333333333333,\"#9c179e\"],[0.4444444444444444,\"#bd3786\"],[0.5555555555555556,\"#d8576b\"],[0.6666666666666666,\"#ed7953\"],[0.7777777777777778,\"#fb9f3a\"],[0.8888888888888888,\"#fdca26\"],[1.0,\"#f0f921\"]],\"type\":\"histogram2d\"}],\"histogram2dcontour\":[{\"colorbar\":{\"outlinewidth\":0,\"ticks\":\"\"},\"colorscale\":[[0.0,\"#0d0887\"],[0.1111111111111111,\"#46039f\"],[0.2222222222222222,\"#7201a8\"],[0.3333333333333333,\"#9c179e\"],[0.4444444444444444,\"#bd3786\"],[0.5555555555555556,\"#d8576b\"],[0.6666666666666666,\"#ed7953\"],[0.7777777777777778,\"#fb9f3a\"],[0.8888888888888888,\"#fdca26\"],[1.0,\"#f0f921\"]],\"type\":\"histogram2dcontour\"}],\"mesh3d\":[{\"colorbar\":{\"outlinewidth\":0,\"ticks\":\"\"},\"type\":\"mesh3d\"}],\"parcoords\":[{\"line\":{\"colorbar\":{\"outlinewidth\":0,\"ticks\":\"\"}},\"type\":\"parcoords\"}],\"pie\":[{\"automargin\":true,\"type\":\"pie\"}],\"scatter\":[{\"marker\":{\"colorbar\":{\"outlinewidth\":0,\"ticks\":\"\"}},\"type\":\"scatter\"}],\"scatter3d\":[{\"line\":{\"colorbar\":{\"outlinewidth\":0,\"ticks\":\"\"}},\"marker\":{\"colorbar\":{\"outlinewidth\":0,\"ticks\":\"\"}},\"type\":\"scatter3d\"}],\"scattercarpet\":[{\"marker\":{\"colorbar\":{\"outlinewidth\":0,\"ticks\":\"\"}},\"type\":\"scattercarpet\"}],\"scattergeo\":[{\"marker\":{\"colorbar\":{\"outlinewidth\":0,\"ticks\":\"\"}},\"type\":\"scattergeo\"}],\"scattergl\":[{\"marker\":{\"colorbar\":{\"outlinewidth\":0,\"ticks\":\"\"}},\"type\":\"scattergl\"}],\"scattermapbox\":[{\"marker\":{\"colorbar\":{\"outlinewidth\":0,\"ticks\":\"\"}},\"type\":\"scattermapbox\"}],\"scatterpolar\":[{\"marker\":{\"colorbar\":{\"outlinewidth\":0,\"ticks\":\"\"}},\"type\":\"scatterpolar\"}],\"scatterpolargl\":[{\"marker\":{\"colorbar\":{\"outlinewidth\":0,\"ticks\":\"\"}},\"type\":\"scatterpolargl\"}],\"scatterternary\":[{\"marker\":{\"colorbar\":{\"outlinewidth\":0,\"ticks\":\"\"}},\"type\":\"scatterternary\"}],\"surface\":[{\"colorbar\":{\"outlinewidth\":0,\"ticks\":\"\"},\"colorscale\":[[0.0,\"#0d0887\"],[0.1111111111111111,\"#46039f\"],[0.2222222222222222,\"#7201a8\"],[0.3333333333333333,\"#9c179e\"],[0.4444444444444444,\"#bd3786\"],[0.5555555555555556,\"#d8576b\"],[0.6666666666666666,\"#ed7953\"],[0.7777777777777778,\"#fb9f3a\"],[0.8888888888888888,\"#fdca26\"],[1.0,\"#f0f921\"]],\"type\":\"surface\"}],\"table\":[{\"cells\":{\"fill\":{\"color\":\"#EBF0F8\"},\"line\":{\"color\":\"white\"}},\"header\":{\"fill\":{\"color\":\"#C8D4E3\"},\"line\":{\"color\":\"white\"}},\"type\":\"table\"}]},\"layout\":{\"annotationdefaults\":{\"arrowcolor\":\"#2a3f5f\",\"arrowhead\":0,\"arrowwidth\":1},\"autotypenumbers\":\"strict\",\"coloraxis\":{\"colorbar\":{\"outlinewidth\":0,\"ticks\":\"\"}},\"colorscale\":{\"diverging\":[[0,\"#8e0152\"],[0.1,\"#c51b7d\"],[0.2,\"#de77ae\"],[0.3,\"#f1b6da\"],[0.4,\"#fde0ef\"],[0.5,\"#f7f7f7\"],[0.6,\"#e6f5d0\"],[0.7,\"#b8e186\"],[0.8,\"#7fbc41\"],[0.9,\"#4d9221\"],[1,\"#276419\"]],\"sequential\":[[0.0,\"#0d0887\"],[0.1111111111111111,\"#46039f\"],[0.2222222222222222,\"#7201a8\"],[0.3333333333333333,\"#9c179e\"],[0.4444444444444444,\"#bd3786\"],[0.5555555555555556,\"#d8576b\"],[0.6666666666666666,\"#ed7953\"],[0.7777777777777778,\"#fb9f3a\"],[0.8888888888888888,\"#fdca26\"],[1.0,\"#f0f921\"]],\"sequentialminus\":[[0.0,\"#0d0887\"],[0.1111111111111111,\"#46039f\"],[0.2222222222222222,\"#7201a8\"],[0.3333333333333333,\"#9c179e\"],[0.4444444444444444,\"#bd3786\"],[0.5555555555555556,\"#d8576b\"],[0.6666666666666666,\"#ed7953\"],[0.7777777777777778,\"#fb9f3a\"],[0.8888888888888888,\"#fdca26\"],[1.0,\"#f0f921\"]]},\"colorway\":[\"#636efa\",\"#EF553B\",\"#00cc96\",\"#ab63fa\",\"#FFA15A\",\"#19d3f3\",\"#FF6692\",\"#B6E880\",\"#FF97FF\",\"#FECB52\"],\"font\":{\"color\":\"#2a3f5f\"},\"geo\":{\"bgcolor\":\"white\",\"lakecolor\":\"white\",\"landcolor\":\"#E5ECF6\",\"showlakes\":true,\"showland\":true,\"subunitcolor\":\"white\"},\"hoverlabel\":{\"align\":\"left\"},\"hovermode\":\"closest\",\"mapbox\":{\"style\":\"light\"},\"paper_bgcolor\":\"white\",\"plot_bgcolor\":\"#E5ECF6\",\"polar\":{\"angularaxis\":{\"gridcolor\":\"white\",\"linecolor\":\"white\",\"ticks\":\"\"},\"bgcolor\":\"#E5ECF6\",\"radialaxis\":{\"gridcolor\":\"white\",\"linecolor\":\"white\",\"ticks\":\"\"}},\"scene\":{\"xaxis\":{\"backgroundcolor\":\"#E5ECF6\",\"gridcolor\":\"white\",\"gridwidth\":2,\"linecolor\":\"white\",\"showbackground\":true,\"ticks\":\"\",\"zerolinecolor\":\"white\"},\"yaxis\":{\"backgroundcolor\":\"#E5ECF6\",\"gridcolor\":\"white\",\"gridwidth\":2,\"linecolor\":\"white\",\"showbackground\":true,\"ticks\":\"\",\"zerolinecolor\":\"white\"},\"zaxis\":{\"backgroundcolor\":\"#E5ECF6\",\"gridcolor\":\"white\",\"gridwidth\":2,\"linecolor\":\"white\",\"showbackground\":true,\"ticks\":\"\",\"zerolinecolor\":\"white\"}},\"shapedefaults\":{\"line\":{\"color\":\"#2a3f5f\"}},\"ternary\":{\"aaxis\":{\"gridcolor\":\"white\",\"linecolor\":\"white\",\"ticks\":\"\"},\"baxis\":{\"gridcolor\":\"white\",\"linecolor\":\"white\",\"ticks\":\"\"},\"bgcolor\":\"#E5ECF6\",\"caxis\":{\"gridcolor\":\"white\",\"linecolor\":\"white\",\"ticks\":\"\"}},\"title\":{\"x\":0.05},\"xaxis\":{\"automargin\":true,\"gridcolor\":\"white\",\"linecolor\":\"white\",\"ticks\":\"\",\"title\":{\"standoff\":15},\"zerolinecolor\":\"white\",\"zerolinewidth\":2},\"yaxis\":{\"automargin\":true,\"gridcolor\":\"white\",\"linecolor\":\"white\",\"ticks\":\"\",\"title\":{\"standoff\":15},\"zerolinecolor\":\"white\",\"zerolinewidth\":2}}},\"legend\":{\"tracegroupgap\":0},\"title\":{\"text\":\"Tree Of Unique Words in Negative sentiment tweets\"}},                        {\"responsive\": true}                    ).then(function(){\n",
       "                            \n",
       "var gd = document.getElementById('ec632bf2-4c9a-46ce-8894-4aeb3de51a4d');\n",
       "var x = new MutationObserver(function (mutations, observer) {{\n",
       "        var display = window.getComputedStyle(gd).display;\n",
       "        if (!display || display === 'none') {{\n",
       "            console.log([gd, 'removed!']);\n",
       "            Plotly.purge(gd);\n",
       "            observer.disconnect();\n",
       "        }}\n",
       "}});\n",
       "\n",
       "// Listen for the removal of the full notebook cells\n",
       "var notebookContainer = gd.closest('#notebook-container');\n",
       "if (notebookContainer) {{\n",
       "    x.observe(notebookContainer, {childList: true});\n",
       "}}\n",
       "\n",
       "// Listen for the clearing of the current output cell\n",
       "var outputEl = gd.closest('.output');\n",
       "if (outputEl) {{\n",
       "    x.observe(outputEl, {childList: true});\n",
       "}}\n",
       "\n",
       "                        })                };                });            </script>        </div>"
      ]
     },
     "metadata": {},
     "output_type": "display_data"
    }
   ],
   "source": [
    "import plotly.express as px\n",
    "fig = px.treemap(Unique_Negative, path=['words'], values='count',title='Tree Of Unique Words in Negative sentiment tweets')\n",
    "fig.show()"
   ]
  },
  {
   "cell_type": "code",
   "execution_count": 39,
   "id": "a7afc9c2",
   "metadata": {},
   "outputs": [
    {
     "name": "stdout",
     "output_type": "stream",
     "text": [
      "The top 20 unique words in Positive Tweets are:\n"
     ]
    },
    {
     "data": {
      "text/html": [
       "<style type=\"text/css\">\n",
       "#T_d1441_row0_col1 {\n",
       "  background-color: #00441b;\n",
       "  color: #f1f1f1;\n",
       "}\n",
       "#T_d1441_row1_col1 {\n",
       "  background-color: #37a055;\n",
       "  color: #f1f1f1;\n",
       "}\n",
       "#T_d1441_row2_col1 {\n",
       "  background-color: #bee5b8;\n",
       "  color: #000000;\n",
       "}\n",
       "#T_d1441_row3_col1 {\n",
       "  background-color: #ceecc8;\n",
       "  color: #000000;\n",
       "}\n",
       "#T_d1441_row4_col1 {\n",
       "  background-color: #dbf1d6;\n",
       "  color: #000000;\n",
       "}\n",
       "#T_d1441_row5_col1, #T_d1441_row6_col1 {\n",
       "  background-color: #e7f6e3;\n",
       "  color: #000000;\n",
       "}\n",
       "#T_d1441_row7_col1, #T_d1441_row8_col1, #T_d1441_row9_col1, #T_d1441_row10_col1, #T_d1441_row11_col1, #T_d1441_row12_col1, #T_d1441_row13_col1, #T_d1441_row14_col1, #T_d1441_row15_col1 {\n",
       "  background-color: #eff9ec;\n",
       "  color: #000000;\n",
       "}\n",
       "#T_d1441_row16_col1, #T_d1441_row17_col1, #T_d1441_row18_col1, #T_d1441_row19_col1 {\n",
       "  background-color: #f7fcf5;\n",
       "  color: #000000;\n",
       "}\n",
       "</style>\n",
       "<table id=\"T_d1441\">\n",
       "  <thead>\n",
       "    <tr>\n",
       "      <th class=\"blank level0\" >&nbsp;</th>\n",
       "      <th id=\"T_d1441_level0_col0\" class=\"col_heading level0 col0\" >words</th>\n",
       "      <th id=\"T_d1441_level0_col1\" class=\"col_heading level0 col1\" >count</th>\n",
       "    </tr>\n",
       "  </thead>\n",
       "  <tbody>\n",
       "    <tr>\n",
       "      <th id=\"T_d1441_level0_row0\" class=\"row_heading level0 row0\" >0</th>\n",
       "      <td id=\"T_d1441_row0_col0\" class=\"data row0 col0\" >excel</td>\n",
       "      <td id=\"T_d1441_row0_col1\" class=\"data row0 col1\" >22</td>\n",
       "    </tr>\n",
       "    <tr>\n",
       "      <th id=\"T_d1441_level0_row1\" class=\"row_heading level0 row1\" >1</th>\n",
       "      <td id=\"T_d1441_row1_col0\" class=\"data row1 col0\" >proud</td>\n",
       "      <td id=\"T_d1441_row1_col1\" class=\"data row1 col1\" >16</td>\n",
       "    </tr>\n",
       "    <tr>\n",
       "      <th id=\"T_d1441_level0_row2\" class=\"row_heading level0 row2\" >2</th>\n",
       "      <td id=\"T_d1441_row2_col0\" class=\"data row2 col0\" >hac</td>\n",
       "      <td id=\"T_d1441_row2_col1\" class=\"data row2 col1\" >9</td>\n",
       "    </tr>\n",
       "    <tr>\n",
       "      <th id=\"T_d1441_level0_row3\" class=\"row_heading level0 row3\" >3</th>\n",
       "      <td id=\"T_d1441_row3_col0\" class=\"data row3 col0\" >megast</td>\n",
       "      <td id=\"T_d1441_row3_col1\" class=\"data row3 col1\" >8</td>\n",
       "    </tr>\n",
       "    <tr>\n",
       "      <th id=\"T_d1441_level0_row4\" class=\"row_heading level0 row4\" >4</th>\n",
       "      <td id=\"T_d1441_row4_col0\" class=\"data row4 col0\" >roe</td>\n",
       "      <td id=\"T_d1441_row4_col1\" class=\"data row4 col1\" >7</td>\n",
       "    </tr>\n",
       "    <tr>\n",
       "      <th id=\"T_d1441_level0_row5\" class=\"row_heading level0 row5\" >5</th>\n",
       "      <td id=\"T_d1441_row5_col0\" class=\"data row5 col0\" >rout</td>\n",
       "      <td id=\"T_d1441_row5_col1\" class=\"data row5 col1\" >6</td>\n",
       "    </tr>\n",
       "    <tr>\n",
       "      <th id=\"T_d1441_level0_row6\" class=\"row_heading level0 row6\" >6</th>\n",
       "      <td id=\"T_d1441_row6_col0\" class=\"data row6 col0\" >carrd</td>\n",
       "      <td id=\"T_d1441_row6_col1\" class=\"data row6 col1\" >6</td>\n",
       "    </tr>\n",
       "    <tr>\n",
       "      <th id=\"T_d1441_level0_row7\" class=\"row_heading level0 row7\" >7</th>\n",
       "      <td id=\"T_d1441_row7_col0\" class=\"data row7 col0\" >superb</td>\n",
       "      <td id=\"T_d1441_row7_col1\" class=\"data row7 col1\" >5</td>\n",
       "    </tr>\n",
       "    <tr>\n",
       "      <th id=\"T_d1441_level0_row8\" class=\"row_heading level0 row8\" >8</th>\n",
       "      <td id=\"T_d1441_row8_col0\" class=\"data row8 col0\" >nerv</td>\n",
       "      <td id=\"T_d1441_row8_col1\" class=\"data row8 col1\" >5</td>\n",
       "    </tr>\n",
       "    <tr>\n",
       "      <th id=\"T_d1441_level0_row9\" class=\"row_heading level0 row9\" >9</th>\n",
       "      <td id=\"T_d1441_row9_col0\" class=\"data row9 col0\" >outstand</td>\n",
       "      <td id=\"T_d1441_row9_col1\" class=\"data row9 col1\" >5</td>\n",
       "    </tr>\n",
       "    <tr>\n",
       "      <th id=\"T_d1441_level0_row10\" class=\"row_heading level0 row10\" >10</th>\n",
       "      <td id=\"T_d1441_row10_col0\" class=\"data row10 col0\" >plaus</td>\n",
       "      <td id=\"T_d1441_row10_col1\" class=\"data row10 col1\" >5</td>\n",
       "    </tr>\n",
       "    <tr>\n",
       "      <th id=\"T_d1441_level0_row11\" class=\"row_heading level0 row11\" >11</th>\n",
       "      <td id=\"T_d1441_row11_col0\" class=\"data row11 col0\" >expert</td>\n",
       "      <td id=\"T_d1441_row11_col1\" class=\"data row11 col1\" >5</td>\n",
       "    </tr>\n",
       "    <tr>\n",
       "      <th id=\"T_d1441_level0_row12\" class=\"row_heading level0 row12\" >12</th>\n",
       "      <td id=\"T_d1441_row12_col0\" class=\"data row12 col0\" >inch</td>\n",
       "      <td id=\"T_d1441_row12_col1\" class=\"data row12 col1\" >5</td>\n",
       "    </tr>\n",
       "    <tr>\n",
       "      <th id=\"T_d1441_level0_row13\" class=\"row_heading level0 row13\" >13</th>\n",
       "      <td id=\"T_d1441_row13_col0\" class=\"data row13 col0\" >joy</td>\n",
       "      <td id=\"T_d1441_row13_col1\" class=\"data row13 col1\" >5</td>\n",
       "    </tr>\n",
       "    <tr>\n",
       "      <th id=\"T_d1441_level0_row14\" class=\"row_heading level0 row14\" >14</th>\n",
       "      <td id=\"T_d1441_row14_col0\" class=\"data row14 col0\" >prefer</td>\n",
       "      <td id=\"T_d1441_row14_col1\" class=\"data row14 col1\" >5</td>\n",
       "    </tr>\n",
       "    <tr>\n",
       "      <th id=\"T_d1441_level0_row15\" class=\"row_heading level0 row15\" >15</th>\n",
       "      <td id=\"T_d1441_row15_col0\" class=\"data row15 col0\" >bebus</td>\n",
       "      <td id=\"T_d1441_row15_col1\" class=\"data row15 col1\" >5</td>\n",
       "    </tr>\n",
       "    <tr>\n",
       "      <th id=\"T_d1441_level0_row16\" class=\"row_heading level0 row16\" >16</th>\n",
       "      <td id=\"T_d1441_row16_col0\" class=\"data row16 col0\" >ven</td>\n",
       "      <td id=\"T_d1441_row16_col1\" class=\"data row16 col1\" >4</td>\n",
       "    </tr>\n",
       "    <tr>\n",
       "      <th id=\"T_d1441_level0_row17\" class=\"row_heading level0 row17\" >17</th>\n",
       "      <td id=\"T_d1441_row17_col0\" class=\"data row17 col0\" >tragedy</td>\n",
       "      <td id=\"T_d1441_row17_col1\" class=\"data row17 col1\" >4</td>\n",
       "    </tr>\n",
       "    <tr>\n",
       "      <th id=\"T_d1441_level0_row18\" class=\"row_heading level0 row18\" >18</th>\n",
       "      <td id=\"T_d1441_row18_col0\" class=\"data row18 col0\" >gamesesqu</td>\n",
       "      <td id=\"T_d1441_row18_col1\" class=\"data row18 col1\" >4</td>\n",
       "    </tr>\n",
       "    <tr>\n",
       "      <th id=\"T_d1441_level0_row19\" class=\"row_heading level0 row19\" >19</th>\n",
       "      <td id=\"T_d1441_row19_col0\" class=\"data row19 col0\" >vault</td>\n",
       "      <td id=\"T_d1441_row19_col1\" class=\"data row19 col1\" >4</td>\n",
       "    </tr>\n",
       "  </tbody>\n",
       "</table>\n"
      ],
      "text/plain": [
       "<pandas.io.formats.style.Styler at 0x2459a431cd0>"
      ]
     },
     "execution_count": 39,
     "metadata": {},
     "output_type": "execute_result"
    }
   ],
   "source": [
    "Unique_Positive= words_unique('Positive', 20, raw_text)\n",
    "print(\"The top 20 unique words in Positive Tweets are:\")\n",
    "Unique_Positive.style.background_gradient(cmap='Greens')\n"
   ]
  },
  {
   "cell_type": "code",
   "execution_count": 40,
   "id": "205c382c",
   "metadata": {},
   "outputs": [
    {
     "name": "stderr",
     "output_type": "stream",
     "text": [
      "C:\\Users\\ayoba\\anaconda3\\lib\\site-packages\\plotly\\express\\_core.py:1637: FutureWarning:\n",
      "\n",
      "The frame.append method is deprecated and will be removed from pandas in a future version. Use pandas.concat instead.\n",
      "\n"
     ]
    },
    {
     "data": {
      "application/vnd.plotly.v1+json": {
       "config": {
        "plotlyServerURL": "https://plot.ly"
       },
       "data": [
        {
         "branchvalues": "total",
         "domain": {
          "x": [
           0,
           1
          ],
          "y": [
           0,
           1
          ]
         },
         "hovertemplate": "labels=%{label}<br>count=%{value}<br>parent=%{parent}<br>id=%{id}<extra></extra>",
         "ids": [
          "bebus",
          "carrd",
          "excel",
          "expert",
          "gamesesqu",
          "hac",
          "inch",
          "joy",
          "megast",
          "nerv",
          "outstand",
          "plaus",
          "prefer",
          "proud",
          "roe",
          "rout",
          "superb",
          "tragedy",
          "vault",
          "ven"
         ],
         "labels": [
          "bebus",
          "carrd",
          "excel",
          "expert",
          "gamesesqu",
          "hac",
          "inch",
          "joy",
          "megast",
          "nerv",
          "outstand",
          "plaus",
          "prefer",
          "proud",
          "roe",
          "rout",
          "superb",
          "tragedy",
          "vault",
          "ven"
         ],
         "name": "",
         "parents": [
          "",
          "",
          "",
          "",
          "",
          "",
          "",
          "",
          "",
          "",
          "",
          "",
          "",
          "",
          "",
          "",
          "",
          "",
          "",
          ""
         ],
         "type": "treemap",
         "values": [
          5,
          6,
          22,
          5,
          4,
          9,
          5,
          5,
          8,
          5,
          5,
          5,
          5,
          16,
          7,
          6,
          5,
          4,
          4,
          4
         ]
        }
       ],
       "layout": {
        "legend": {
         "tracegroupgap": 0
        },
        "template": {
         "data": {
          "bar": [
           {
            "error_x": {
             "color": "#2a3f5f"
            },
            "error_y": {
             "color": "#2a3f5f"
            },
            "marker": {
             "line": {
              "color": "#E5ECF6",
              "width": 0.5
             },
             "pattern": {
              "fillmode": "overlay",
              "size": 10,
              "solidity": 0.2
             }
            },
            "type": "bar"
           }
          ],
          "barpolar": [
           {
            "marker": {
             "line": {
              "color": "#E5ECF6",
              "width": 0.5
             },
             "pattern": {
              "fillmode": "overlay",
              "size": 10,
              "solidity": 0.2
             }
            },
            "type": "barpolar"
           }
          ],
          "carpet": [
           {
            "aaxis": {
             "endlinecolor": "#2a3f5f",
             "gridcolor": "white",
             "linecolor": "white",
             "minorgridcolor": "white",
             "startlinecolor": "#2a3f5f"
            },
            "baxis": {
             "endlinecolor": "#2a3f5f",
             "gridcolor": "white",
             "linecolor": "white",
             "minorgridcolor": "white",
             "startlinecolor": "#2a3f5f"
            },
            "type": "carpet"
           }
          ],
          "choropleth": [
           {
            "colorbar": {
             "outlinewidth": 0,
             "ticks": ""
            },
            "type": "choropleth"
           }
          ],
          "contour": [
           {
            "colorbar": {
             "outlinewidth": 0,
             "ticks": ""
            },
            "colorscale": [
             [
              0,
              "#0d0887"
             ],
             [
              0.1111111111111111,
              "#46039f"
             ],
             [
              0.2222222222222222,
              "#7201a8"
             ],
             [
              0.3333333333333333,
              "#9c179e"
             ],
             [
              0.4444444444444444,
              "#bd3786"
             ],
             [
              0.5555555555555556,
              "#d8576b"
             ],
             [
              0.6666666666666666,
              "#ed7953"
             ],
             [
              0.7777777777777778,
              "#fb9f3a"
             ],
             [
              0.8888888888888888,
              "#fdca26"
             ],
             [
              1,
              "#f0f921"
             ]
            ],
            "type": "contour"
           }
          ],
          "contourcarpet": [
           {
            "colorbar": {
             "outlinewidth": 0,
             "ticks": ""
            },
            "type": "contourcarpet"
           }
          ],
          "heatmap": [
           {
            "colorbar": {
             "outlinewidth": 0,
             "ticks": ""
            },
            "colorscale": [
             [
              0,
              "#0d0887"
             ],
             [
              0.1111111111111111,
              "#46039f"
             ],
             [
              0.2222222222222222,
              "#7201a8"
             ],
             [
              0.3333333333333333,
              "#9c179e"
             ],
             [
              0.4444444444444444,
              "#bd3786"
             ],
             [
              0.5555555555555556,
              "#d8576b"
             ],
             [
              0.6666666666666666,
              "#ed7953"
             ],
             [
              0.7777777777777778,
              "#fb9f3a"
             ],
             [
              0.8888888888888888,
              "#fdca26"
             ],
             [
              1,
              "#f0f921"
             ]
            ],
            "type": "heatmap"
           }
          ],
          "heatmapgl": [
           {
            "colorbar": {
             "outlinewidth": 0,
             "ticks": ""
            },
            "colorscale": [
             [
              0,
              "#0d0887"
             ],
             [
              0.1111111111111111,
              "#46039f"
             ],
             [
              0.2222222222222222,
              "#7201a8"
             ],
             [
              0.3333333333333333,
              "#9c179e"
             ],
             [
              0.4444444444444444,
              "#bd3786"
             ],
             [
              0.5555555555555556,
              "#d8576b"
             ],
             [
              0.6666666666666666,
              "#ed7953"
             ],
             [
              0.7777777777777778,
              "#fb9f3a"
             ],
             [
              0.8888888888888888,
              "#fdca26"
             ],
             [
              1,
              "#f0f921"
             ]
            ],
            "type": "heatmapgl"
           }
          ],
          "histogram": [
           {
            "marker": {
             "pattern": {
              "fillmode": "overlay",
              "size": 10,
              "solidity": 0.2
             }
            },
            "type": "histogram"
           }
          ],
          "histogram2d": [
           {
            "colorbar": {
             "outlinewidth": 0,
             "ticks": ""
            },
            "colorscale": [
             [
              0,
              "#0d0887"
             ],
             [
              0.1111111111111111,
              "#46039f"
             ],
             [
              0.2222222222222222,
              "#7201a8"
             ],
             [
              0.3333333333333333,
              "#9c179e"
             ],
             [
              0.4444444444444444,
              "#bd3786"
             ],
             [
              0.5555555555555556,
              "#d8576b"
             ],
             [
              0.6666666666666666,
              "#ed7953"
             ],
             [
              0.7777777777777778,
              "#fb9f3a"
             ],
             [
              0.8888888888888888,
              "#fdca26"
             ],
             [
              1,
              "#f0f921"
             ]
            ],
            "type": "histogram2d"
           }
          ],
          "histogram2dcontour": [
           {
            "colorbar": {
             "outlinewidth": 0,
             "ticks": ""
            },
            "colorscale": [
             [
              0,
              "#0d0887"
             ],
             [
              0.1111111111111111,
              "#46039f"
             ],
             [
              0.2222222222222222,
              "#7201a8"
             ],
             [
              0.3333333333333333,
              "#9c179e"
             ],
             [
              0.4444444444444444,
              "#bd3786"
             ],
             [
              0.5555555555555556,
              "#d8576b"
             ],
             [
              0.6666666666666666,
              "#ed7953"
             ],
             [
              0.7777777777777778,
              "#fb9f3a"
             ],
             [
              0.8888888888888888,
              "#fdca26"
             ],
             [
              1,
              "#f0f921"
             ]
            ],
            "type": "histogram2dcontour"
           }
          ],
          "mesh3d": [
           {
            "colorbar": {
             "outlinewidth": 0,
             "ticks": ""
            },
            "type": "mesh3d"
           }
          ],
          "parcoords": [
           {
            "line": {
             "colorbar": {
              "outlinewidth": 0,
              "ticks": ""
             }
            },
            "type": "parcoords"
           }
          ],
          "pie": [
           {
            "automargin": true,
            "type": "pie"
           }
          ],
          "scatter": [
           {
            "marker": {
             "colorbar": {
              "outlinewidth": 0,
              "ticks": ""
             }
            },
            "type": "scatter"
           }
          ],
          "scatter3d": [
           {
            "line": {
             "colorbar": {
              "outlinewidth": 0,
              "ticks": ""
             }
            },
            "marker": {
             "colorbar": {
              "outlinewidth": 0,
              "ticks": ""
             }
            },
            "type": "scatter3d"
           }
          ],
          "scattercarpet": [
           {
            "marker": {
             "colorbar": {
              "outlinewidth": 0,
              "ticks": ""
             }
            },
            "type": "scattercarpet"
           }
          ],
          "scattergeo": [
           {
            "marker": {
             "colorbar": {
              "outlinewidth": 0,
              "ticks": ""
             }
            },
            "type": "scattergeo"
           }
          ],
          "scattergl": [
           {
            "marker": {
             "colorbar": {
              "outlinewidth": 0,
              "ticks": ""
             }
            },
            "type": "scattergl"
           }
          ],
          "scattermapbox": [
           {
            "marker": {
             "colorbar": {
              "outlinewidth": 0,
              "ticks": ""
             }
            },
            "type": "scattermapbox"
           }
          ],
          "scatterpolar": [
           {
            "marker": {
             "colorbar": {
              "outlinewidth": 0,
              "ticks": ""
             }
            },
            "type": "scatterpolar"
           }
          ],
          "scatterpolargl": [
           {
            "marker": {
             "colorbar": {
              "outlinewidth": 0,
              "ticks": ""
             }
            },
            "type": "scatterpolargl"
           }
          ],
          "scatterternary": [
           {
            "marker": {
             "colorbar": {
              "outlinewidth": 0,
              "ticks": ""
             }
            },
            "type": "scatterternary"
           }
          ],
          "surface": [
           {
            "colorbar": {
             "outlinewidth": 0,
             "ticks": ""
            },
            "colorscale": [
             [
              0,
              "#0d0887"
             ],
             [
              0.1111111111111111,
              "#46039f"
             ],
             [
              0.2222222222222222,
              "#7201a8"
             ],
             [
              0.3333333333333333,
              "#9c179e"
             ],
             [
              0.4444444444444444,
              "#bd3786"
             ],
             [
              0.5555555555555556,
              "#d8576b"
             ],
             [
              0.6666666666666666,
              "#ed7953"
             ],
             [
              0.7777777777777778,
              "#fb9f3a"
             ],
             [
              0.8888888888888888,
              "#fdca26"
             ],
             [
              1,
              "#f0f921"
             ]
            ],
            "type": "surface"
           }
          ],
          "table": [
           {
            "cells": {
             "fill": {
              "color": "#EBF0F8"
             },
             "line": {
              "color": "white"
             }
            },
            "header": {
             "fill": {
              "color": "#C8D4E3"
             },
             "line": {
              "color": "white"
             }
            },
            "type": "table"
           }
          ]
         },
         "layout": {
          "annotationdefaults": {
           "arrowcolor": "#2a3f5f",
           "arrowhead": 0,
           "arrowwidth": 1
          },
          "autotypenumbers": "strict",
          "coloraxis": {
           "colorbar": {
            "outlinewidth": 0,
            "ticks": ""
           }
          },
          "colorscale": {
           "diverging": [
            [
             0,
             "#8e0152"
            ],
            [
             0.1,
             "#c51b7d"
            ],
            [
             0.2,
             "#de77ae"
            ],
            [
             0.3,
             "#f1b6da"
            ],
            [
             0.4,
             "#fde0ef"
            ],
            [
             0.5,
             "#f7f7f7"
            ],
            [
             0.6,
             "#e6f5d0"
            ],
            [
             0.7,
             "#b8e186"
            ],
            [
             0.8,
             "#7fbc41"
            ],
            [
             0.9,
             "#4d9221"
            ],
            [
             1,
             "#276419"
            ]
           ],
           "sequential": [
            [
             0,
             "#0d0887"
            ],
            [
             0.1111111111111111,
             "#46039f"
            ],
            [
             0.2222222222222222,
             "#7201a8"
            ],
            [
             0.3333333333333333,
             "#9c179e"
            ],
            [
             0.4444444444444444,
             "#bd3786"
            ],
            [
             0.5555555555555556,
             "#d8576b"
            ],
            [
             0.6666666666666666,
             "#ed7953"
            ],
            [
             0.7777777777777778,
             "#fb9f3a"
            ],
            [
             0.8888888888888888,
             "#fdca26"
            ],
            [
             1,
             "#f0f921"
            ]
           ],
           "sequentialminus": [
            [
             0,
             "#0d0887"
            ],
            [
             0.1111111111111111,
             "#46039f"
            ],
            [
             0.2222222222222222,
             "#7201a8"
            ],
            [
             0.3333333333333333,
             "#9c179e"
            ],
            [
             0.4444444444444444,
             "#bd3786"
            ],
            [
             0.5555555555555556,
             "#d8576b"
            ],
            [
             0.6666666666666666,
             "#ed7953"
            ],
            [
             0.7777777777777778,
             "#fb9f3a"
            ],
            [
             0.8888888888888888,
             "#fdca26"
            ],
            [
             1,
             "#f0f921"
            ]
           ]
          },
          "colorway": [
           "#636efa",
           "#EF553B",
           "#00cc96",
           "#ab63fa",
           "#FFA15A",
           "#19d3f3",
           "#FF6692",
           "#B6E880",
           "#FF97FF",
           "#FECB52"
          ],
          "font": {
           "color": "#2a3f5f"
          },
          "geo": {
           "bgcolor": "white",
           "lakecolor": "white",
           "landcolor": "#E5ECF6",
           "showlakes": true,
           "showland": true,
           "subunitcolor": "white"
          },
          "hoverlabel": {
           "align": "left"
          },
          "hovermode": "closest",
          "mapbox": {
           "style": "light"
          },
          "paper_bgcolor": "white",
          "plot_bgcolor": "#E5ECF6",
          "polar": {
           "angularaxis": {
            "gridcolor": "white",
            "linecolor": "white",
            "ticks": ""
           },
           "bgcolor": "#E5ECF6",
           "radialaxis": {
            "gridcolor": "white",
            "linecolor": "white",
            "ticks": ""
           }
          },
          "scene": {
           "xaxis": {
            "backgroundcolor": "#E5ECF6",
            "gridcolor": "white",
            "gridwidth": 2,
            "linecolor": "white",
            "showbackground": true,
            "ticks": "",
            "zerolinecolor": "white"
           },
           "yaxis": {
            "backgroundcolor": "#E5ECF6",
            "gridcolor": "white",
            "gridwidth": 2,
            "linecolor": "white",
            "showbackground": true,
            "ticks": "",
            "zerolinecolor": "white"
           },
           "zaxis": {
            "backgroundcolor": "#E5ECF6",
            "gridcolor": "white",
            "gridwidth": 2,
            "linecolor": "white",
            "showbackground": true,
            "ticks": "",
            "zerolinecolor": "white"
           }
          },
          "shapedefaults": {
           "line": {
            "color": "#2a3f5f"
           }
          },
          "ternary": {
           "aaxis": {
            "gridcolor": "white",
            "linecolor": "white",
            "ticks": ""
           },
           "baxis": {
            "gridcolor": "white",
            "linecolor": "white",
            "ticks": ""
           },
           "bgcolor": "#E5ECF6",
           "caxis": {
            "gridcolor": "white",
            "linecolor": "white",
            "ticks": ""
           }
          },
          "title": {
           "x": 0.05
          },
          "xaxis": {
           "automargin": true,
           "gridcolor": "white",
           "linecolor": "white",
           "ticks": "",
           "title": {
            "standoff": 15
           },
           "zerolinecolor": "white",
           "zerolinewidth": 2
          },
          "yaxis": {
           "automargin": true,
           "gridcolor": "white",
           "linecolor": "white",
           "ticks": "",
           "title": {
            "standoff": 15
           },
           "zerolinecolor": "white",
           "zerolinewidth": 2
          }
         }
        },
        "title": {
         "text": "Tree Of Unique Words in Positive sentiment tweets"
        }
       }
      },
      "text/html": [
       "<div>                            <div id=\"e588fb24-eaba-4862-8195-e325e1c9abc7\" class=\"plotly-graph-div\" style=\"height:525px; width:100%;\"></div>            <script type=\"text/javascript\">                require([\"plotly\"], function(Plotly) {                    window.PLOTLYENV=window.PLOTLYENV || {};                                    if (document.getElementById(\"e588fb24-eaba-4862-8195-e325e1c9abc7\")) {                    Plotly.newPlot(                        \"e588fb24-eaba-4862-8195-e325e1c9abc7\",                        [{\"branchvalues\":\"total\",\"domain\":{\"x\":[0.0,1.0],\"y\":[0.0,1.0]},\"hovertemplate\":\"labels=%{label}<br>count=%{value}<br>parent=%{parent}<br>id=%{id}<extra></extra>\",\"ids\":[\"bebus\",\"carrd\",\"excel\",\"expert\",\"gamesesqu\",\"hac\",\"inch\",\"joy\",\"megast\",\"nerv\",\"outstand\",\"plaus\",\"prefer\",\"proud\",\"roe\",\"rout\",\"superb\",\"tragedy\",\"vault\",\"ven\"],\"labels\":[\"bebus\",\"carrd\",\"excel\",\"expert\",\"gamesesqu\",\"hac\",\"inch\",\"joy\",\"megast\",\"nerv\",\"outstand\",\"plaus\",\"prefer\",\"proud\",\"roe\",\"rout\",\"superb\",\"tragedy\",\"vault\",\"ven\"],\"name\":\"\",\"parents\":[\"\",\"\",\"\",\"\",\"\",\"\",\"\",\"\",\"\",\"\",\"\",\"\",\"\",\"\",\"\",\"\",\"\",\"\",\"\",\"\"],\"values\":[5,6,22,5,4,9,5,5,8,5,5,5,5,16,7,6,5,4,4,4],\"type\":\"treemap\"}],                        {\"template\":{\"data\":{\"bar\":[{\"error_x\":{\"color\":\"#2a3f5f\"},\"error_y\":{\"color\":\"#2a3f5f\"},\"marker\":{\"line\":{\"color\":\"#E5ECF6\",\"width\":0.5},\"pattern\":{\"fillmode\":\"overlay\",\"size\":10,\"solidity\":0.2}},\"type\":\"bar\"}],\"barpolar\":[{\"marker\":{\"line\":{\"color\":\"#E5ECF6\",\"width\":0.5},\"pattern\":{\"fillmode\":\"overlay\",\"size\":10,\"solidity\":0.2}},\"type\":\"barpolar\"}],\"carpet\":[{\"aaxis\":{\"endlinecolor\":\"#2a3f5f\",\"gridcolor\":\"white\",\"linecolor\":\"white\",\"minorgridcolor\":\"white\",\"startlinecolor\":\"#2a3f5f\"},\"baxis\":{\"endlinecolor\":\"#2a3f5f\",\"gridcolor\":\"white\",\"linecolor\":\"white\",\"minorgridcolor\":\"white\",\"startlinecolor\":\"#2a3f5f\"},\"type\":\"carpet\"}],\"choropleth\":[{\"colorbar\":{\"outlinewidth\":0,\"ticks\":\"\"},\"type\":\"choropleth\"}],\"contour\":[{\"colorbar\":{\"outlinewidth\":0,\"ticks\":\"\"},\"colorscale\":[[0.0,\"#0d0887\"],[0.1111111111111111,\"#46039f\"],[0.2222222222222222,\"#7201a8\"],[0.3333333333333333,\"#9c179e\"],[0.4444444444444444,\"#bd3786\"],[0.5555555555555556,\"#d8576b\"],[0.6666666666666666,\"#ed7953\"],[0.7777777777777778,\"#fb9f3a\"],[0.8888888888888888,\"#fdca26\"],[1.0,\"#f0f921\"]],\"type\":\"contour\"}],\"contourcarpet\":[{\"colorbar\":{\"outlinewidth\":0,\"ticks\":\"\"},\"type\":\"contourcarpet\"}],\"heatmap\":[{\"colorbar\":{\"outlinewidth\":0,\"ticks\":\"\"},\"colorscale\":[[0.0,\"#0d0887\"],[0.1111111111111111,\"#46039f\"],[0.2222222222222222,\"#7201a8\"],[0.3333333333333333,\"#9c179e\"],[0.4444444444444444,\"#bd3786\"],[0.5555555555555556,\"#d8576b\"],[0.6666666666666666,\"#ed7953\"],[0.7777777777777778,\"#fb9f3a\"],[0.8888888888888888,\"#fdca26\"],[1.0,\"#f0f921\"]],\"type\":\"heatmap\"}],\"heatmapgl\":[{\"colorbar\":{\"outlinewidth\":0,\"ticks\":\"\"},\"colorscale\":[[0.0,\"#0d0887\"],[0.1111111111111111,\"#46039f\"],[0.2222222222222222,\"#7201a8\"],[0.3333333333333333,\"#9c179e\"],[0.4444444444444444,\"#bd3786\"],[0.5555555555555556,\"#d8576b\"],[0.6666666666666666,\"#ed7953\"],[0.7777777777777778,\"#fb9f3a\"],[0.8888888888888888,\"#fdca26\"],[1.0,\"#f0f921\"]],\"type\":\"heatmapgl\"}],\"histogram\":[{\"marker\":{\"pattern\":{\"fillmode\":\"overlay\",\"size\":10,\"solidity\":0.2}},\"type\":\"histogram\"}],\"histogram2d\":[{\"colorbar\":{\"outlinewidth\":0,\"ticks\":\"\"},\"colorscale\":[[0.0,\"#0d0887\"],[0.1111111111111111,\"#46039f\"],[0.2222222222222222,\"#7201a8\"],[0.3333333333333333,\"#9c179e\"],[0.4444444444444444,\"#bd3786\"],[0.5555555555555556,\"#d8576b\"],[0.6666666666666666,\"#ed7953\"],[0.7777777777777778,\"#fb9f3a\"],[0.8888888888888888,\"#fdca26\"],[1.0,\"#f0f921\"]],\"type\":\"histogram2d\"}],\"histogram2dcontour\":[{\"colorbar\":{\"outlinewidth\":0,\"ticks\":\"\"},\"colorscale\":[[0.0,\"#0d0887\"],[0.1111111111111111,\"#46039f\"],[0.2222222222222222,\"#7201a8\"],[0.3333333333333333,\"#9c179e\"],[0.4444444444444444,\"#bd3786\"],[0.5555555555555556,\"#d8576b\"],[0.6666666666666666,\"#ed7953\"],[0.7777777777777778,\"#fb9f3a\"],[0.8888888888888888,\"#fdca26\"],[1.0,\"#f0f921\"]],\"type\":\"histogram2dcontour\"}],\"mesh3d\":[{\"colorbar\":{\"outlinewidth\":0,\"ticks\":\"\"},\"type\":\"mesh3d\"}],\"parcoords\":[{\"line\":{\"colorbar\":{\"outlinewidth\":0,\"ticks\":\"\"}},\"type\":\"parcoords\"}],\"pie\":[{\"automargin\":true,\"type\":\"pie\"}],\"scatter\":[{\"marker\":{\"colorbar\":{\"outlinewidth\":0,\"ticks\":\"\"}},\"type\":\"scatter\"}],\"scatter3d\":[{\"line\":{\"colorbar\":{\"outlinewidth\":0,\"ticks\":\"\"}},\"marker\":{\"colorbar\":{\"outlinewidth\":0,\"ticks\":\"\"}},\"type\":\"scatter3d\"}],\"scattercarpet\":[{\"marker\":{\"colorbar\":{\"outlinewidth\":0,\"ticks\":\"\"}},\"type\":\"scattercarpet\"}],\"scattergeo\":[{\"marker\":{\"colorbar\":{\"outlinewidth\":0,\"ticks\":\"\"}},\"type\":\"scattergeo\"}],\"scattergl\":[{\"marker\":{\"colorbar\":{\"outlinewidth\":0,\"ticks\":\"\"}},\"type\":\"scattergl\"}],\"scattermapbox\":[{\"marker\":{\"colorbar\":{\"outlinewidth\":0,\"ticks\":\"\"}},\"type\":\"scattermapbox\"}],\"scatterpolar\":[{\"marker\":{\"colorbar\":{\"outlinewidth\":0,\"ticks\":\"\"}},\"type\":\"scatterpolar\"}],\"scatterpolargl\":[{\"marker\":{\"colorbar\":{\"outlinewidth\":0,\"ticks\":\"\"}},\"type\":\"scatterpolargl\"}],\"scatterternary\":[{\"marker\":{\"colorbar\":{\"outlinewidth\":0,\"ticks\":\"\"}},\"type\":\"scatterternary\"}],\"surface\":[{\"colorbar\":{\"outlinewidth\":0,\"ticks\":\"\"},\"colorscale\":[[0.0,\"#0d0887\"],[0.1111111111111111,\"#46039f\"],[0.2222222222222222,\"#7201a8\"],[0.3333333333333333,\"#9c179e\"],[0.4444444444444444,\"#bd3786\"],[0.5555555555555556,\"#d8576b\"],[0.6666666666666666,\"#ed7953\"],[0.7777777777777778,\"#fb9f3a\"],[0.8888888888888888,\"#fdca26\"],[1.0,\"#f0f921\"]],\"type\":\"surface\"}],\"table\":[{\"cells\":{\"fill\":{\"color\":\"#EBF0F8\"},\"line\":{\"color\":\"white\"}},\"header\":{\"fill\":{\"color\":\"#C8D4E3\"},\"line\":{\"color\":\"white\"}},\"type\":\"table\"}]},\"layout\":{\"annotationdefaults\":{\"arrowcolor\":\"#2a3f5f\",\"arrowhead\":0,\"arrowwidth\":1},\"autotypenumbers\":\"strict\",\"coloraxis\":{\"colorbar\":{\"outlinewidth\":0,\"ticks\":\"\"}},\"colorscale\":{\"diverging\":[[0,\"#8e0152\"],[0.1,\"#c51b7d\"],[0.2,\"#de77ae\"],[0.3,\"#f1b6da\"],[0.4,\"#fde0ef\"],[0.5,\"#f7f7f7\"],[0.6,\"#e6f5d0\"],[0.7,\"#b8e186\"],[0.8,\"#7fbc41\"],[0.9,\"#4d9221\"],[1,\"#276419\"]],\"sequential\":[[0.0,\"#0d0887\"],[0.1111111111111111,\"#46039f\"],[0.2222222222222222,\"#7201a8\"],[0.3333333333333333,\"#9c179e\"],[0.4444444444444444,\"#bd3786\"],[0.5555555555555556,\"#d8576b\"],[0.6666666666666666,\"#ed7953\"],[0.7777777777777778,\"#fb9f3a\"],[0.8888888888888888,\"#fdca26\"],[1.0,\"#f0f921\"]],\"sequentialminus\":[[0.0,\"#0d0887\"],[0.1111111111111111,\"#46039f\"],[0.2222222222222222,\"#7201a8\"],[0.3333333333333333,\"#9c179e\"],[0.4444444444444444,\"#bd3786\"],[0.5555555555555556,\"#d8576b\"],[0.6666666666666666,\"#ed7953\"],[0.7777777777777778,\"#fb9f3a\"],[0.8888888888888888,\"#fdca26\"],[1.0,\"#f0f921\"]]},\"colorway\":[\"#636efa\",\"#EF553B\",\"#00cc96\",\"#ab63fa\",\"#FFA15A\",\"#19d3f3\",\"#FF6692\",\"#B6E880\",\"#FF97FF\",\"#FECB52\"],\"font\":{\"color\":\"#2a3f5f\"},\"geo\":{\"bgcolor\":\"white\",\"lakecolor\":\"white\",\"landcolor\":\"#E5ECF6\",\"showlakes\":true,\"showland\":true,\"subunitcolor\":\"white\"},\"hoverlabel\":{\"align\":\"left\"},\"hovermode\":\"closest\",\"mapbox\":{\"style\":\"light\"},\"paper_bgcolor\":\"white\",\"plot_bgcolor\":\"#E5ECF6\",\"polar\":{\"angularaxis\":{\"gridcolor\":\"white\",\"linecolor\":\"white\",\"ticks\":\"\"},\"bgcolor\":\"#E5ECF6\",\"radialaxis\":{\"gridcolor\":\"white\",\"linecolor\":\"white\",\"ticks\":\"\"}},\"scene\":{\"xaxis\":{\"backgroundcolor\":\"#E5ECF6\",\"gridcolor\":\"white\",\"gridwidth\":2,\"linecolor\":\"white\",\"showbackground\":true,\"ticks\":\"\",\"zerolinecolor\":\"white\"},\"yaxis\":{\"backgroundcolor\":\"#E5ECF6\",\"gridcolor\":\"white\",\"gridwidth\":2,\"linecolor\":\"white\",\"showbackground\":true,\"ticks\":\"\",\"zerolinecolor\":\"white\"},\"zaxis\":{\"backgroundcolor\":\"#E5ECF6\",\"gridcolor\":\"white\",\"gridwidth\":2,\"linecolor\":\"white\",\"showbackground\":true,\"ticks\":\"\",\"zerolinecolor\":\"white\"}},\"shapedefaults\":{\"line\":{\"color\":\"#2a3f5f\"}},\"ternary\":{\"aaxis\":{\"gridcolor\":\"white\",\"linecolor\":\"white\",\"ticks\":\"\"},\"baxis\":{\"gridcolor\":\"white\",\"linecolor\":\"white\",\"ticks\":\"\"},\"bgcolor\":\"#E5ECF6\",\"caxis\":{\"gridcolor\":\"white\",\"linecolor\":\"white\",\"ticks\":\"\"}},\"title\":{\"x\":0.05},\"xaxis\":{\"automargin\":true,\"gridcolor\":\"white\",\"linecolor\":\"white\",\"ticks\":\"\",\"title\":{\"standoff\":15},\"zerolinecolor\":\"white\",\"zerolinewidth\":2},\"yaxis\":{\"automargin\":true,\"gridcolor\":\"white\",\"linecolor\":\"white\",\"ticks\":\"\",\"title\":{\"standoff\":15},\"zerolinecolor\":\"white\",\"zerolinewidth\":2}}},\"legend\":{\"tracegroupgap\":0},\"title\":{\"text\":\"Tree Of Unique Words in Positive sentiment tweets\"}},                        {\"responsive\": true}                    ).then(function(){\n",
       "                            \n",
       "var gd = document.getElementById('e588fb24-eaba-4862-8195-e325e1c9abc7');\n",
       "var x = new MutationObserver(function (mutations, observer) {{\n",
       "        var display = window.getComputedStyle(gd).display;\n",
       "        if (!display || display === 'none') {{\n",
       "            console.log([gd, 'removed!']);\n",
       "            Plotly.purge(gd);\n",
       "            observer.disconnect();\n",
       "        }}\n",
       "}});\n",
       "\n",
       "// Listen for the removal of the full notebook cells\n",
       "var notebookContainer = gd.closest('#notebook-container');\n",
       "if (notebookContainer) {{\n",
       "    x.observe(notebookContainer, {childList: true});\n",
       "}}\n",
       "\n",
       "// Listen for the clearing of the current output cell\n",
       "var outputEl = gd.closest('.output');\n",
       "if (outputEl) {{\n",
       "    x.observe(outputEl, {childList: true});\n",
       "}}\n",
       "\n",
       "                        })                };                });            </script>        </div>"
      ]
     },
     "metadata": {},
     "output_type": "display_data"
    }
   ],
   "source": [
    "import plotly.express as px\n",
    "fig = px.treemap(Unique_Positive, path=['words'], values='count',title='Tree Of Unique Words in Positive sentiment tweets')\n",
    "fig.show()"
   ]
  },
  {
   "cell_type": "code",
   "execution_count": null,
   "id": "0c7ecc55",
   "metadata": {},
   "outputs": [],
   "source": []
  },
  {
   "cell_type": "code",
   "execution_count": 26,
   "id": "c540f275",
   "metadata": {},
   "outputs": [
    {
     "name": "stdout",
     "output_type": "stream",
     "text": [
      "Requirement already satisfied: WordCloud in c:\\users\\ayoba\\anaconda3\\lib\\site-packages (1.8.2.2)Note: you may need to restart the kernel to use updated packages.\n",
      "\n",
      "Requirement already satisfied: numpy>=1.6.1 in c:\\users\\ayoba\\anaconda3\\lib\\site-packages (from WordCloud) (1.22.4)\n",
      "Requirement already satisfied: pillow in c:\\users\\ayoba\\anaconda3\\lib\\site-packages (from WordCloud) (9.0.1)\n",
      "Requirement already satisfied: matplotlib in c:\\users\\ayoba\\anaconda3\\lib\\site-packages (from WordCloud) (3.5.1)\n",
      "Requirement already satisfied: pyparsing>=2.2.1 in c:\\users\\ayoba\\anaconda3\\lib\\site-packages (from matplotlib->WordCloud) (3.0.4)\n",
      "Requirement already satisfied: fonttools>=4.22.0 in c:\\users\\ayoba\\anaconda3\\lib\\site-packages (from matplotlib->WordCloud) (4.25.0)\n",
      "Requirement already satisfied: packaging>=20.0 in c:\\users\\ayoba\\anaconda3\\lib\\site-packages (from matplotlib->WordCloud) (21.3)\n",
      "Requirement already satisfied: kiwisolver>=1.0.1 in c:\\users\\ayoba\\anaconda3\\lib\\site-packages (from matplotlib->WordCloud) (1.3.2)\n",
      "Requirement already satisfied: python-dateutil>=2.7 in c:\\users\\ayoba\\anaconda3\\lib\\site-packages (from matplotlib->WordCloud) (2.8.2)\n",
      "Requirement already satisfied: cycler>=0.10 in c:\\users\\ayoba\\anaconda3\\lib\\site-packages (from matplotlib->WordCloud) (0.11.0)\n",
      "Requirement already satisfied: six>=1.5 in c:\\users\\ayoba\\anaconda3\\lib\\site-packages (from python-dateutil>=2.7->matplotlib->WordCloud) (1.16.0)\n"
     ]
    }
   ],
   "source": [
    "pip install WordCloud"
   ]
  },
  {
   "cell_type": "code",
   "execution_count": 56,
   "id": "ee720662",
   "metadata": {},
   "outputs": [],
   "source": [
    "from wordcloud import WordCloud,STOPWORDS"
   ]
  },
  {
   "cell_type": "code",
   "execution_count": 65,
   "id": "6243ab0f",
   "metadata": {},
   "outputs": [
    {
     "data": {
      "image/png": "[encoded data removed]",
      "text/plain": [
       "<Figure size 432x288 with 1 Axes>"
      ]
     },
     "metadata": {
      "needs_background": "light"
     },
     "output_type": "display_data"
    }
   ],
   "source": [
    "df1 = squid_data[squid_data['Sentiment']=='Positive']\n",
    "words = ' '.join(df1['cleaned_tweet'].astype(str))\n",
    "cleaned_word = ' '.join([word for word in words.split() if not word.startswith('@')])\n",
    "\n",
    "wordcloud = WordCloud(background_color='white',stopwords=STOPWORDS,\n",
    "                      width=9000, height=5500).generate(''.join(cleaned_word))\n",
    "plt.imshow(wordcloud,interpolation='bilinear')\n",
    "#plt.figure(figsize=(6,6))\n",
    "plt.axis('off')\n",
    "plt.show()"
   ]
  },
  {
   "cell_type": "code",
   "execution_count": 66,
   "id": "66fec99b",
   "metadata": {},
   "outputs": [
    {
     "data": {
      "image/png": "[encoded data removed]",
      "text/plain": [
       "<Figure size 432x288 with 1 Axes>"
      ]
     },
     "metadata": {
      "needs_background": "light"
     },
     "output_type": "display_data"
    }
   ],
   "source": [
    "df2 = squid_data[squid_data['Sentiment']=='Negative']\n",
    "words = ' '.join(df2['cleaned_tweet'].astype(str))\n",
    "cleaned_word = ' '.join([word for word in words.split() if not word.startswith('@')])\n",
    "\n",
    "wordcloud = WordCloud(background_color='white',stopwords=STOPWORDS,\n",
    "                      width=9000, height=5500).generate(''.join(cleaned_word))\n",
    "plt.imshow(wordcloud,interpolation='bilinear')\n",
    "plt.axis('off')\n",
    "plt.show()"
   ]
  },
  {
   "cell_type": "code",
   "execution_count": 79,
   "id": "cb40d838",
   "metadata": {},
   "outputs": [],
   "source": [
    "uk_squid = squid_data.to_excel('new_cleaned_data_allsquid.xlsx')"
   ]
  },
  {
   "cell_type": "code",
   "execution_count": null,
   "id": "6ce5f7b7",
   "metadata": {},
   "outputs": [],
   "source": []
  }
 ],
 "metadata": {
  "kernelspec": {
   "display_name": "Python 3 (ipykernel)",
   "language": "python",
   "name": "python3"
  },
  "language_info": {
   "codemirror_mode": {
    "name": "ipython",
    "version": 3
   },
   "file_extension": ".py",
   "mimetype": "text/x-python",
   "name": "python",
   "nbconvert_exporter": "python",
   "pygments_lexer": "ipython3",
   "version": "3.9.12"
  }
 },
 "nbformat": 4,
 "nbformat_minor": 5
}
