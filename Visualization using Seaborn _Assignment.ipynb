{
 "cells": [
  {
   "attachments": {
    "careerera_logo.png": {
     "image/png": "[encoded data removed]"
    }
   },
   "cell_type": "markdown",
   "id": "5fff909a",
   "metadata": {},
   "source": [
    "![careerera_logo.png](attachment:careerera_logo.png)"
   ]
  },
  {
   "cell_type": "markdown",
   "id": "51f1c748",
   "metadata": {},
   "source": [
    "# <span style=\"color:blue\">SEABORN ASSIGNMENT QUESTIONS</span>"
   ]
  },
  {
   "cell_type": "markdown",
   "id": "f7ab29cd",
   "metadata": {},
   "source": [
    "##### Sample Dataset: Download dataset from : https://www.kaggle.com/code/dronax/car-prices-dataset\n",
    "Using seaborn library perfom the following tasks in question 1 to question 7."
   ]
  },
  {
   "cell_type": "markdown",
   "id": "e4e6c7b4",
   "metadata": {},
   "source": [
    "**Question 1: Write a Python code to create dataframe from the given dataset.**\n"
   ]
  },
  {
   "cell_type": "code",
   "execution_count": null,
   "id": "c58bd70c",
   "metadata": {},
   "outputs": [],
   "source": [
    "#write your code here............"
   ]
  },
  {
   "cell_type": "markdown",
   "id": "563b5a63",
   "metadata": {},
   "source": [
    "**Question 2: Write a Python code to create box plot of Dependent variable in the given dataset.**\n"
   ]
  },
  {
   "cell_type": "code",
   "execution_count": null,
   "id": "42736725",
   "metadata": {},
   "outputs": [],
   "source": [
    "#write your code here............"
   ]
  },
  {
   "cell_type": "markdown",
   "id": "2a2e9f46",
   "metadata": {},
   "source": [
    "**Question 3.Create scatter plot between \"highwaympg\" Vs \"price\", \"wheelbase\" Vs \"price\", \"curbweight\" Vs \"price\", and \"boreratiofeatures\" Vs \"price\"**"
   ]
  },
  {
   "cell_type": "code",
   "execution_count": null,
   "id": "3adcb9ac",
   "metadata": {},
   "outputs": [],
   "source": [
    "#write your code here............"
   ]
  },
  {
   "cell_type": "markdown",
   "id": "0c1a8c9f",
   "metadata": {},
   "source": [
    "**Question 4: Using given dataset: (i) Plot Bar chart for categorical features, and (ii) Plot histogram for numeric variables.**"
   ]
  },
  {
   "cell_type": "code",
   "execution_count": null,
   "id": "90f20a0a",
   "metadata": {},
   "outputs": [],
   "source": [
    "#write your code here............"
   ]
  },
  {
   "cell_type": "markdown",
   "id": "9b7f8e27",
   "metadata": {},
   "source": [
    "**Question 5: Using given dataset create Joint plot for (i) enginesize and price, and (ii) citympg and price.**"
   ]
  },
  {
   "cell_type": "code",
   "execution_count": null,
   "id": "ca9fdded",
   "metadata": {},
   "outputs": [],
   "source": [
    "#write your code here............"
   ]
  },
  {
   "cell_type": "markdown",
   "id": "4c4751e4",
   "metadata": {},
   "source": [
    "**Question 6: Using given dataset create violin plot for Price VS carlength - carwidth - carheight**"
   ]
  },
  {
   "cell_type": "code",
   "execution_count": null,
   "id": "0ba3b5e1",
   "metadata": {},
   "outputs": [],
   "source": [
    "#write your code here............"
   ]
  },
  {
   "cell_type": "markdown",
   "id": "ee494f5e",
   "metadata": {},
   "source": [
    "**Question 7: Using given dataset create heatmp**"
   ]
  },
  {
   "cell_type": "code",
   "execution_count": null,
   "id": "1e5e6ddb",
   "metadata": {},
   "outputs": [],
   "source": [
    "#write your code here............"
   ]
  }
 ],
 "metadata": {
  "kernelspec": {
   "display_name": "Python 3 (ipykernel)",
   "language": "python",
   "name": "python3"
  },
  "language_info": {
   "codemirror_mode": {
    "name": "ipython",
    "version": 3
   },
   "file_extension": ".py",
   "mimetype": "text/x-python",
   "name": "python",
   "nbconvert_exporter": "python",
   "pygments_lexer": "ipython3",
   "version": "3.9.12"
  }
 },
 "nbformat": 4,
 "nbformat_minor": 5
}
